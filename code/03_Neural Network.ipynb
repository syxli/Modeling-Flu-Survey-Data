{
 "cells": [
  {
   "cell_type": "markdown",
   "id": "e0e01fd5",
   "metadata": {},
   "source": [
    "<img src=\"https://m1.quebecormedia.com/emp/emp/bender8175858f-7dbd-4927-85c5-85557e800b98_ORIGINAL.jpg?impolicy=crop-resize&x=0&y=0&w=1000&h=745&width=925&height=925\" style=\"float: left; margin: 30px; height: 75px\">\n",
    "\n",
    "# Predicting H1N1 and Seasonal Flu Vaccination\n",
    "\n",
    "## Neural Network Model \n",
    "### Lavanya Acharya , Katrin Ayrapetov, Sean Li\n",
    "\n",
    "\n",
    "<font style=\"font-size: 2rem; color: blue\">\n",
    "\n",
    "\n",
    " \n",
    "</font>"
   ]
  },
  {
   "cell_type": "code",
   "execution_count": 59,
   "id": "db9f0369",
   "metadata": {},
   "outputs": [],
   "source": [
    "import pandas as pd\n",
    "import numpy as np \n",
    "import matplotlib.pyplot as plt\n",
    "import seaborn as sns"
   ]
  },
  {
   "cell_type": "code",
   "execution_count": 60,
   "id": "8d628c45",
   "metadata": {},
   "outputs": [],
   "source": [
    "import warnings\n",
    "warnings.filterwarnings('ignore')"
   ]
  },
  {
   "cell_type": "code",
   "execution_count": 61,
   "id": "64cd51e3",
   "metadata": {},
   "outputs": [],
   "source": [
    "import os\n",
    "import gc\n",
    "import joblib\n",
    "import pandas as pd\n",
    "import numpy as np\n",
    "from sklearn import metrics, preprocessing\n",
    "from tensorflow.keras import layers\n",
    "from tensorflow.keras import optimizers\n",
    "from tensorflow.keras.models import Model, load_model\n",
    "from tensorflow.keras import callbacks\n",
    "from tensorflow.keras import backend as K\n",
    "from tensorflow.keras import utils"
   ]
  },
  {
   "cell_type": "code",
   "execution_count": 62,
   "id": "00f738ae",
   "metadata": {},
   "outputs": [],
   "source": [
    "from sklearn import preprocessing"
   ]
  },
  {
   "cell_type": "code",
   "execution_count": 63,
   "id": "ce290465",
   "metadata": {},
   "outputs": [],
   "source": [
    "from sklearn import model_selection"
   ]
  },
  {
   "cell_type": "markdown",
   "id": "71366549",
   "metadata": {},
   "source": [
    "<font style=\"font-size: 2rem; color: blue\">\n",
    "\n",
    "Predicting H1N1 Flu Vaccinations \n",
    "   \n",
    " \n",
    "</font>"
   ]
  },
  {
   "cell_type": "code",
   "execution_count": 94,
   "id": "9a53558a",
   "metadata": {},
   "outputs": [],
   "source": [
    "#This is the training data provided by DrivenData.com\n",
    "df = pd.read_csv(\"../data/train_clean.csv\")\n",
    "df.drop(columns=[\"respondent_id\"],inplace=True)\n",
    "#This is the test data provided by DrivenData.com\n",
    "df_submit = pd.read_csv(\"../data/submissions_data_clean.csv\")\n",
    "ids = df_submit.respondent_id.values\n",
    "df_submit.drop(columns=[\"respondent_id\"],inplace=True)"
   ]
  },
  {
   "cell_type": "code",
   "execution_count": 95,
   "id": "b77c1289",
   "metadata": {},
   "outputs": [],
   "source": [
    "#Make 1 : Did not get the vaccine 0 : Did get the vaccine for both H1N1 and Seasonal Vaccine Data \n",
    "\n",
    "df['h1n1_vaccine'] = np.where(df['h1n1_vaccine'] == 1, 0, 1)\n"
   ]
  },
  {
   "cell_type": "code",
   "execution_count": 96,
   "id": "8902f93e",
   "metadata": {},
   "outputs": [],
   "source": [
    "#initiate the kfold class from model_selection module\n",
    "#The folds are made by preserving the percentage of samples for each class.\n",
    "kf = model_selection.StratifiedKFold(n_splits=5)"
   ]
  },
  {
   "cell_type": "code",
   "execution_count": 97,
   "id": "03f10429",
   "metadata": {},
   "outputs": [],
   "source": [
    "#Create a column to hold kfold labels \n",
    "df[\"kfold\"] = -1"
   ]
  },
  {
   "cell_type": "code",
   "execution_count": 98,
   "id": "0241148f",
   "metadata": {},
   "outputs": [],
   "source": [
    "#Reshuffle the rows. \n",
    "df = df.sample(frac=1).reset_index(drop=True)"
   ]
  },
  {
   "cell_type": "code",
   "execution_count": 99,
   "id": "8e4aaac9",
   "metadata": {},
   "outputs": [],
   "source": [
    "#Create a target variable vector. \n",
    "y = df.h1n1_vaccine.values"
   ]
  },
  {
   "cell_type": "code",
   "execution_count": 100,
   "id": "36146cce",
   "metadata": {},
   "outputs": [],
   "source": [
    "for f, (t_,v_) in enumerate(kf.split(X=df,y=y)):\n",
    "    df.loc[v_,\"kfold\"] = f"
   ]
  },
  {
   "cell_type": "code",
   "execution_count": 101,
   "id": "6a947aa2",
   "metadata": {},
   "outputs": [],
   "source": [
    "# This function creates the Neural Network model using Entity embedding. \n",
    "def create_model(data, catcols):\n",
    "    inputs = []\n",
    "    outputs = []\n",
    "    for c in catcols:\n",
    "        num_unique_values = int(data[c].nunique())\n",
    "        embed_dim = int(min(np.ceil((num_unique_values)/2), 50))\n",
    "        inp = layers.Input(shape=(1,))\n",
    "        out = layers.Embedding(num_unique_values + 1, embed_dim, name=c)(inp)\n",
    "        out = layers.SpatialDropout1D(0.3)(out)\n",
    "        out = layers.Reshape(target_shape=(embed_dim, ))(out)\n",
    "        inputs.append(inp)\n",
    "        outputs.append(out)\n",
    "    x = layers.Concatenate()(outputs)\n",
    "    x = layers.BatchNormalization()(x)\n",
    "    x = layers.Dense(45, activation=\"relu\")(x)\n",
    "    x = layers.Dropout(0.3)(x)\n",
    "    x = layers.BatchNormalization()(x)\n",
    "    x = layers.Dense(45, activation=\"relu\")(x)\n",
    "    x = layers.Dropout(0.3)(x)\n",
    "    x = layers.BatchNormalization()(x)\n",
    "    y = layers.Dense(2, activation=\"softmax\")(x)\n",
    "    model = Model(inputs=inputs, outputs=y)\n",
    "    model.compile(loss='binary_crossentropy', optimizer='adam')\n",
    "    return model"
   ]
  },
  {
   "cell_type": "code",
   "execution_count": 102,
   "id": "39ad1f78",
   "metadata": {},
   "outputs": [],
   "source": [
    "# This function label encodes categorical features. It fits the training data with a model. \n",
    "# then uses the model to make predictions on the submissions data set. \n",
    "def fit_model_h1n1(fold):\n",
    "     #create a list of just the categorical variables\n",
    "    features = [f for f in df.columns if f not in ('household_adults','household_children','h1n1_vaccine', 'seasonal_vaccine', 'kfold')]\n",
    "    #convert the categorical variables to strings\n",
    "    for col in features:\n",
    "        df.loc[:,col] = df[col].astype(str)  \n",
    "    #Use label encoder on categorical features. \n",
    "    for feat in features:\n",
    "        lbl_enc = preprocessing.LabelEncoder()\n",
    "        df.loc[:,feat]=lbl_enc.fit_transform(df[feat].values)\n",
    "     #convert the categorical variables to strings   \n",
    "    for col in features:\n",
    "        df_submit.loc[:,col] = df_submit[col].astype(str)\n",
    "    #Use label encoder on categorical features. \n",
    "    for feat in features:\n",
    "        lbl_enc_submit = preprocessing.LabelEncoder()\n",
    "        df_submit.loc[:,feat]=lbl_enc_submit.fit_transform(df_submit[feat].values)\n",
    "        \n",
    "        \n",
    "    #Hold one of the five folds as validation set and four folds as training sets \n",
    "    df_train = df[df.kfold != fold].reset_index(drop=True)\n",
    "    df_valid = df[df.kfold == fold].reset_index(drop=True)\n",
    "    model = create_model(df,features)\n",
    "    # Features \n",
    "    xtrain = [\n",
    "     df_train[features].values[:, k] for k in range(len(features))\n",
    "    ]\n",
    "    xvalid = [\n",
    "    df_valid[features].values[:, k] for k in range(len(features))\n",
    "    ]\n",
    "    x_whole_train = [\n",
    "    df[features].values[:, k] for k in range(len(features))\n",
    "    ]\n",
    "    xsubmit = [\n",
    "    df_submit[features].values[:, k] for k in range(len(features))\n",
    "    ]\n",
    "    # get target columns\n",
    "    ytrain = df_train.h1n1_vaccine.values\n",
    "    yvalid = df_valid.h1n1_vaccine.values\n",
    "    \n",
    "    # convert target columns to categories\n",
    "\n",
    "    ytrain_cat = utils.to_categorical(ytrain)\n",
    "    yvalid_cat = utils.to_categorical(yvalid)\n",
    "    \n",
    "    # fit the model\n",
    "    model.fit(xtrain,\n",
    "    ytrain_cat,\n",
    "    validation_data=(xvalid, yvalid_cat),\n",
    "    verbose=0,\n",
    "    batch_size=32,\n",
    "    epochs=100)\n",
    "    \n",
    "    valid_preds = model.predict(xvalid)[:, 1]\n",
    "    train_whole_pred_h1n1 = model.predict(x_whole_train)[:,1]\n",
    "    submission_pred_h1n1 = model.predict(xsubmit)[:,1]\n",
    "    auc = metrics.roc_auc_score(yvalid, valid_preds)\n",
    "    print(f\"For fold = {fold}, AUC = {auc}\")\n",
    "    # The output is the predictor vector for the training data set and for the submission data set. \n",
    "    return train_whole_pred_h1n1, submission_pred_h1n1\n"
   ]
  },
  {
   "cell_type": "markdown",
   "id": "19324f48",
   "metadata": {},
   "source": [
    "<font style=\"font-size: 2rem; color: blue\">\n",
    "\n",
    "Results for predicting Seasonal Flu Vaccine . \n",
    "   \n",
    "   \n",
    " \n",
    "</font>"
   ]
  },
  {
   "cell_type": "code",
   "execution_count": 104,
   "id": "dd5f850c",
   "metadata": {},
   "outputs": [
    {
     "name": "stdout",
     "output_type": "stream",
     "text": [
      "The Neural Network results for predicting H1N1 Flu\n",
      "For fold = 1, AUC = 0.86089431396592\n"
     ]
    }
   ],
   "source": [
    "print(\"The Neural Network results for predicting H1N1 Flu\")\n",
    "train_whole_pred_h1n1, submission_pred_h1n1 = fit_model_h1n1(1)"
   ]
  },
  {
   "cell_type": "code",
   "execution_count": 93,
   "id": "ae86da55",
   "metadata": {},
   "outputs": [
    {
     "name": "stdout",
     "output_type": "stream",
     "text": [
      "0.28842625528887555\n",
      "0.8808600634473035\n",
      "0.21426734116436594\n"
     ]
    }
   ],
   "source": [
    "#Get the accuracy, recall and precision scores for the H1N1 predictions. \n",
    "\n",
    "accuracy_h1n1 = metrics.accuracy_score(df_train_results_.true_h1n1.values,df_train_results_.estimated_h1n1_class.values)\n",
    "print(accuracy_h1n1)\n",
    "\n",
    "recall_h1n1 = metrics.recall_score(df_train_results_.true_h1n1.values,df_train_results_.estimated_h1n1_class.values)\n",
    "print(recall_h1n1)\n",
    "precision_h1n1 = metrics.precision_score(df_train_results_.true_h1n1.values,df_train_results_.estimated_h1n1_class.values)\n",
    "print(precision_h1n1)"
   ]
  },
  {
   "cell_type": "markdown",
   "id": "af5a97c2",
   "metadata": {},
   "source": [
    "<font style=\"font-size: 2rem; color: blue\">\n",
    "\n",
    "Predicting Seasonal Flu Vaccinations \n",
    "   \n",
    " \n",
    "</font>"
   ]
  },
  {
   "cell_type": "code",
   "execution_count": 74,
   "id": "1482c003",
   "metadata": {},
   "outputs": [],
   "source": [
    "#This is the training data provided by DrivenData.com\n",
    "df = pd.read_csv(\"../data/train_clean.csv\")\n",
    "df.drop(columns=[\"respondent_id\"],inplace=True)\n"
   ]
  },
  {
   "cell_type": "code",
   "execution_count": 75,
   "id": "ad5a0f50",
   "metadata": {},
   "outputs": [],
   "source": [
    "#This is the test data provided by DrivenData.com\n",
    "df_submit = pd.read_csv(\"../data/submissions_data_clean.csv\")\n",
    "\n",
    "df_submit.drop(columns=[\"respondent_id\"],inplace=True)"
   ]
  },
  {
   "cell_type": "code",
   "execution_count": 76,
   "id": "04f9c3f0",
   "metadata": {},
   "outputs": [],
   "source": [
    "#Make 1 : Did not get the vaccine 0 : Did get the vaccine for both H1N1 and Seasonal Vaccine Data\n",
    "df['seasonal_vaccine'] = np.where(df['seasonal_vaccine'] == 1, 0, 1)"
   ]
  },
  {
   "cell_type": "code",
   "execution_count": 77,
   "id": "9db28b2a",
   "metadata": {},
   "outputs": [],
   "source": [
    "#Use the values predicted for H1N1 vaccinations from the previous step, as an additional feature\n",
    "#to use in order to predict seasonal vaccine values. \n",
    "df[\"h1n1_pred\"] = train_whole_pred_h1n1"
   ]
  },
  {
   "cell_type": "code",
   "execution_count": 78,
   "id": "69d98e03",
   "metadata": {},
   "outputs": [],
   "source": [
    "#Use the values predicted for H1N1 vaccinations from the previous step, as an additional feature\n",
    "#to use in order to predict seasonal vaccine values. \n",
    "df_submit[\"h1n1_pred\"] = submission_pred_h1n1"
   ]
  },
  {
   "cell_type": "code",
   "execution_count": 79,
   "id": "421d3687",
   "metadata": {},
   "outputs": [],
   "source": [
    "#initiate the kfold class from model_selection module\n",
    "kf_seas = model_selection.StratifiedKFold(n_splits=5)"
   ]
  },
  {
   "cell_type": "code",
   "execution_count": 80,
   "id": "164c0d6c",
   "metadata": {},
   "outputs": [],
   "source": [
    "#Create a column to hold kfold labels\n",
    "df[\"kfold_seas\"] = -1"
   ]
  },
  {
   "cell_type": "code",
   "execution_count": 81,
   "id": "3d39eba6",
   "metadata": {},
   "outputs": [],
   "source": [
    " #Reshuffle the rows. \n",
    "df = df.sample(frac=1).reset_index(drop=True)"
   ]
  },
  {
   "cell_type": "code",
   "execution_count": 82,
   "id": "0083929e",
   "metadata": {},
   "outputs": [],
   "source": [
    "#Create a target variable vector.\n",
    "y = df.seasonal_vaccine.values"
   ]
  },
  {
   "cell_type": "code",
   "execution_count": 83,
   "id": "cef650e9",
   "metadata": {},
   "outputs": [],
   "source": [
    "for f, (t_,v_) in enumerate(kf_seas.split(X=df,y=y)):\n",
    "    df.loc[v_,\"kfold_seas\"] = f"
   ]
  },
  {
   "cell_type": "code",
   "execution_count": 84,
   "id": "7cbd6d59",
   "metadata": {},
   "outputs": [],
   "source": [
    "# This function creates the Neural Network model using Entity embedding. \n",
    "\n",
    "def create_model(data, catcols):\n",
    "    inputs = []\n",
    "    outputs = []\n",
    "    for c in catcols:\n",
    "        num_unique_values = int(data[c].nunique())\n",
    "        embed_dim = int(min(np.ceil((num_unique_values)/2), 50))\n",
    "        inp = layers.Input(shape=(1,))\n",
    "        out = layers.Embedding(num_unique_values + 1, embed_dim, name=c)(inp)\n",
    "        out = layers.SpatialDropout1D(0.3)(out)\n",
    "        out = layers.Reshape(target_shape=(embed_dim, ))(out)\n",
    "        inputs.append(inp)\n",
    "        outputs.append(out)\n",
    "    x = layers.Concatenate()(outputs)\n",
    "    x = layers.BatchNormalization()(x)\n",
    "    x = layers.Dense(45, activation=\"relu\")(x)\n",
    "    x = layers.Dropout(0.3)(x)\n",
    "    x = layers.BatchNormalization()(x)\n",
    "    x = layers.Dense(45, activation=\"relu\")(x)\n",
    "    x = layers.Dropout(0.3)(x)\n",
    "    x = layers.BatchNormalization()(x)\n",
    "    y = layers.Dense(2, activation=\"softmax\")(x)\n",
    "    model = Model(inputs=inputs, outputs=y)\n",
    "    model.compile(loss='binary_crossentropy', optimizer='adam')\n",
    "    return model"
   ]
  },
  {
   "cell_type": "code",
   "execution_count": 85,
   "id": "769af76c",
   "metadata": {},
   "outputs": [],
   "source": [
    "# This function label encodes categorical features. It fits the training data with a model. \n",
    "# then uses the model to make predictions on the submissions data set. \n",
    "def fit_model_seas(fold):\n",
    "     #create a list of just the categorical variables\n",
    "    features = [f for f in df.columns if f not in ('household_adults','household_children','h1n1_vaccine', 'seasonal_vaccine', 'kfold_seas',\"h1n1_pred\",\"h1n1_pred\")]\n",
    "    #convert the categorical variables to strings\n",
    "    for col in features:\n",
    "        df.loc[:,col] = df[col].astype(str)\n",
    "    #Use label encoder on categorical features. \n",
    "    for feat in features:\n",
    "        lbl_enc = preprocessing.LabelEncoder()\n",
    "        df.loc[:,feat]=lbl_enc.fit_transform(df[feat].values)\n",
    "    #convert the categorical variables to strings  \n",
    "    for col in features:\n",
    "        df_submit.loc[:,col] = df_submit[col].astype(str)\n",
    "    #Use label encoder on categorical features. \n",
    "    for feat in features:\n",
    "        lbl_enc_submit = preprocessing.LabelEncoder()\n",
    "        df_submit.loc[:,feat]=lbl_enc_submit.fit_transform(df_submit[feat].values)\n",
    "        \n",
    "    #Hold one of the five folds as validation set and four folds as training sets \n",
    "    df_train = df[df.kfold_seas != fold].reset_index(drop=True)\n",
    "    df_valid = df[df.kfold_seas == fold].reset_index(drop=True)\n",
    "    model = create_model(df,features)\n",
    "    # our features are lists of lists\n",
    "    xtrain = [\n",
    "     df_train[features].values[:, k] for k in range(len(features))\n",
    "    ]\n",
    "    xvalid = [\n",
    "    df_valid[features].values[:, k] for k in range(len(features))\n",
    "    ]\n",
    "    x_whole_train = [\n",
    "    df[features].values[:, k] for k in range(len(features))\n",
    "    ]\n",
    "    xsubmit = [\n",
    "    df_submit[features].values[:, k] for k in range(len(features))\n",
    "    ]\n",
    "    # get target columns\n",
    "    ytrain = df_train.seasonal_vaccine.values\n",
    "    yvalid = df_valid.seasonal_vaccine.values\n",
    "    # convert target columns to categories\n",
    "\n",
    "    ytrain_cat = utils.to_categorical(ytrain)\n",
    "    yvalid_cat = utils.to_categorical(yvalid)\n",
    "    \n",
    "    # fit the model\n",
    "    model.fit(xtrain,\n",
    "    ytrain_cat,\n",
    "    validation_data=(xvalid, yvalid_cat),\n",
    "    verbose=0,\n",
    "    batch_size=32,\n",
    "    epochs=100)\n",
    "    valid_preds = model.predict(xvalid)[:, 1]\n",
    "    train_whole_pred_seasonal = model.predict(x_whole_train)[:,1]\n",
    "    submission_pred_seas = model.predict(xsubmit)[:,1]\n",
    "    auc = metrics.roc_auc_score(yvalid, valid_preds)\n",
    "    print(f\"For fold = {fold}, AUC = {auc}\")\n",
    "    # The output is the predictor vector for the training data set and for the submission data set.\n",
    "    return train_whole_pred_seasonal,submission_pred_seas"
   ]
  },
  {
   "cell_type": "markdown",
   "id": "1c6b1ba8",
   "metadata": {},
   "source": [
    "<font style=\"font-size: 2rem; color: blue\">\n",
    "\n",
    "Results for predicting Seasonal Flu Vaccine . \n",
    "   \n",
    " \n",
    "</font>"
   ]
  },
  {
   "cell_type": "code",
   "execution_count": 86,
   "id": "ec25b76e",
   "metadata": {},
   "outputs": [
    {
     "name": "stdout",
     "output_type": "stream",
     "text": [
      "The Neural Network results for predicting Seasonal Flu\n",
      "For fold = 3, AUC = 0.8644220443855349\n"
     ]
    }
   ],
   "source": [
    "print(\"The Neural Network results for predicting Seasonal Flu\")\n",
    "train_whole_pred_seasonal,submission_pred_seas =  fit_model_seas(3)\n",
    "    "
   ]
  },
  {
   "cell_type": "code",
   "execution_count": 87,
   "id": "a9969e5e",
   "metadata": {},
   "outputs": [],
   "source": [
    "df_train_results_ = pd.DataFrame(data=[df.h1n1_vaccine.values,train_whole_pred_h1n1,df.seasonal_vaccine.values,train_whole_pred_seasonal]).T\n",
    "df_train_results_ .columns=[\"true_h1n1\",\"estimated_h1n1_prob\",\"true_seasonal\",\"estimated_seasonal_prob\"]"
   ]
  },
  {
   "cell_type": "code",
   "execution_count": 88,
   "id": "65515141",
   "metadata": {},
   "outputs": [],
   "source": [
    "# In order to calculate accuracy, recall and precision, first binarize the target predictions. \n",
    "\n",
    "df_train_results_['estimated_seasonal_class'] = np.where(df_train_results_['estimated_seasonal_prob'] >= 0.5, 1, 0)"
   ]
  },
  {
   "cell_type": "code",
   "execution_count": 90,
   "id": "2e103bbd",
   "metadata": {},
   "outputs": [
    {
     "name": "stdout",
     "output_type": "stream",
     "text": [
      "0.7997528737784102\n",
      "0.8340106502242153\n",
      "0.7998252922994221\n"
     ]
    }
   ],
   "source": [
    "#Get the accuracy, recall and precision scores for the H1N1 predictions. \n",
    "accuracy_seasonal = metrics.accuracy_score(df_train_results_.true_seasonal.values,df_train_results_.estimated_seasonal_class.values)\n",
    "print(accuracy_seasonal)\n",
    "recall_seasonal = metrics.recall_score(df_train_results_.true_seasonal.values,df_train_results_.estimated_seasonal_class.values)\n",
    "print(recall_seasonal)\n",
    "precision_seasonal = metrics.precision_score(df_train_results_.true_seasonal.values,df_train_results_.estimated_seasonal_class.values)\n",
    "print(precision_seasonal)"
   ]
  },
  {
   "cell_type": "code",
   "execution_count": 51,
   "id": "f33024fe",
   "metadata": {},
   "outputs": [],
   "source": [
    "#For the DrivenData.com submission, change the target variables back to 1: received the vaccine, 0: Did not receive the vaccine\n",
    "df_submissions[\"h1n1_vaccine\"] = 1 - df_submissions[\"h1n1_vaccine\"]\n",
    "df_submissions[\"seasonal_vaccine\"] = 1 - df_submissions[\"seasonal_vaccine\"]"
   ]
  },
  {
   "cell_type": "code",
   "execution_count": 49,
   "id": "e6754b83",
   "metadata": {},
   "outputs": [],
   "source": [
    "#Create a data frame for DrivenData.com submission. \n",
    "df_submissions = pd.DataFrame(data=[ids,submission_pred_h1n1,submission_pred_seas]).T\n",
    "df_submissions.columns=[\"respondent_id\",\"h1n1_vaccine\",\"seasonal_vaccine\"]"
   ]
  },
  {
   "cell_type": "code",
   "execution_count": 53,
   "id": "4f0a0bed",
   "metadata": {},
   "outputs": [],
   "source": [
    "#Create a .csv file for submission. \n",
    "df_submissions.to_csv('../data/April_27_10_00am.csv', index=False)"
   ]
  },
  {
   "attachments": {
    "image-2.png": {
     "image/png": "[encoded data removed]"
    }
   },
   "cell_type": "markdown",
   "id": "a2847019",
   "metadata": {},
   "source": [
    "The submission to DrivenData.com results in AUC of 0.8578. and the current leading AUC metric  is 0.8658. \n",
    "![image-2.png](attachment:image-2.png)\n",
    "\n"
   ]
  },
  {
   "cell_type": "code",
   "execution_count": null,
   "id": "8fd3ae0d",
   "metadata": {},
   "outputs": [],
   "source": []
  }
 ],
 "metadata": {
  "kernelspec": {
   "display_name": "Python 3 (ipykernel)",
   "language": "python",
   "name": "python3"
  },
  "language_info": {
   "codemirror_mode": {
    "name": "ipython",
    "version": 3
   },
   "file_extension": ".py",
   "mimetype": "text/x-python",
   "name": "python",
   "nbconvert_exporter": "python",
   "pygments_lexer": "ipython3",
   "version": "3.9.7"
  }
 },
 "nbformat": 4,
 "nbformat_minor": 5
}
