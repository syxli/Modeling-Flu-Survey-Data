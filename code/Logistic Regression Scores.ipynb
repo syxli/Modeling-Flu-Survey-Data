{
 "cells": [
  {
   "cell_type": "markdown",
   "id": "8cec4092-767e-48cb-b0fa-da9826c18fa1",
   "metadata": {},
   "source": [
    "## Imports"
   ]
  },
  {
   "cell_type": "code",
   "execution_count": 1,
   "id": "d80a1025-7301-4af1-be98-8668b355ec3f",
   "metadata": {},
   "outputs": [],
   "source": [
    "import pandas as pd\n",
    "import numpy as np\n",
    "import matplotlib.pyplot as plt\n",
    "from sklearn.model_selection import train_test_split, GridSearchCV\n",
    "from sklearn.preprocessing import OneHotEncoder, StandardScaler\n",
    "from sklearn.pipeline import Pipeline\n",
    "from sklearn.naive_bayes import MultinomialNB\n",
    "from sklearn.linear_model import LogisticRegression\n",
    "from sklearn.neighbors import KNeighborsClassifier\n",
    "from sklearn.ensemble import RandomForestClassifier\n",
    "from sklearn.metrics import confusion_matrix, plot_confusion_matrix"
   ]
  },
  {
   "cell_type": "markdown",
   "id": "170b7840-c999-4e7b-b7a8-85216ba64bbb",
   "metadata": {},
   "source": [
    "### Setting up data"
   ]
  },
  {
   "cell_type": "code",
   "execution_count": 2,
   "id": "e8b27b74-6b1f-4e74-9b9d-ce19bfe86ed7",
   "metadata": {},
   "outputs": [],
   "source": [
    "#read in data\n",
    "data = pd.read_csv('../data/train_clean.csv', index_col='respondent_id')"
   ]
  },
  {
   "cell_type": "code",
   "execution_count": 3,
   "id": "bc3ec65e-9fa3-461c-a465-340ace846a75",
   "metadata": {},
   "outputs": [],
   "source": [
    "# make a new feature h1n1_all for participants who had both h1n1_concern and h1n1_knowledge\n",
    "data['h1n1_all'] = data['h1n1_concern'] * data['h1n1_knowledge']\n",
    "\n",
    "# make a new feature h1n1_all for participants who responded yes to all the behavior #questions\n",
    "behaviour_columns = [column for column in list(data.columns) if 'behavioral' in column]\n",
    "\n",
    "data['behavioral_all'] = 1\n",
    "\n",
    "for column in behaviour_columns:\n",
    "    data['behavioral_all'] = data['behavioral_all'] * data[column]"
   ]
  },
  {
   "cell_type": "code",
   "execution_count": 4,
   "id": "0d63b863-d1ac-4e3e-9733-872413309362",
   "metadata": {},
   "outputs": [],
   "source": [
    "# make a new feature opinion_all for participants based on their opinion scores to the opinion questions\n",
    "opinion_columns = [column for column in list(data.columns) if 'opinion' in column]\n",
    "\n",
    "data['opinion_all'] = 1\n",
    "\n",
    "for column in opinion_columns:\n",
    "    data['opinion_all'] = data['opinion_all'] * data[column]"
   ]
  },
  {
   "cell_type": "code",
   "execution_count": 5,
   "id": "441cdb42-b376-4ed9-91c8-dc237570043d",
   "metadata": {},
   "outputs": [
    {
     "data": {
      "text/html": [
       "<div>\n",
       "<style scoped>\n",
       "    .dataframe tbody tr th:only-of-type {\n",
       "        vertical-align: middle;\n",
       "    }\n",
       "\n",
       "    .dataframe tbody tr th {\n",
       "        vertical-align: top;\n",
       "    }\n",
       "\n",
       "    .dataframe thead th {\n",
       "        text-align: right;\n",
       "    }\n",
       "</style>\n",
       "<table border=\"1\" class=\"dataframe\">\n",
       "  <thead>\n",
       "    <tr style=\"text-align: right;\">\n",
       "      <th></th>\n",
       "      <th>h1n1_concern</th>\n",
       "      <th>h1n1_knowledge</th>\n",
       "      <th>behavioral_antiviral_meds</th>\n",
       "      <th>behavioral_avoidance</th>\n",
       "      <th>behavioral_face_mask</th>\n",
       "      <th>behavioral_wash_hands</th>\n",
       "      <th>behavioral_large_gatherings</th>\n",
       "      <th>behavioral_outside_home</th>\n",
       "      <th>behavioral_touch_face</th>\n",
       "      <th>doctor_recc_h1n1</th>\n",
       "      <th>...</th>\n",
       "      <th>census_msa</th>\n",
       "      <th>household_adults</th>\n",
       "      <th>household_children</th>\n",
       "      <th>employment_industry</th>\n",
       "      <th>employment_occupation</th>\n",
       "      <th>h1n1_vaccine</th>\n",
       "      <th>seasonal_vaccine</th>\n",
       "      <th>h1n1_all</th>\n",
       "      <th>behavioral_all</th>\n",
       "      <th>opinion_all</th>\n",
       "    </tr>\n",
       "    <tr>\n",
       "      <th>respondent_id</th>\n",
       "      <th></th>\n",
       "      <th></th>\n",
       "      <th></th>\n",
       "      <th></th>\n",
       "      <th></th>\n",
       "      <th></th>\n",
       "      <th></th>\n",
       "      <th></th>\n",
       "      <th></th>\n",
       "      <th></th>\n",
       "      <th></th>\n",
       "      <th></th>\n",
       "      <th></th>\n",
       "      <th></th>\n",
       "      <th></th>\n",
       "      <th></th>\n",
       "      <th></th>\n",
       "      <th></th>\n",
       "      <th></th>\n",
       "      <th></th>\n",
       "      <th></th>\n",
       "    </tr>\n",
       "  </thead>\n",
       "  <tbody>\n",
       "    <tr>\n",
       "      <th>0</th>\n",
       "      <td>1.0</td>\n",
       "      <td>0.0</td>\n",
       "      <td>0.0</td>\n",
       "      <td>0.0</td>\n",
       "      <td>0.0</td>\n",
       "      <td>0.0</td>\n",
       "      <td>0.0</td>\n",
       "      <td>1.0</td>\n",
       "      <td>1.0</td>\n",
       "      <td>0.0</td>\n",
       "      <td>...</td>\n",
       "      <td>Non-MSA</td>\n",
       "      <td>0.0</td>\n",
       "      <td>0.0</td>\n",
       "      <td>no_response</td>\n",
       "      <td>no_response</td>\n",
       "      <td>0</td>\n",
       "      <td>0</td>\n",
       "      <td>0.0</td>\n",
       "      <td>0.0</td>\n",
       "      <td>24.0</td>\n",
       "    </tr>\n",
       "    <tr>\n",
       "      <th>1</th>\n",
       "      <td>3.0</td>\n",
       "      <td>2.0</td>\n",
       "      <td>0.0</td>\n",
       "      <td>1.0</td>\n",
       "      <td>0.0</td>\n",
       "      <td>1.0</td>\n",
       "      <td>0.0</td>\n",
       "      <td>1.0</td>\n",
       "      <td>1.0</td>\n",
       "      <td>0.0</td>\n",
       "      <td>...</td>\n",
       "      <td>MSA, Not Principle  City</td>\n",
       "      <td>0.0</td>\n",
       "      <td>0.0</td>\n",
       "      <td>pxcmvdjn</td>\n",
       "      <td>xgwztkwe</td>\n",
       "      <td>0</td>\n",
       "      <td>1</td>\n",
       "      <td>6.0</td>\n",
       "      <td>0.0</td>\n",
       "      <td>2560.0</td>\n",
       "    </tr>\n",
       "    <tr>\n",
       "      <th>2</th>\n",
       "      <td>1.0</td>\n",
       "      <td>1.0</td>\n",
       "      <td>0.0</td>\n",
       "      <td>1.0</td>\n",
       "      <td>0.0</td>\n",
       "      <td>0.0</td>\n",
       "      <td>0.0</td>\n",
       "      <td>0.0</td>\n",
       "      <td>0.0</td>\n",
       "      <td>no_response</td>\n",
       "      <td>...</td>\n",
       "      <td>MSA, Not Principle  City</td>\n",
       "      <td>2.0</td>\n",
       "      <td>0.0</td>\n",
       "      <td>rucpziij</td>\n",
       "      <td>xtkaffoo</td>\n",
       "      <td>0</td>\n",
       "      <td>0</td>\n",
       "      <td>1.0</td>\n",
       "      <td>0.0</td>\n",
       "      <td>24.0</td>\n",
       "    </tr>\n",
       "    <tr>\n",
       "      <th>3</th>\n",
       "      <td>1.0</td>\n",
       "      <td>1.0</td>\n",
       "      <td>0.0</td>\n",
       "      <td>1.0</td>\n",
       "      <td>0.0</td>\n",
       "      <td>1.0</td>\n",
       "      <td>1.0</td>\n",
       "      <td>0.0</td>\n",
       "      <td>0.0</td>\n",
       "      <td>0.0</td>\n",
       "      <td>...</td>\n",
       "      <td>MSA, Principle City</td>\n",
       "      <td>0.0</td>\n",
       "      <td>0.0</td>\n",
       "      <td>no_response</td>\n",
       "      <td>no_response</td>\n",
       "      <td>0</td>\n",
       "      <td>1</td>\n",
       "      <td>1.0</td>\n",
       "      <td>0.0</td>\n",
       "      <td>900.0</td>\n",
       "    </tr>\n",
       "    <tr>\n",
       "      <th>4</th>\n",
       "      <td>2.0</td>\n",
       "      <td>1.0</td>\n",
       "      <td>0.0</td>\n",
       "      <td>1.0</td>\n",
       "      <td>0.0</td>\n",
       "      <td>1.0</td>\n",
       "      <td>1.0</td>\n",
       "      <td>0.0</td>\n",
       "      <td>1.0</td>\n",
       "      <td>0.0</td>\n",
       "      <td>...</td>\n",
       "      <td>MSA, Not Principle  City</td>\n",
       "      <td>1.0</td>\n",
       "      <td>0.0</td>\n",
       "      <td>wxleyezf</td>\n",
       "      <td>emcorrxb</td>\n",
       "      <td>0</td>\n",
       "      <td>0</td>\n",
       "      <td>2.0</td>\n",
       "      <td>0.0</td>\n",
       "      <td>216.0</td>\n",
       "    </tr>\n",
       "  </tbody>\n",
       "</table>\n",
       "<p>5 rows × 40 columns</p>\n",
       "</div>"
      ],
      "text/plain": [
       "               h1n1_concern  h1n1_knowledge  behavioral_antiviral_meds  \\\n",
       "respondent_id                                                            \n",
       "0                       1.0             0.0                        0.0   \n",
       "1                       3.0             2.0                        0.0   \n",
       "2                       1.0             1.0                        0.0   \n",
       "3                       1.0             1.0                        0.0   \n",
       "4                       2.0             1.0                        0.0   \n",
       "\n",
       "               behavioral_avoidance  behavioral_face_mask  \\\n",
       "respondent_id                                               \n",
       "0                               0.0                   0.0   \n",
       "1                               1.0                   0.0   \n",
       "2                               1.0                   0.0   \n",
       "3                               1.0                   0.0   \n",
       "4                               1.0                   0.0   \n",
       "\n",
       "               behavioral_wash_hands  behavioral_large_gatherings  \\\n",
       "respondent_id                                                       \n",
       "0                                0.0                          0.0   \n",
       "1                                1.0                          0.0   \n",
       "2                                0.0                          0.0   \n",
       "3                                1.0                          1.0   \n",
       "4                                1.0                          1.0   \n",
       "\n",
       "               behavioral_outside_home  behavioral_touch_face  \\\n",
       "respondent_id                                                   \n",
       "0                                  1.0                    1.0   \n",
       "1                                  1.0                    1.0   \n",
       "2                                  0.0                    0.0   \n",
       "3                                  0.0                    0.0   \n",
       "4                                  0.0                    1.0   \n",
       "\n",
       "              doctor_recc_h1n1  ...                census_msa  \\\n",
       "respondent_id                   ...                             \n",
       "0                          0.0  ...                   Non-MSA   \n",
       "1                          0.0  ...  MSA, Not Principle  City   \n",
       "2                  no_response  ...  MSA, Not Principle  City   \n",
       "3                          0.0  ...       MSA, Principle City   \n",
       "4                          0.0  ...  MSA, Not Principle  City   \n",
       "\n",
       "              household_adults  household_children employment_industry  \\\n",
       "respondent_id                                                            \n",
       "0                          0.0                 0.0         no_response   \n",
       "1                          0.0                 0.0            pxcmvdjn   \n",
       "2                          2.0                 0.0            rucpziij   \n",
       "3                          0.0                 0.0         no_response   \n",
       "4                          1.0                 0.0            wxleyezf   \n",
       "\n",
       "              employment_occupation  h1n1_vaccine  seasonal_vaccine  h1n1_all  \\\n",
       "respondent_id                                                                   \n",
       "0                       no_response             0                 0       0.0   \n",
       "1                          xgwztkwe             0                 1       6.0   \n",
       "2                          xtkaffoo             0                 0       1.0   \n",
       "3                       no_response             0                 1       1.0   \n",
       "4                          emcorrxb             0                 0       2.0   \n",
       "\n",
       "               behavioral_all  opinion_all  \n",
       "respondent_id                               \n",
       "0                         0.0         24.0  \n",
       "1                         0.0       2560.0  \n",
       "2                         0.0         24.0  \n",
       "3                         0.0        900.0  \n",
       "4                         0.0        216.0  \n",
       "\n",
       "[5 rows x 40 columns]"
      ]
     },
     "execution_count": 5,
     "metadata": {},
     "output_type": "execute_result"
    }
   ],
   "source": [
    "data.head()"
   ]
  },
  {
   "cell_type": "code",
   "execution_count": 10,
   "id": "7479ff4d-df01-413f-ad2d-5b1fa2d67084",
   "metadata": {},
   "outputs": [],
   "source": [
    "cols = list(data.select_dtypes('object').columns)"
   ]
  },
  {
   "cell_type": "code",
   "execution_count": 12,
   "id": "e6c58d82-17f2-4837-b2b3-94d5a99fc423",
   "metadata": {},
   "outputs": [],
   "source": [
    "data = pd.get_dummies(data=data, columns=cols, drop_first=True)"
   ]
  },
  {
   "cell_type": "code",
   "execution_count": 16,
   "id": "9f3f5bb8-714c-40b3-9161-9112a3b4da83",
   "metadata": {},
   "outputs": [
    {
     "data": {
      "text/plain": [
       "1    0.534392\n",
       "0    0.465608\n",
       "Name: seasonal_vaccine, dtype: float64"
      ]
     },
     "execution_count": 16,
     "metadata": {},
     "output_type": "execute_result"
    }
   ],
   "source": [
    "#Switching positive and negative classes\n",
    "data['seasonal_vaccine'].replace({1:0, 0:1}, inplace=True)\n",
    "data['seasonal_vaccine'].value_counts(normalize=True)"
   ]
  },
  {
   "cell_type": "code",
   "execution_count": 17,
   "id": "93daaa3b-a120-4d5f-8057-c6b09967396d",
   "metadata": {},
   "outputs": [
    {
     "data": {
      "text/plain": [
       "1    0.787546\n",
       "0    0.212454\n",
       "Name: h1n1_vaccine, dtype: float64"
      ]
     },
     "execution_count": 17,
     "metadata": {},
     "output_type": "execute_result"
    }
   ],
   "source": [
    "#Switching positive and negative classes\n",
    "data['h1n1_vaccine'].replace({1:0, 0:1}, inplace=True)\n",
    "data['h1n1_vaccine'].value_counts(normalize=True)"
   ]
  },
  {
   "cell_type": "code",
   "execution_count": 18,
   "id": "89ce7a1f-7d0c-44ed-a8ba-c7ca61f163db",
   "metadata": {},
   "outputs": [],
   "source": [
    "#Set up variables\n",
    "X = data.drop(columns=['h1n1_vaccine', 'seasonal_vaccine'])\n",
    "y_szn = data['seasonal_vaccine']\n",
    "y_h1n1 = data['h1n1_vaccine']"
   ]
  },
  {
   "cell_type": "code",
   "execution_count": 24,
   "id": "6ed2b079-a0eb-4165-8b9f-6493d8fa27f2",
   "metadata": {},
   "outputs": [],
   "source": [
    "#Setting up pipelines and parameters\n",
    "pipe_log = Pipeline([\n",
    "    ('log', LogisticRegression(max_iter=5000))\n",
    "])\n",
    "\n",
    "log_par = {\n",
    "    'log__C': [100, 10, 1, 0.1, 0.01, 0.001],\n",
    "    'log__solver': ['liblinear', 'lbfgs'],\n",
    "    'log__penalty': ['l1', 'l2'],\n",
    "    'log__class_weight': ['balanced']\n",
    "}\n",
    "\n",
    "scoring = ['roc_auc', 'recall', 'precision', 'balanced_accuracy']"
   ]
  },
  {
   "cell_type": "markdown",
   "id": "0055c21b-8c6e-4aaa-aee5-ec43d1509b85",
   "metadata": {
    "tags": []
   },
   "source": [
    "### Models for H1N1"
   ]
  },
  {
   "cell_type": "code",
   "execution_count": 19,
   "id": "41286c60-15e9-4ac2-ba9a-2138c6f5309a",
   "metadata": {},
   "outputs": [],
   "source": [
    "X_train, X_test, y_train, y_test = train_test_split(X, y_h1n1, random_state=42, stratify = y_h1n1)"
   ]
  },
  {
   "cell_type": "code",
   "execution_count": 29,
   "id": "914c44fc-d22b-4e23-86a2-60151ba3cee5",
   "metadata": {},
   "outputs": [],
   "source": [
    "gs_recall = GridSearchCV(pipe_log, param_grid = log_par, scoring = scoring[1], n_jobs = -1, cv = 5)"
   ]
  },
  {
   "cell_type": "code",
   "execution_count": 30,
   "id": "9f0906d3-a7b9-44fa-9918-77dfd62ec77f",
   "metadata": {},
   "outputs": [
    {
     "name": "stderr",
     "output_type": "stream",
     "text": [
      "C:\\Users\\fusio\\anaconda3\\lib\\site-packages\\sklearn\\model_selection\\_search.py:922: UserWarning: One or more of the test scores are non-finite: [0.79968304        nan 0.80057052 0.79936609 0.80019017        nan\n",
      " 0.80019017 0.80126783 0.80126783        nan 0.79974643 0.79746434\n",
      " 0.80348653        nan 0.80190174 0.79980983 0.79968304        nan\n",
      " 0.79270998 0.798542   0.7037084         nan 0.75980983 0.77832013]\n",
      "  warnings.warn(\n"
     ]
    },
    {
     "data": {
      "text/plain": [
       "GridSearchCV(cv=5,\n",
       "             estimator=Pipeline(steps=[('log',\n",
       "                                        LogisticRegression(max_iter=5000))]),\n",
       "             n_jobs=-1,\n",
       "             param_grid={'log__C': [100, 10, 1, 0.1, 0.01, 0.001],\n",
       "                         'log__class_weight': ['balanced'],\n",
       "                         'log__penalty': ['l1', 'l2'],\n",
       "                         'log__solver': ['liblinear', 'lbfgs']},\n",
       "             scoring='recall')"
      ]
     },
     "execution_count": 30,
     "metadata": {},
     "output_type": "execute_result"
    }
   ],
   "source": [
    "gs_recall.fit(X_train, y_train)"
   ]
  },
  {
   "cell_type": "code",
   "execution_count": 41,
   "id": "5cf28e8a-2e4d-497e-80c4-7ae53f2877d8",
   "metadata": {},
   "outputs": [
    {
     "data": {
      "image/png": "[encoded data removed]",
      "text/plain": [
       "<Figure size 432x288 with 2 Axes>"
      ]
     },
     "metadata": {
      "needs_background": "light"
     },
     "output_type": "display_data"
    }
   ],
   "source": [
    "plot_confusion_matrix(gs_recall, X_test, y_test, display_labels=['Unvaccinated', 'Vaccinated'], cmap = 'plasma');"
   ]
  },
  {
   "cell_type": "code",
   "execution_count": 139,
   "id": "40943da1-cf79-4d14-bca1-7d6c06ab1ec0",
   "metadata": {},
   "outputs": [],
   "source": [
    "from sklearn.metrics import balanced_accuracy_score, roc_auc_score, precision_score, recall_score, accuracy_score"
   ]
  },
  {
   "cell_type": "code",
   "execution_count": 57,
   "id": "81e12f94-d413-4b28-bf2a-6fc088ffd5d8",
   "metadata": {},
   "outputs": [],
   "source": [
    "y_pred = gs_recall.predict(X_test)"
   ]
  },
  {
   "cell_type": "code",
   "execution_count": 71,
   "id": "bb8d16cd-5295-4f54-8b50-013ff5b137aa",
   "metadata": {},
   "outputs": [
    {
     "data": {
      "text/html": [
       "<div>\n",
       "<style scoped>\n",
       "    .dataframe tbody tr th:only-of-type {\n",
       "        vertical-align: middle;\n",
       "    }\n",
       "\n",
       "    .dataframe tbody tr th {\n",
       "        vertical-align: top;\n",
       "    }\n",
       "\n",
       "    .dataframe thead th {\n",
       "        text-align: right;\n",
       "    }\n",
       "</style>\n",
       "<table border=\"1\" class=\"dataframe\">\n",
       "  <thead>\n",
       "    <tr style=\"text-align: right;\">\n",
       "      <th></th>\n",
       "      <th>0</th>\n",
       "    </tr>\n",
       "    <tr>\n",
       "      <th>respondent_id</th>\n",
       "      <th></th>\n",
       "    </tr>\n",
       "  </thead>\n",
       "  <tbody>\n",
       "    <tr>\n",
       "      <th>18204</th>\n",
       "      <td>1</td>\n",
       "    </tr>\n",
       "    <tr>\n",
       "      <th>22436</th>\n",
       "      <td>1</td>\n",
       "    </tr>\n",
       "    <tr>\n",
       "      <th>16986</th>\n",
       "      <td>1</td>\n",
       "    </tr>\n",
       "    <tr>\n",
       "      <th>12359</th>\n",
       "      <td>0</td>\n",
       "    </tr>\n",
       "    <tr>\n",
       "      <th>18602</th>\n",
       "      <td>0</td>\n",
       "    </tr>\n",
       "    <tr>\n",
       "      <th>...</th>\n",
       "      <td>...</td>\n",
       "    </tr>\n",
       "    <tr>\n",
       "      <th>6456</th>\n",
       "      <td>1</td>\n",
       "    </tr>\n",
       "    <tr>\n",
       "      <th>18269</th>\n",
       "      <td>1</td>\n",
       "    </tr>\n",
       "    <tr>\n",
       "      <th>20563</th>\n",
       "      <td>1</td>\n",
       "    </tr>\n",
       "    <tr>\n",
       "      <th>5376</th>\n",
       "      <td>1</td>\n",
       "    </tr>\n",
       "    <tr>\n",
       "      <th>3334</th>\n",
       "      <td>1</td>\n",
       "    </tr>\n",
       "  </tbody>\n",
       "</table>\n",
       "<p>6677 rows × 1 columns</p>\n",
       "</div>"
      ],
      "text/plain": [
       "               0\n",
       "respondent_id   \n",
       "18204          1\n",
       "22436          1\n",
       "16986          1\n",
       "12359          0\n",
       "18602          0\n",
       "...           ..\n",
       "6456           1\n",
       "18269          1\n",
       "20563          1\n",
       "5376           1\n",
       "3334           1\n",
       "\n",
       "[6677 rows x 1 columns]"
      ]
     },
     "execution_count": 71,
     "metadata": {},
     "output_type": "execute_result"
    }
   ],
   "source": [
    "y_pred = pd.DataFrame(y_pred)\n",
    "y_pred['respondent_id'] = X_test.index\n",
    "y_pred.set_index('respondent_id', inplace=True)\n",
    "y_pred"
   ]
  },
  {
   "cell_type": "code",
   "execution_count": 73,
   "id": "d7a36ab0-ae1d-49f0-8897-50f5ad34f13b",
   "metadata": {},
   "outputs": [],
   "source": [
    "y_true = y_pred.join(y_h1n1, on='respondent_id')"
   ]
  },
  {
   "cell_type": "code",
   "execution_count": 81,
   "id": "b4a2ea91-1aaf-48d3-9823-9b332476ed7c",
   "metadata": {},
   "outputs": [
    {
     "data": {
      "text/plain": [
       "0.7889299730790438"
      ]
     },
     "execution_count": 81,
     "metadata": {},
     "output_type": "execute_result"
    }
   ],
   "source": [
    "balanced_accuracy_score(y_true['h1n1_vaccine'], y_pred)"
   ]
  },
  {
   "cell_type": "code",
   "execution_count": 84,
   "id": "59a2fde2-d907-4267-a892-9e02ac903914",
   "metadata": {},
   "outputs": [
    {
     "data": {
      "text/plain": [
       "0.7889299730790438"
      ]
     },
     "execution_count": 84,
     "metadata": {},
     "output_type": "execute_result"
    }
   ],
   "source": [
    "roc_auc_score(y_true['h1n1_vaccine'], y_pred)"
   ]
  },
  {
   "cell_type": "code",
   "execution_count": 83,
   "id": "9de465e6-588e-4f38-8d09-f80fb2ee1174",
   "metadata": {},
   "outputs": [
    {
     "data": {
      "text/plain": [
       "0.9275488069414317"
      ]
     },
     "execution_count": 83,
     "metadata": {},
     "output_type": "execute_result"
    }
   ],
   "source": [
    "precision_score(y_true['h1n1_vaccine'], y_pred)"
   ]
  },
  {
   "cell_type": "code",
   "execution_count": 82,
   "id": "a9ce3be1-0923-4bab-8b9f-fe9a06d6ad43",
   "metadata": {},
   "outputs": [
    {
     "data": {
      "text/plain": [
       "0.8132369722327881"
      ]
     },
     "execution_count": 82,
     "metadata": {},
     "output_type": "execute_result"
    }
   ],
   "source": [
    "recall_score(y_true['h1n1_vaccine'], y_pred)"
   ]
  },
  {
   "cell_type": "markdown",
   "id": "ef3d2421-c13d-46a4-be73-ecc0106b5c3f",
   "metadata": {
    "tags": []
   },
   "source": [
    "### Adding Predicted H1N1 into Data"
   ]
  },
  {
   "cell_type": "code",
   "execution_count": 99,
   "id": "a104d5f0-e43f-4de3-b4c2-1bde4213feca",
   "metadata": {},
   "outputs": [],
   "source": [
    "preds = logr.predict(data.drop(columns=['h1n1_vaccine', 'seasonal_vaccine']))"
   ]
  },
  {
   "cell_type": "code",
   "execution_count": 101,
   "id": "786b96b7-f85a-4d0e-befd-06a1f78aba6a",
   "metadata": {},
   "outputs": [],
   "source": [
    "X2 = data.drop(columns=['h1n1_vaccine', 'seasonal_vaccine'])"
   ]
  },
  {
   "cell_type": "code",
   "execution_count": 102,
   "id": "5b2f70e2-f13e-4556-b126-523cfaf571ad",
   "metadata": {},
   "outputs": [],
   "source": [
    "X2['h1n1_vaccine'] = preds"
   ]
  },
  {
   "cell_type": "markdown",
   "id": "629929dc-91c6-4b08-bdb7-4a632bdf0db8",
   "metadata": {
    "tags": []
   },
   "source": [
    "### Models for Seasonal Flu"
   ]
  },
  {
   "cell_type": "code",
   "execution_count": 110,
   "id": "056b1cba-810f-4296-a7de-433a54729f67",
   "metadata": {},
   "outputs": [],
   "source": [
    "X_train2, X_test2, y_train2, y_test2 = train_test_split(X2.drop(columns='h1n1_vaccine'), y_szn, random_state=42, stratify = y_szn)"
   ]
  },
  {
   "cell_type": "code",
   "execution_count": 111,
   "id": "bd4d36af-fd83-4c9c-9a65-b56655a04195",
   "metadata": {},
   "outputs": [],
   "source": [
    "gs_recall_2 = GridSearchCV(pipe_log, param_grid = log_par, scoring = scoring[1], n_jobs = -1, cv = 5)"
   ]
  },
  {
   "cell_type": "code",
   "execution_count": 112,
   "id": "8da2a72a-18ee-4d71-93bb-f3aba06c652d",
   "metadata": {},
   "outputs": [
    {
     "name": "stderr",
     "output_type": "stream",
     "text": [
      "C:\\Users\\fusio\\anaconda3\\lib\\site-packages\\sklearn\\model_selection\\_search.py:922: UserWarning: One or more of the test scores are non-finite: [0.78335139        nan 0.78335117 0.78325785 0.78325776        nan\n",
      " 0.78325789 0.7788672  0.78409862        nan 0.7829776  0.78129584\n",
      " 0.78503315        nan 0.77970801 0.78148324 0.7671895         nan\n",
      " 0.76597476 0.78054887 0.65031678        nan 0.73645318 0.76504097]\n",
      "  warnings.warn(\n"
     ]
    },
    {
     "data": {
      "text/plain": [
       "GridSearchCV(cv=5,\n",
       "             estimator=Pipeline(steps=[('log',\n",
       "                                        LogisticRegression(max_iter=5000))]),\n",
       "             n_jobs=-1,\n",
       "             param_grid={'log__C': [100, 10, 1, 0.1, 0.01, 0.001],\n",
       "                         'log__class_weight': ['balanced'],\n",
       "                         'log__penalty': ['l1', 'l2'],\n",
       "                         'log__solver': ['liblinear', 'lbfgs']},\n",
       "             scoring='recall')"
      ]
     },
     "execution_count": 112,
     "metadata": {},
     "output_type": "execute_result"
    }
   ],
   "source": [
    "gs_recall_2.fit(X_train2, y_train2)"
   ]
  },
  {
   "cell_type": "code",
   "execution_count": 113,
   "id": "bbfd685d-6ab2-4e00-af1d-0c66b16abcb4",
   "metadata": {},
   "outputs": [
    {
     "data": {
      "text/plain": [
       "(0.7865284005979073, 0.7993273542600897)"
      ]
     },
     "execution_count": 113,
     "metadata": {},
     "output_type": "execute_result"
    }
   ],
   "source": [
    "gs_recall_2.score(X_train2, y_train2), gs_recall_2.score(X_test2, y_test2)"
   ]
  },
  {
   "cell_type": "code",
   "execution_count": 114,
   "id": "d1372d56-515a-4f27-8bc8-09967a8950ea",
   "metadata": {},
   "outputs": [
    {
     "data": {
      "image/png": "[encoded data removed]",
      "text/plain": [
       "<Figure size 432x288 with 2 Axes>"
      ]
     },
     "metadata": {
      "needs_background": "light"
     },
     "output_type": "display_data"
    }
   ],
   "source": [
    "plot_confusion_matrix(gs_recall_2, X_test2, y_test2, display_labels=['Unvaccinated', 'Vaccinated'], cmap = 'plasma');"
   ]
  },
  {
   "cell_type": "code",
   "execution_count": 115,
   "id": "9312fdd6-495a-4ca4-ac71-aee72e397424",
   "metadata": {},
   "outputs": [
    {
     "data": {
      "text/plain": [
       "{'log__C': 0.1,\n",
       " 'log__class_weight': 'balanced',\n",
       " 'log__penalty': 'l1',\n",
       " 'log__solver': 'liblinear'}"
      ]
     },
     "execution_count": 115,
     "metadata": {},
     "output_type": "execute_result"
    }
   ],
   "source": [
    "gs_recall_2.best_params_"
   ]
  },
  {
   "cell_type": "code",
   "execution_count": 116,
   "id": "e7ac3561-6ca3-4efe-b92e-c8b7d2fefced",
   "metadata": {},
   "outputs": [],
   "source": [
    "logr2 = LogisticRegression(C=0.1, class_weight='balanced', penalty='l1', solver='liblinear')"
   ]
  },
  {
   "cell_type": "code",
   "execution_count": 120,
   "id": "bff490d9-2cdf-4046-961d-d32892889652",
   "metadata": {},
   "outputs": [
    {
     "data": {
      "text/plain": [
       "LogisticRegression(C=0.1, class_weight='balanced', penalty='l1',\n",
       "                   solver='liblinear')"
      ]
     },
     "execution_count": 120,
     "metadata": {},
     "output_type": "execute_result"
    }
   ],
   "source": [
    "logr2.fit(X_train2, y_train2)"
   ]
  },
  {
   "cell_type": "code",
   "execution_count": 128,
   "id": "4e210976-c8d9-4732-a84d-28471e2548e3",
   "metadata": {},
   "outputs": [],
   "source": [
    "szn_preds = logr2.predict(X_test2)"
   ]
  },
  {
   "cell_type": "code",
   "execution_count": 130,
   "id": "4d9db01c-f287-4ce4-9fd6-f8780a78274f",
   "metadata": {},
   "outputs": [
    {
     "data": {
      "text/html": [
       "<div>\n",
       "<style scoped>\n",
       "    .dataframe tbody tr th:only-of-type {\n",
       "        vertical-align: middle;\n",
       "    }\n",
       "\n",
       "    .dataframe tbody tr th {\n",
       "        vertical-align: top;\n",
       "    }\n",
       "\n",
       "    .dataframe thead th {\n",
       "        text-align: right;\n",
       "    }\n",
       "</style>\n",
       "<table border=\"1\" class=\"dataframe\">\n",
       "  <thead>\n",
       "    <tr style=\"text-align: right;\">\n",
       "      <th></th>\n",
       "      <th>0</th>\n",
       "    </tr>\n",
       "    <tr>\n",
       "      <th>respondent_id</th>\n",
       "      <th></th>\n",
       "    </tr>\n",
       "  </thead>\n",
       "  <tbody>\n",
       "    <tr>\n",
       "      <th>8555</th>\n",
       "      <td>1</td>\n",
       "    </tr>\n",
       "    <tr>\n",
       "      <th>23697</th>\n",
       "      <td>1</td>\n",
       "    </tr>\n",
       "    <tr>\n",
       "      <th>1400</th>\n",
       "      <td>1</td>\n",
       "    </tr>\n",
       "    <tr>\n",
       "      <th>2965</th>\n",
       "      <td>0</td>\n",
       "    </tr>\n",
       "    <tr>\n",
       "      <th>20367</th>\n",
       "      <td>0</td>\n",
       "    </tr>\n",
       "    <tr>\n",
       "      <th>...</th>\n",
       "      <td>...</td>\n",
       "    </tr>\n",
       "    <tr>\n",
       "      <th>20629</th>\n",
       "      <td>1</td>\n",
       "    </tr>\n",
       "    <tr>\n",
       "      <th>20976</th>\n",
       "      <td>0</td>\n",
       "    </tr>\n",
       "    <tr>\n",
       "      <th>13930</th>\n",
       "      <td>0</td>\n",
       "    </tr>\n",
       "    <tr>\n",
       "      <th>5782</th>\n",
       "      <td>0</td>\n",
       "    </tr>\n",
       "    <tr>\n",
       "      <th>16794</th>\n",
       "      <td>1</td>\n",
       "    </tr>\n",
       "  </tbody>\n",
       "</table>\n",
       "<p>6677 rows × 1 columns</p>\n",
       "</div>"
      ],
      "text/plain": [
       "               0\n",
       "respondent_id   \n",
       "8555           1\n",
       "23697          1\n",
       "1400           1\n",
       "2965           0\n",
       "20367          0\n",
       "...           ..\n",
       "20629          1\n",
       "20976          0\n",
       "13930          0\n",
       "5782           0\n",
       "16794          1\n",
       "\n",
       "[6677 rows x 1 columns]"
      ]
     },
     "execution_count": 130,
     "metadata": {},
     "output_type": "execute_result"
    }
   ],
   "source": [
    "szn_preds = pd.DataFrame(szn_preds)\n",
    "szn_preds['respondent_id'] = X_test2.index\n",
    "szn_preds.set_index('respondent_id', inplace=True)\n",
    "szn_preds"
   ]
  },
  {
   "cell_type": "code",
   "execution_count": 131,
   "id": "837a51b3-5463-4c67-82e9-74eca2d2a83d",
   "metadata": {},
   "outputs": [],
   "source": [
    "szn_true = szn_preds.join(y_szn, on='respondent_id')"
   ]
  },
  {
   "cell_type": "code",
   "execution_count": 134,
   "id": "00381103-0c7d-4231-a700-8bd498f24c0f",
   "metadata": {},
   "outputs": [
    {
     "data": {
      "text/plain": [
       "0.7879327808604268"
      ]
     },
     "execution_count": 134,
     "metadata": {},
     "output_type": "execute_result"
    }
   ],
   "source": [
    "balanced_accuracy_score(szn_true['seasonal_vaccine'], szn_preds)"
   ]
  },
  {
   "cell_type": "code",
   "execution_count": 136,
   "id": "f9f9efef-7558-43bb-9619-eb7f5f3d63f8",
   "metadata": {},
   "outputs": [
    {
     "data": {
      "text/plain": [
       "0.787932780860427"
      ]
     },
     "execution_count": 136,
     "metadata": {},
     "output_type": "execute_result"
    }
   ],
   "source": [
    "roc_auc_score(szn_true['seasonal_vaccine'], szn_preds)"
   ]
  },
  {
   "cell_type": "code",
   "execution_count": 137,
   "id": "f3b749b1-3e42-4494-a068-47f5ad5e0e71",
   "metadata": {},
   "outputs": [
    {
     "data": {
      "text/plain": [
       "0.8044030482641829"
      ]
     },
     "execution_count": 137,
     "metadata": {},
     "output_type": "execute_result"
    }
   ],
   "source": [
    "precision_score(szn_true['seasonal_vaccine'], szn_preds)"
   ]
  },
  {
   "cell_type": "code",
   "execution_count": 138,
   "id": "bca9fdd2-8d52-4905-851e-4cfba3e3595c",
   "metadata": {},
   "outputs": [
    {
     "data": {
      "text/plain": [
       "0.7987668161434978"
      ]
     },
     "execution_count": 138,
     "metadata": {},
     "output_type": "execute_result"
    }
   ],
   "source": [
    "recall_score(szn_true['seasonal_vaccine'], szn_preds)"
   ]
  },
  {
   "cell_type": "code",
   "execution_count": 140,
   "id": "67e176b0-7049-4040-ac15-8d409ef24476",
   "metadata": {},
   "outputs": [
    {
     "data": {
      "text/plain": [
       "0.7886775497978133"
      ]
     },
     "execution_count": 140,
     "metadata": {},
     "output_type": "execute_result"
    }
   ],
   "source": [
    "accuracy_score(szn_true['seasonal_vaccine'], szn_preds)"
   ]
  },
  {
   "cell_type": "code",
   "execution_count": 141,
   "id": "bcfa3792-5c82-4a75-91df-c6e2796918a6",
   "metadata": {},
   "outputs": [
    {
     "data": {
      "text/plain": [
       "0.8029054964804553"
      ]
     },
     "execution_count": 141,
     "metadata": {},
     "output_type": "execute_result"
    }
   ],
   "source": [
    "accuracy_score(y_true['h1n1_vaccine'], y_pred)"
   ]
  }
 ],
 "metadata": {
  "kernelspec": {
   "display_name": "Python 3 (ipykernel)",
   "language": "python",
   "name": "python3"
  },
  "language_info": {
   "codemirror_mode": {
    "name": "ipython",
    "version": 3
   },
   "file_extension": ".py",
   "mimetype": "text/x-python",
   "name": "python",
   "nbconvert_exporter": "python",
   "pygments_lexer": "ipython3",
   "version": "3.9.7"
  }
 },
 "nbformat": 4,
 "nbformat_minor": 5
}
