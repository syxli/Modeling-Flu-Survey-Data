{
 "cells": [
  {
   "cell_type": "markdown",
   "id": "37603aba-2f0d-4603-8410-e739d53825b7",
   "metadata": {},
   "source": [
    "# Model Fitting to predict H1N1 Vaccination: XGBoost"
   ]
  },
  {
   "cell_type": "markdown",
   "id": "ed78a8bc-6b90-4647-b706-8f8874e79e57",
   "metadata": {},
   "source": [
    "#### Summary of Notebook:\n",
    "\n",
    "This notebook *requires the xgboost library.* \n",
    "\n",
    "All models run in this model are XGBoost. There are two sections with gridsearches that I will convert to *markdown cells* so that they are not run when the notebook is run. The gridsearch cells are followed by cells with an XGBoost model rerun with the best parameters. \n",
    "\n",
    "Below is a **summary of the models run**, and their metrics: \n",
    "\n",
    "Optimized for | Features Used | Accuracy | Precision | Recall | Roc_Auc\n",
    "--------------------|---------------|----------|-----------|--------|--------\n",
    "roc_auc    |All features, target classes switched (unvacc = 1)| 0.855| 0.878 |0.948|0.730\n",
    "roc_auc| All features + seasonal flu, target classes switched| 0.871|0.894|0.949|0.766 \n",
    "Recall| All features, target classes switched|0.847|0.854|0.971|0.679\n",
    "Recall|All features + engineered features, target classes switched|0.000|0.858|0.966|0.688|\n",
    "Recall|Same as above + RandomOverSampler|0.810|0.930|0.821|0.796\n",
    "Recall| Same as above but SMOTE | 0.000| 0.864| 0.955|0.701\n",
    "Recall| Same as above, but gridsearched specifically with SMOTE balanced data|0.951|0.899|0.939|0.732"
   ]
  },
  {
   "cell_type": "code",
   "execution_count": null,
   "id": "7e474754-bbac-4601-af9e-b09dd3574cf3",
   "metadata": {},
   "outputs": [],
   "source": []
  },
  {
   "cell_type": "code",
   "execution_count": 146,
   "id": "8e152b86-93f6-4fa8-9dbf-125781f5a8d7",
   "metadata": {},
   "outputs": [],
   "source": [
    "import pandas as pd\n",
    "import numpy as np\n",
    "import seaborn as sns\n",
    "import xgboost as xgb\n",
    "from sklearn.model_selection import train_test_split, GridSearchCV\n",
    "from sklearn.metrics import accuracy_score, recall_score, precision_score, roc_auc_score, balanced_accuracy_score, ConfusionMatrixDisplay\n",
    "from imblearn.over_sampling import RandomOverSampler, SMOTE "
   ]
  },
  {
   "cell_type": "markdown",
   "id": "6ccb7861-cc2e-4f7c-b5be-9bad8078ffe7",
   "metadata": {
    "tags": []
   },
   "source": [
    "### First pass Model"
   ]
  },
  {
   "cell_type": "markdown",
   "id": "e32e367a-eb52-4341-90bd-89f8e3036864",
   "metadata": {},
   "source": [
    "**Import and examine data**"
   ]
  },
  {
   "cell_type": "code",
   "execution_count": 196,
   "id": "5e42a738-101c-4678-8ef5-1b54447ce6c3",
   "metadata": {},
   "outputs": [],
   "source": [
    "data = pd.read_csv('../data/train_clean.csv')"
   ]
  },
  {
   "cell_type": "code",
   "execution_count": 197,
   "id": "b1a9f22f-2c2b-4806-9344-47e97b8b8da2",
   "metadata": {},
   "outputs": [
    {
     "data": {
      "text/html": [
       "<div>\n",
       "<style scoped>\n",
       "    .dataframe tbody tr th:only-of-type {\n",
       "        vertical-align: middle;\n",
       "    }\n",
       "\n",
       "    .dataframe tbody tr th {\n",
       "        vertical-align: top;\n",
       "    }\n",
       "\n",
       "    .dataframe thead th {\n",
       "        text-align: right;\n",
       "    }\n",
       "</style>\n",
       "<table border=\"1\" class=\"dataframe\">\n",
       "  <thead>\n",
       "    <tr style=\"text-align: right;\">\n",
       "      <th></th>\n",
       "      <th>respondent_id</th>\n",
       "      <th>h1n1_concern</th>\n",
       "      <th>h1n1_knowledge</th>\n",
       "      <th>behavioral_antiviral_meds</th>\n",
       "      <th>behavioral_avoidance</th>\n",
       "      <th>behavioral_face_mask</th>\n",
       "      <th>behavioral_wash_hands</th>\n",
       "      <th>behavioral_large_gatherings</th>\n",
       "      <th>behavioral_outside_home</th>\n",
       "      <th>behavioral_touch_face</th>\n",
       "      <th>...</th>\n",
       "      <th>rent_or_own</th>\n",
       "      <th>employment_status</th>\n",
       "      <th>hhs_geo_region</th>\n",
       "      <th>census_msa</th>\n",
       "      <th>household_adults</th>\n",
       "      <th>household_children</th>\n",
       "      <th>employment_industry</th>\n",
       "      <th>employment_occupation</th>\n",
       "      <th>h1n1_vaccine</th>\n",
       "      <th>seasonal_vaccine</th>\n",
       "    </tr>\n",
       "  </thead>\n",
       "  <tbody>\n",
       "    <tr>\n",
       "      <th>0</th>\n",
       "      <td>0</td>\n",
       "      <td>1.0</td>\n",
       "      <td>0.0</td>\n",
       "      <td>0.0</td>\n",
       "      <td>0.0</td>\n",
       "      <td>0.0</td>\n",
       "      <td>0.0</td>\n",
       "      <td>0.0</td>\n",
       "      <td>1.0</td>\n",
       "      <td>1.0</td>\n",
       "      <td>...</td>\n",
       "      <td>Own</td>\n",
       "      <td>Not in Labor Force</td>\n",
       "      <td>oxchjgsf</td>\n",
       "      <td>Non-MSA</td>\n",
       "      <td>0.0</td>\n",
       "      <td>0.0</td>\n",
       "      <td>no_response</td>\n",
       "      <td>no_response</td>\n",
       "      <td>0</td>\n",
       "      <td>0</td>\n",
       "    </tr>\n",
       "    <tr>\n",
       "      <th>1</th>\n",
       "      <td>1</td>\n",
       "      <td>3.0</td>\n",
       "      <td>2.0</td>\n",
       "      <td>0.0</td>\n",
       "      <td>1.0</td>\n",
       "      <td>0.0</td>\n",
       "      <td>1.0</td>\n",
       "      <td>0.0</td>\n",
       "      <td>1.0</td>\n",
       "      <td>1.0</td>\n",
       "      <td>...</td>\n",
       "      <td>Rent</td>\n",
       "      <td>Employed</td>\n",
       "      <td>bhuqouqj</td>\n",
       "      <td>MSA, Not Principle  City</td>\n",
       "      <td>0.0</td>\n",
       "      <td>0.0</td>\n",
       "      <td>pxcmvdjn</td>\n",
       "      <td>xgwztkwe</td>\n",
       "      <td>0</td>\n",
       "      <td>1</td>\n",
       "    </tr>\n",
       "    <tr>\n",
       "      <th>2</th>\n",
       "      <td>2</td>\n",
       "      <td>1.0</td>\n",
       "      <td>1.0</td>\n",
       "      <td>0.0</td>\n",
       "      <td>1.0</td>\n",
       "      <td>0.0</td>\n",
       "      <td>0.0</td>\n",
       "      <td>0.0</td>\n",
       "      <td>0.0</td>\n",
       "      <td>0.0</td>\n",
       "      <td>...</td>\n",
       "      <td>Own</td>\n",
       "      <td>Employed</td>\n",
       "      <td>qufhixun</td>\n",
       "      <td>MSA, Not Principle  City</td>\n",
       "      <td>2.0</td>\n",
       "      <td>0.0</td>\n",
       "      <td>rucpziij</td>\n",
       "      <td>xtkaffoo</td>\n",
       "      <td>0</td>\n",
       "      <td>0</td>\n",
       "    </tr>\n",
       "    <tr>\n",
       "      <th>3</th>\n",
       "      <td>3</td>\n",
       "      <td>1.0</td>\n",
       "      <td>1.0</td>\n",
       "      <td>0.0</td>\n",
       "      <td>1.0</td>\n",
       "      <td>0.0</td>\n",
       "      <td>1.0</td>\n",
       "      <td>1.0</td>\n",
       "      <td>0.0</td>\n",
       "      <td>0.0</td>\n",
       "      <td>...</td>\n",
       "      <td>Rent</td>\n",
       "      <td>Not in Labor Force</td>\n",
       "      <td>lrircsnp</td>\n",
       "      <td>MSA, Principle City</td>\n",
       "      <td>0.0</td>\n",
       "      <td>0.0</td>\n",
       "      <td>no_response</td>\n",
       "      <td>no_response</td>\n",
       "      <td>0</td>\n",
       "      <td>1</td>\n",
       "    </tr>\n",
       "    <tr>\n",
       "      <th>4</th>\n",
       "      <td>4</td>\n",
       "      <td>2.0</td>\n",
       "      <td>1.0</td>\n",
       "      <td>0.0</td>\n",
       "      <td>1.0</td>\n",
       "      <td>0.0</td>\n",
       "      <td>1.0</td>\n",
       "      <td>1.0</td>\n",
       "      <td>0.0</td>\n",
       "      <td>1.0</td>\n",
       "      <td>...</td>\n",
       "      <td>Own</td>\n",
       "      <td>Employed</td>\n",
       "      <td>qufhixun</td>\n",
       "      <td>MSA, Not Principle  City</td>\n",
       "      <td>1.0</td>\n",
       "      <td>0.0</td>\n",
       "      <td>wxleyezf</td>\n",
       "      <td>emcorrxb</td>\n",
       "      <td>0</td>\n",
       "      <td>0</td>\n",
       "    </tr>\n",
       "  </tbody>\n",
       "</table>\n",
       "<p>5 rows × 38 columns</p>\n",
       "</div>"
      ],
      "text/plain": [
       "   respondent_id  h1n1_concern  h1n1_knowledge  behavioral_antiviral_meds  \\\n",
       "0              0           1.0             0.0                        0.0   \n",
       "1              1           3.0             2.0                        0.0   \n",
       "2              2           1.0             1.0                        0.0   \n",
       "3              3           1.0             1.0                        0.0   \n",
       "4              4           2.0             1.0                        0.0   \n",
       "\n",
       "   behavioral_avoidance  behavioral_face_mask  behavioral_wash_hands  \\\n",
       "0                   0.0                   0.0                    0.0   \n",
       "1                   1.0                   0.0                    1.0   \n",
       "2                   1.0                   0.0                    0.0   \n",
       "3                   1.0                   0.0                    1.0   \n",
       "4                   1.0                   0.0                    1.0   \n",
       "\n",
       "   behavioral_large_gatherings  behavioral_outside_home  \\\n",
       "0                          0.0                      1.0   \n",
       "1                          0.0                      1.0   \n",
       "2                          0.0                      0.0   \n",
       "3                          1.0                      0.0   \n",
       "4                          1.0                      0.0   \n",
       "\n",
       "   behavioral_touch_face  ... rent_or_own   employment_status hhs_geo_region  \\\n",
       "0                    1.0  ...         Own  Not in Labor Force       oxchjgsf   \n",
       "1                    1.0  ...        Rent            Employed       bhuqouqj   \n",
       "2                    0.0  ...         Own            Employed       qufhixun   \n",
       "3                    0.0  ...        Rent  Not in Labor Force       lrircsnp   \n",
       "4                    1.0  ...         Own            Employed       qufhixun   \n",
       "\n",
       "                 census_msa household_adults household_children  \\\n",
       "0                   Non-MSA              0.0                0.0   \n",
       "1  MSA, Not Principle  City              0.0                0.0   \n",
       "2  MSA, Not Principle  City              2.0                0.0   \n",
       "3       MSA, Principle City              0.0                0.0   \n",
       "4  MSA, Not Principle  City              1.0                0.0   \n",
       "\n",
       "   employment_industry  employment_occupation  h1n1_vaccine  seasonal_vaccine  \n",
       "0          no_response            no_response             0                 0  \n",
       "1             pxcmvdjn               xgwztkwe             0                 1  \n",
       "2             rucpziij               xtkaffoo             0                 0  \n",
       "3          no_response            no_response             0                 1  \n",
       "4             wxleyezf               emcorrxb             0                 0  \n",
       "\n",
       "[5 rows x 38 columns]"
      ]
     },
     "execution_count": 197,
     "metadata": {},
     "output_type": "execute_result"
    }
   ],
   "source": [
    "data.head()"
   ]
  },
  {
   "cell_type": "code",
   "execution_count": 198,
   "id": "6aa14c9a-1d95-42a7-84ef-fa0940069a01",
   "metadata": {},
   "outputs": [
    {
     "data": {
      "text/plain": [
       "respondent_id                    int64\n",
       "h1n1_concern                   float64\n",
       "h1n1_knowledge                 float64\n",
       "behavioral_antiviral_meds      float64\n",
       "behavioral_avoidance           float64\n",
       "behavioral_face_mask           float64\n",
       "behavioral_wash_hands          float64\n",
       "behavioral_large_gatherings    float64\n",
       "behavioral_outside_home        float64\n",
       "behavioral_touch_face          float64\n",
       "doctor_recc_h1n1                object\n",
       "doctor_recc_seasonal            object\n",
       "chronic_med_condition           object\n",
       "child_under_6_months           float64\n",
       "health_worker                   object\n",
       "health_insurance                object\n",
       "opinion_h1n1_vacc_effective    float64\n",
       "opinion_h1n1_risk              float64\n",
       "opinion_h1n1_sick_from_vacc    float64\n",
       "opinion_seas_vacc_effective    float64\n",
       "opinion_seas_risk              float64\n",
       "opinion_seas_sick_from_vacc    float64\n",
       "age_group                       object\n",
       "education                       object\n",
       "race                            object\n",
       "sex                             object\n",
       "income_poverty                  object\n",
       "marital_status                  object\n",
       "rent_or_own                     object\n",
       "employment_status               object\n",
       "hhs_geo_region                  object\n",
       "census_msa                      object\n",
       "household_adults               float64\n",
       "household_children             float64\n",
       "employment_industry             object\n",
       "employment_occupation           object\n",
       "h1n1_vaccine                     int64\n",
       "seasonal_vaccine                 int64\n",
       "dtype: object"
      ]
     },
     "execution_count": 198,
     "metadata": {},
     "output_type": "execute_result"
    }
   ],
   "source": [
    "data.dtypes"
   ]
  },
  {
   "cell_type": "code",
   "execution_count": 199,
   "id": "b7d73ae6-b17f-4c91-b73e-f183ac36e596",
   "metadata": {},
   "outputs": [
    {
     "data": {
      "text/plain": [
       "['doctor_recc_h1n1',\n",
       " 'doctor_recc_seasonal',\n",
       " 'chronic_med_condition',\n",
       " 'health_worker',\n",
       " 'health_insurance',\n",
       " 'age_group',\n",
       " 'education',\n",
       " 'race',\n",
       " 'sex',\n",
       " 'income_poverty',\n",
       " 'marital_status',\n",
       " 'rent_or_own',\n",
       " 'employment_status',\n",
       " 'hhs_geo_region',\n",
       " 'census_msa',\n",
       " 'employment_industry',\n",
       " 'employment_occupation']"
      ]
     },
     "execution_count": 199,
     "metadata": {},
     "output_type": "execute_result"
    }
   ],
   "source": [
    "# Identify categorical columns that will need to be dummified\n",
    "categorical_columns = list(data.select_dtypes('object').columns)\n",
    "categorical_columns"
   ]
  },
  {
   "cell_type": "markdown",
   "id": "b10d46b1-f9f7-4e66-a267-f25eb278fc26",
   "metadata": {},
   "source": [
    "**Define X and y, dummify X and train-test split**"
   ]
  },
  {
   "cell_type": "code",
   "execution_count": 200,
   "id": "5f176a23-59ea-4c5f-87b6-4f92a5777ea3",
   "metadata": {},
   "outputs": [],
   "source": [
    "X = data.drop(columns=['h1n1_vaccine', 'seasonal_vaccine'])\n",
    "y = data['h1n1_vaccine']"
   ]
  },
  {
   "cell_type": "code",
   "execution_count": 201,
   "id": "c9d6c457-e782-46ce-a4a8-462992b40072",
   "metadata": {},
   "outputs": [],
   "source": [
    "Xd = pd.get_dummies(data=X, columns=categorical_columns, drop_first=True)"
   ]
  },
  {
   "cell_type": "code",
   "execution_count": 202,
   "id": "f0670efa-5ed1-43ef-9471-334613c82042",
   "metadata": {},
   "outputs": [],
   "source": [
    "X_train, X_test, y_train, y_test = train_test_split(Xd, y, random_state=42, stratify=y)"
   ]
  },
  {
   "cell_type": "code",
   "execution_count": 203,
   "id": "9d9e40b6-c765-472e-8e11-b3699e5a5190",
   "metadata": {},
   "outputs": [],
   "source": [
    "X_train = np.array(X_train)\n",
    "X_test = np.array(X_test)"
   ]
  },
  {
   "cell_type": "code",
   "execution_count": 204,
   "id": "739284c5-95c4-457d-8338-de6f3cf8e2d9",
   "metadata": {},
   "outputs": [],
   "source": [
    "y_train = np.array(y_train)\n",
    "y_test = np.array(y_test)"
   ]
  },
  {
   "cell_type": "markdown",
   "id": "83776628-551a-4796-a77c-928b1ab61b19",
   "metadata": {},
   "source": [
    "**Run Gridsearch on XGBoost Model to find optimum parameters**  \n",
    "**Please convert the following cells from markdown to code if you want to run the gridsearch**  \n",
    "First-pass, optimizing for `roc_auc`,\n",
    "finally, optimized for `recall`"
   ]
  },
  {
   "cell_type": "markdown",
   "id": "47f9019c-3600-42df-bd7d-6572b7126ef4",
   "metadata": {
    "tags": []
   },
   "source": [
    "```\n",
    "xg_cls = xgb.XGBClassifier(random_state=42, \n",
    "                           use_label_encoder=False, \n",
    "                           n_jobs=-1,\n",
    "                          eval_metric='error')\n",
    "\n",
    "params = {\n",
    "    'n_estimators' : [100, 200, 250],\n",
    "    'max_depth' : list(range(3, 11)),\n",
    "    'learning_rate' : [0.01, 0.005, 0.1, 0.3],\n",
    "    'colsample_bytree' : [0.5, 0.75, 1],\n",
    "    'subsample' : [0.6, 0.8, 1] \n",
    "}\n",
    "\n",
    "gs = GridSearchCV(estimator=xg_cls, param_grid=params, scoring='roc_auc')\n",
    "\n",
    "gs.fit(X_train, y_train)\n",
    "\n",
    "y_pred = gs.predict(X_test)\n",
    "```"
   ]
  },
  {
   "cell_type": "markdown",
   "id": "e59df4fd-d62e-4878-a68f-9a4c16a179ae",
   "metadata": {},
   "source": [
    "```\n",
    "gs.best_score_\n",
    "\n",
    "gs.best_estimator_\n",
    "\n",
    "gs.best_params_\n",
    "\n",
    "accuracy_score(y_test, y_pred)\n",
    "\n",
    "precision_score(y_test, y_pred)\n",
    "\n",
    "recall_score(y_test, y_pred)\n",
    "\n",
    "roc_auc_score(y_test, y_pred)\n",
    "\n",
    "ConfusionMatrixDisplay.from_predictions(y_test, test_pred, display_labels=['Vaccinated', 'Unvaccinated'])\n",
    "```"
   ]
  },
  {
   "cell_type": "markdown",
   "id": "59aed668-7fd9-4280-bc79-c3e9cadf6112",
   "metadata": {
    "tags": []
   },
   "source": [
    "### Switch labels for vaccinated and Unvaccinated\n",
    "**Scores for predicting h1n1 don't look too good with the current dataset. \n",
    "Switching labels for positive and negative class. In original dataset, vaccinated=1, unvaccinated=0. I will switch them so vaccinated=0 and unvaccinated=1 since we're more interested in the unvaccinated calss.**"
   ]
  },
  {
   "cell_type": "markdown",
   "id": "6965c2a0-5338-4bcf-b51c-a032791957fe",
   "metadata": {},
   "source": [
    "**Import and examine data**"
   ]
  },
  {
   "cell_type": "code",
   "execution_count": 41,
   "id": "e09358c9-c825-41e5-a0e2-2e9d86a2e448",
   "metadata": {},
   "outputs": [],
   "source": [
    "data = pd.read_csv('../data/train_clean.csv')"
   ]
  },
  {
   "cell_type": "code",
   "execution_count": 42,
   "id": "2443ebc1-6807-4377-88d5-759469337425",
   "metadata": {},
   "outputs": [
    {
     "data": {
      "text/plain": [
       "0    21033\n",
       "1     5674\n",
       "Name: h1n1_vaccine, dtype: int64"
      ]
     },
     "execution_count": 42,
     "metadata": {},
     "output_type": "execute_result"
    }
   ],
   "source": [
    "data['h1n1_vaccine'].value_counts()"
   ]
  },
  {
   "cell_type": "code",
   "execution_count": 43,
   "id": "e131ed80-0fe4-4126-9998-de6bcc49c242",
   "metadata": {},
   "outputs": [
    {
     "data": {
      "text/plain": [
       "0    14272\n",
       "1    12435\n",
       "Name: seasonal_vaccine, dtype: int64"
      ]
     },
     "execution_count": 43,
     "metadata": {},
     "output_type": "execute_result"
    }
   ],
   "source": [
    "data['seasonal_vaccine'].value_counts()"
   ]
  },
  {
   "cell_type": "code",
   "execution_count": 44,
   "id": "f27bc87d-f210-48e0-bada-c3fbde0018d5",
   "metadata": {
    "tags": []
   },
   "outputs": [
    {
     "data": {
      "text/plain": [
       "1    21033\n",
       "0     5674\n",
       "Name: h1n1_vaccine, dtype: int64"
      ]
     },
     "execution_count": 44,
     "metadata": {},
     "output_type": "execute_result"
    }
   ],
   "source": [
    "# since we're interested in the people who did not get vaccinated: switch 0 and 1 labels\n",
    "data['h1n1_vaccine'].replace({1:0, 0:1}, inplace=True)\n",
    "data['h1n1_vaccine'].value_counts()"
   ]
  },
  {
   "cell_type": "code",
   "execution_count": 45,
   "id": "79526add-a58c-4327-9347-33d11b094224",
   "metadata": {
    "tags": []
   },
   "outputs": [
    {
     "data": {
      "text/plain": [
       "1    14272\n",
       "0    12435\n",
       "Name: seasonal_vaccine, dtype: int64"
      ]
     },
     "execution_count": 45,
     "metadata": {},
     "output_type": "execute_result"
    }
   ],
   "source": [
    "data['seasonal_vaccine'].replace({1:0, 0:1}, inplace=True)\n",
    "data['seasonal_vaccine'].value_counts()"
   ]
  },
  {
   "cell_type": "markdown",
   "id": "3f5fd666-2726-49a3-a93a-1e485e532ed4",
   "metadata": {},
   "source": [
    "**Define X and y, dummify X and train-test split**"
   ]
  },
  {
   "cell_type": "code",
   "execution_count": 46,
   "id": "5573cfd3-4132-4951-98f0-cb4526acd298",
   "metadata": {},
   "outputs": [],
   "source": [
    "X = data.drop(columns=['h1n1_vaccine', 'seasonal_vaccine'])\n",
    "y = data['h1n1_vaccine']"
   ]
  },
  {
   "cell_type": "code",
   "execution_count": 47,
   "id": "f07cfacb-bdd9-4230-a561-67dd91eac977",
   "metadata": {},
   "outputs": [],
   "source": [
    "Xd = pd.get_dummies(data=X, columns=categorical_columns, drop_first=True)"
   ]
  },
  {
   "cell_type": "code",
   "execution_count": 48,
   "id": "145efc92-6f2f-4387-902b-8572d05ccb20",
   "metadata": {},
   "outputs": [],
   "source": [
    "X_train, X_test, y_train, y_test = train_test_split(Xd, y, random_state=42, stratify=y)"
   ]
  },
  {
   "cell_type": "code",
   "execution_count": 49,
   "id": "e5659a01-0ebd-4ee6-9beb-740529306c11",
   "metadata": {},
   "outputs": [],
   "source": [
    "X_train = np.array(X_train)\n",
    "X_test = np.array(X_test)"
   ]
  },
  {
   "cell_type": "code",
   "execution_count": 50,
   "id": "0cb3c72d-ebbe-478e-beed-88195ebfc8e8",
   "metadata": {},
   "outputs": [],
   "source": [
    "y_train = np.array(y_train)\n",
    "y_test = np.array(y_test)"
   ]
  },
  {
   "cell_type": "code",
   "execution_count": 51,
   "id": "3bc52799-65de-4484-b861-5e62186703c0",
   "metadata": {},
   "outputs": [
    {
     "name": "stdout",
     "output_type": "stream",
     "text": [
      "[20:20:18] WARNING: D:\\bld\\xgboost-split_1645118015404\\work\\src\\learner.cc:1115: Starting in XGBoost 1.3.0, the default evaluation metric used with the objective 'binary:logistic' was changed from 'error' to 'logloss'. Explicitly set eval_metric if you'd like to restore the old behavior.\n"
     ]
    },
    {
     "data": {
      "text/plain": [
       "XGBClassifier(base_score=0.5, booster='gbtree', colsample_bylevel=1,\n",
       "              colsample_bynode=1, colsample_bytree=0.5,\n",
       "              enable_categorical=False, gamma=0, gpu_id=-1,\n",
       "              importance_type=None, interaction_constraints='',\n",
       "              learning_rate=0.1, max_delta_step=0, max_depth=3,\n",
       "              min_child_weight=1, missing=nan, monotone_constraints='()',\n",
       "              n_estimators=200, n_jobs=16, num_parallel_tree=1,\n",
       "              predictor='auto', random_state=42, reg_alpha=0, reg_lambda=1,\n",
       "              scale_pos_weight=1, subsample=1, tree_method='exact',\n",
       "              use_label_encoder=False, validate_parameters=1, verbosity=None)"
      ]
     },
     "execution_count": 51,
     "metadata": {},
     "output_type": "execute_result"
    }
   ],
   "source": [
    "model = xgb.XGBClassifier(random_state=42,\n",
    "                          use_label_encoder=False,\n",
    "                          colsample_bytree=0.5,\n",
    "                          learning_rate=0.1,\n",
    "                          max_depth=3,\n",
    "                          n_estimators=200,\n",
    "                          subsample=1\n",
    "                         )\n",
    "model.fit(X_train, y_train)\n"
   ]
  },
  {
   "cell_type": "code",
   "execution_count": 52,
   "id": "b584c7a0-77f3-4f26-8bbe-563eac7f2253",
   "metadata": {},
   "outputs": [],
   "source": [
    "test_pred = model.predict(X_test)\n",
    "train_pred = model.predict(X_train)"
   ]
  },
  {
   "cell_type": "code",
   "execution_count": 53,
   "id": "0d41774f-1a5f-4a28-adf6-aad93dc57faf",
   "metadata": {},
   "outputs": [
    {
     "data": {
      "text/plain": [
       "(15775, 20030)"
      ]
     },
     "execution_count": 53,
     "metadata": {},
     "output_type": "execute_result"
    }
   ],
   "source": [
    "sum(y_train), len(y_train)"
   ]
  },
  {
   "cell_type": "code",
   "execution_count": 54,
   "id": "ce6f11dc-db3f-4226-87de-08e8365202b9",
   "metadata": {},
   "outputs": [
    {
     "data": {
      "text/plain": [
       "1    15775\n",
       "0     4255\n",
       "dtype: int64"
      ]
     },
     "execution_count": 54,
     "metadata": {},
     "output_type": "execute_result"
    }
   ],
   "source": [
    "pd.Series(y_train).value_counts()"
   ]
  },
  {
   "cell_type": "code",
   "execution_count": 55,
   "id": "4e5a432c-c4ff-48e9-8227-07899075e65b",
   "metadata": {},
   "outputs": [
    {
     "data": {
      "text/plain": [
       "(5258, 6677, 5676, 6677)"
      ]
     },
     "execution_count": 55,
     "metadata": {},
     "output_type": "execute_result"
    }
   ],
   "source": [
    "sum(y_test),len(y_test), sum(test_pred),len(test_pred)"
   ]
  },
  {
   "cell_type": "code",
   "execution_count": 56,
   "id": "19a0acbd-163b-4ddf-865d-842ada4ed4fd",
   "metadata": {},
   "outputs": [],
   "source": [
    "from sklearn.metrics import ConfusionMatrixDisplay"
   ]
  },
  {
   "cell_type": "code",
   "execution_count": 57,
   "id": "93ce4f0f-6b98-4189-9e25-da4f1eea128d",
   "metadata": {},
   "outputs": [
    {
     "data": {
      "text/plain": [
       "<sklearn.metrics._plot.confusion_matrix.ConfusionMatrixDisplay at 0x15fa6e0b5b0>"
      ]
     },
     "execution_count": 57,
     "metadata": {},
     "output_type": "execute_result"
    },
    {
     "data": {
      "image/png": "[encoded data removed]",
      "text/plain": [
       "<Figure size 432x288 with 2 Axes>"
      ]
     },
     "metadata": {
      "needs_background": "light"
     },
     "output_type": "display_data"
    }
   ],
   "source": [
    "ConfusionMatrixDisplay.from_predictions(y_test, test_pred, display_labels=['Vaccinated', 'Unvaccinated'])"
   ]
  },
  {
   "cell_type": "code",
   "execution_count": 58,
   "id": "1cb96e5e-7a09-4ccb-b0a7-9bef4127a8e6",
   "metadata": {},
   "outputs": [
    {
     "data": {
      "text/plain": [
       "(0.855623783136139, 0.8657513729405891)"
      ]
     },
     "execution_count": 58,
     "metadata": {},
     "output_type": "execute_result"
    }
   ],
   "source": [
    "accuracy_score(y_test, test_pred), accuracy_score(y_train, train_pred)"
   ]
  },
  {
   "cell_type": "code",
   "execution_count": 59,
   "id": "69f83027-313c-48fd-a316-cc652d9a0be0",
   "metadata": {},
   "outputs": [
    {
     "data": {
      "text/plain": [
       "0.8782593375616632"
      ]
     },
     "execution_count": 59,
     "metadata": {},
     "output_type": "execute_result"
    }
   ],
   "source": [
    "precision_score(y_test, test_pred)"
   ]
  },
  {
   "cell_type": "code",
   "execution_count": 60,
   "id": "2dc0f05b-e9d0-4d6e-ab4f-1cb1940c3962",
   "metadata": {},
   "outputs": [
    {
     "data": {
      "text/plain": [
       "0.9480791175351845"
      ]
     },
     "execution_count": 60,
     "metadata": {},
     "output_type": "execute_result"
    }
   ],
   "source": [
    "recall_score(y_test, test_pred)"
   ]
  },
  {
   "cell_type": "code",
   "execution_count": 61,
   "id": "ca04f020-12ed-4cc1-b5fa-67e2291b7762",
   "metadata": {},
   "outputs": [
    {
     "data": {
      "text/plain": [
       "0.7305582338909185"
      ]
     },
     "execution_count": 61,
     "metadata": {},
     "output_type": "execute_result"
    }
   ],
   "source": [
    "roc_auc_score(y_test, test_pred)"
   ]
  },
  {
   "cell_type": "markdown",
   "id": "0ee6beb4-f31d-4818-b34b-79e4e4b81872",
   "metadata": {},
   "source": [
    "Optimized for | Features Used | Accuracy | Precision | Recall | Roc_Auc\n",
    "--------------------|---------------|----------|-----------|--------|--------\n",
    "roc_auc    |All features, label classes switched (unvacc = 1)| 0.855| 0.878 |0.948|0.730"
   ]
  },
  {
   "cell_type": "markdown",
   "id": "0960b2ee-4b2f-4de7-b3ab-107d1304a0e8",
   "metadata": {
    "jp-MarkdownHeadingCollapsed": true,
    "tags": []
   },
   "source": [
    "### To improve model, try using seasonal vaccine as a predictor\n",
    "Switch classes from original and use seasonal vaccine as a feature "
   ]
  },
  {
   "cell_type": "markdown",
   "id": "04de8980-20ec-4515-b947-ec31badd66af",
   "metadata": {},
   "source": [
    "**Import and examine data**"
   ]
  },
  {
   "cell_type": "code",
   "execution_count": 62,
   "id": "444c3956-ff49-4265-83fa-a83623f7d876",
   "metadata": {},
   "outputs": [],
   "source": [
    "data = pd.read_csv('../data/train_clean.csv')"
   ]
  },
  {
   "cell_type": "code",
   "execution_count": 63,
   "id": "c9728856-94d2-4c7a-a860-4f0fde25fac1",
   "metadata": {},
   "outputs": [
    {
     "data": {
      "text/plain": [
       "0    21033\n",
       "1     5674\n",
       "Name: h1n1_vaccine, dtype: int64"
      ]
     },
     "execution_count": 63,
     "metadata": {},
     "output_type": "execute_result"
    }
   ],
   "source": [
    "data['h1n1_vaccine'].value_counts()"
   ]
  },
  {
   "cell_type": "code",
   "execution_count": 64,
   "id": "f358cec6-0dfc-423c-8be0-28e7d0b3bf8b",
   "metadata": {},
   "outputs": [
    {
     "data": {
      "text/plain": [
       "0    14272\n",
       "1    12435\n",
       "Name: seasonal_vaccine, dtype: int64"
      ]
     },
     "execution_count": 64,
     "metadata": {},
     "output_type": "execute_result"
    }
   ],
   "source": [
    "data['seasonal_vaccine'].value_counts()"
   ]
  },
  {
   "cell_type": "code",
   "execution_count": 65,
   "id": "08ba5cb5-bc69-40c8-ae5a-ffe1519a3eb1",
   "metadata": {
    "tags": []
   },
   "outputs": [
    {
     "data": {
      "text/plain": [
       "1    14272\n",
       "0    12435\n",
       "Name: seasonal_vaccine, dtype: int64"
      ]
     },
     "execution_count": 65,
     "metadata": {},
     "output_type": "execute_result"
    }
   ],
   "source": [
    "# since we're interested in the people who did not get vaccinated: switch 0 and 1 labels\n",
    "data['h1n1_vaccine'].replace({1:0, 0:1}, inplace=True)\n",
    "data['h1n1_vaccine'].value_counts()\n",
    "\n",
    "data['seasonal_vaccine'].replace({1:0, 0:1}, inplace=True)\n",
    "data['seasonal_vaccine'].value_counts()"
   ]
  },
  {
   "cell_type": "markdown",
   "id": "886c3229-3822-4545-a2a9-b64e878e8ccd",
   "metadata": {},
   "source": [
    "**Define X and y, dummify X and train-test split**"
   ]
  },
  {
   "cell_type": "code",
   "execution_count": 66,
   "id": "abc3393f-860d-411d-b890-1f487c49bd72",
   "metadata": {},
   "outputs": [],
   "source": [
    "X = data.drop(columns=['h1n1_vaccine'])\n",
    "y = data['h1n1_vaccine']"
   ]
  },
  {
   "cell_type": "code",
   "execution_count": 67,
   "id": "65675f3a-2ecd-4d45-8ab3-29ad1dd6a75c",
   "metadata": {},
   "outputs": [],
   "source": [
    "Xd = pd.get_dummies(data=X, columns=categorical_columns, drop_first=True)"
   ]
  },
  {
   "cell_type": "code",
   "execution_count": 68,
   "id": "662c4e06-60f2-431b-a275-0a9c24a3bc63",
   "metadata": {},
   "outputs": [],
   "source": [
    "X_train, X_test, y_train, y_test = train_test_split(Xd, y, random_state=42, stratify=y)"
   ]
  },
  {
   "cell_type": "code",
   "execution_count": 69,
   "id": "93107f0a-11a0-4218-8b33-5dfec419ccbd",
   "metadata": {},
   "outputs": [],
   "source": [
    "X_train = np.array(X_train)\n",
    "X_test = np.array(X_test)"
   ]
  },
  {
   "cell_type": "code",
   "execution_count": 70,
   "id": "3eb99736-1920-4a72-baac-55954a668c69",
   "metadata": {},
   "outputs": [],
   "source": [
    "y_train = np.array(y_train)\n",
    "y_test = np.array(y_test)"
   ]
  },
  {
   "cell_type": "code",
   "execution_count": 71,
   "id": "50b62d68-bfac-4662-a72e-d6d87eeff4cb",
   "metadata": {},
   "outputs": [
    {
     "name": "stdout",
     "output_type": "stream",
     "text": [
      "[20:21:40] WARNING: D:\\bld\\xgboost-split_1645118015404\\work\\src\\learner.cc:1115: Starting in XGBoost 1.3.0, the default evaluation metric used with the objective 'binary:logistic' was changed from 'error' to 'logloss'. Explicitly set eval_metric if you'd like to restore the old behavior.\n"
     ]
    },
    {
     "data": {
      "text/plain": [
       "XGBClassifier(base_score=0.5, booster='gbtree', colsample_bylevel=1,\n",
       "              colsample_bynode=1, colsample_bytree=0.5,\n",
       "              enable_categorical=False, gamma=0, gpu_id=-1,\n",
       "              importance_type=None, interaction_constraints='',\n",
       "              learning_rate=0.1, max_delta_step=0, max_depth=3,\n",
       "              min_child_weight=1, missing=nan, monotone_constraints='()',\n",
       "              n_estimators=200, n_jobs=16, num_parallel_tree=1,\n",
       "              predictor='auto', random_state=42, reg_alpha=0, reg_lambda=1,\n",
       "              scale_pos_weight=1, subsample=1, tree_method='exact',\n",
       "              use_label_encoder=False, validate_parameters=1, verbosity=None)"
      ]
     },
     "execution_count": 71,
     "metadata": {},
     "output_type": "execute_result"
    }
   ],
   "source": [
    "model = xgb.XGBClassifier(random_state=42,\n",
    "                          use_label_encoder=False,\n",
    "                          colsample_bytree=0.5,\n",
    "                          learning_rate=0.1,\n",
    "                          max_depth=3,\n",
    "                          n_estimators=200,\n",
    "                          subsample=1\n",
    "                         )\n",
    "model.fit(X_train, y_train)\n"
   ]
  },
  {
   "cell_type": "code",
   "execution_count": 72,
   "id": "a5beff4a-d4a7-4cc4-beb7-222ebd14aea8",
   "metadata": {},
   "outputs": [],
   "source": [
    "test_pred = model.predict(X_test)\n",
    "train_pred = model.predict(X_train)"
   ]
  },
  {
   "cell_type": "code",
   "execution_count": 73,
   "id": "04c294f1-9035-46b4-9349-fe119eed7585",
   "metadata": {},
   "outputs": [
    {
     "data": {
      "text/plain": [
       "(15775, 20030)"
      ]
     },
     "execution_count": 73,
     "metadata": {},
     "output_type": "execute_result"
    }
   ],
   "source": [
    "sum(y_train), len(y_train)"
   ]
  },
  {
   "cell_type": "code",
   "execution_count": 74,
   "id": "88ca8b70-30bf-4945-99a0-76d0426a7fc7",
   "metadata": {},
   "outputs": [
    {
     "data": {
      "text/plain": [
       "1    15775\n",
       "0     4255\n",
       "dtype: int64"
      ]
     },
     "execution_count": 74,
     "metadata": {},
     "output_type": "execute_result"
    }
   ],
   "source": [
    "pd.Series(y_train).value_counts()"
   ]
  },
  {
   "cell_type": "code",
   "execution_count": 75,
   "id": "773e637b-6217-4815-a8f0-ba185b45228d",
   "metadata": {},
   "outputs": [
    {
     "data": {
      "text/plain": [
       "(5258, 6677, 5582, 6677)"
      ]
     },
     "execution_count": 75,
     "metadata": {},
     "output_type": "execute_result"
    }
   ],
   "source": [
    "sum(y_test),len(y_test), sum(test_pred),len(test_pred)"
   ]
  },
  {
   "cell_type": "code",
   "execution_count": 76,
   "id": "3c1adfd9-2ffa-4aba-a303-899d49abf8ab",
   "metadata": {},
   "outputs": [],
   "source": [
    "from sklearn.metrics import ConfusionMatrixDisplay"
   ]
  },
  {
   "cell_type": "code",
   "execution_count": 77,
   "id": "158f2d9f-46da-4ec8-93aa-87532e75e73d",
   "metadata": {},
   "outputs": [
    {
     "data": {
      "text/plain": [
       "<sklearn.metrics._plot.confusion_matrix.ConfusionMatrixDisplay at 0x15fa6f1dc30>"
      ]
     },
     "execution_count": 77,
     "metadata": {},
     "output_type": "execute_result"
    },
    {
     "data": {
      "image/png": "[encoded data removed]",
      "text/plain": [
       "<Figure size 432x288 with 2 Axes>"
      ]
     },
     "metadata": {
      "needs_background": "light"
     },
     "output_type": "display_data"
    }
   ],
   "source": [
    "ConfusionMatrixDisplay.from_predictions(y_test, test_pred, display_labels=['Vaccinated', 'Unvaccinated'])"
   ]
  },
  {
   "cell_type": "code",
   "execution_count": 78,
   "id": "bb0944ea-17cf-4eaa-918b-1b3544f85d56",
   "metadata": {
    "tags": []
   },
   "outputs": [
    {
     "data": {
      "text/plain": [
       "(0.871499176276771, 0.8786320519221168)"
      ]
     },
     "execution_count": 78,
     "metadata": {},
     "output_type": "execute_result"
    }
   ],
   "source": [
    "accuracy_score(y_test, test_pred), accuracy_score(y_train, train_pred)"
   ]
  },
  {
   "cell_type": "code",
   "execution_count": 79,
   "id": "267188ae-2c7f-4a59-acd2-7ed2416a3713",
   "metadata": {},
   "outputs": [
    {
     "data": {
      "text/plain": [
       "0.8941239699032605"
      ]
     },
     "execution_count": 79,
     "metadata": {},
     "output_type": "execute_result"
    }
   ],
   "source": [
    "precision_score(y_test, test_pred)"
   ]
  },
  {
   "cell_type": "code",
   "execution_count": 80,
   "id": "52241557-5697-43fe-84f7-e81ab6346512",
   "metadata": {},
   "outputs": [
    {
     "data": {
      "text/plain": [
       "0.9492202358311145"
      ]
     },
     "execution_count": 80,
     "metadata": {},
     "output_type": "execute_result"
    }
   ],
   "source": [
    "recall_score(y_test, test_pred)"
   ]
  },
  {
   "cell_type": "code",
   "execution_count": 81,
   "id": "d17f7143-3b1b-49da-815e-dfa6e8a35985",
   "metadata": {},
   "outputs": [
    {
     "data": {
      "text/plain": [
       "0.7663648747865932"
      ]
     },
     "execution_count": 81,
     "metadata": {},
     "output_type": "execute_result"
    }
   ],
   "source": [
    "roc_auc_score(y_test, test_pred)"
   ]
  },
  {
   "cell_type": "markdown",
   "id": "3596c578-b7c6-4019-bf80-c7f792dcde25",
   "metadata": {},
   "source": [
    "Optimized for | Features Used | Accuracy | Precision | Recall | Roc_Auc\n",
    "--------------------|---------------|----------|-----------|--------|--------\n",
    "roc_auc    |All features, target classes switched (unvacc = 1)| 0.855| 0.878 |0.948|0.730\n",
    "roc_auc| All features + seasonal flu, target classes switched| 0.871|0.894|0.949|0.766 "
   ]
  },
  {
   "cell_type": "markdown",
   "id": "d1533ead-1739-43db-b576-36b90f040907",
   "metadata": {
    "tags": []
   },
   "source": [
    "### Grid search for best model, optimizing for **Recall Score**\n",
    "I used the same grid search from above to optimize the hyperparameters for the models run below\n",
    "\n",
    "#### Switch classes from original and do some feature engineering\n",
    "Such as make a new feature that is 1 if the subject had both h1n1_concern and h1n1_knowledge, another one for all the behaviors and a third one for doctor recommended"
   ]
  },
  {
   "cell_type": "markdown",
   "id": "a8aa28ac-a49c-42c0-a404-224b1cd4b447",
   "metadata": {},
   "source": [
    "**Import and examine data**"
   ]
  },
  {
   "cell_type": "code",
   "execution_count": 82,
   "id": "c8a55875-f278-4a01-96e6-2ceea43b22be",
   "metadata": {},
   "outputs": [],
   "source": [
    "data = pd.read_csv('../data/train_clean.csv')"
   ]
  },
  {
   "cell_type": "code",
   "execution_count": 83,
   "id": "24c0fcca-6137-4de1-a915-63d6c410258d",
   "metadata": {},
   "outputs": [
    {
     "data": {
      "text/plain": [
       "Index(['respondent_id', 'h1n1_concern', 'h1n1_knowledge',\n",
       "       'behavioral_antiviral_meds', 'behavioral_avoidance',\n",
       "       'behavioral_face_mask', 'behavioral_wash_hands',\n",
       "       'behavioral_large_gatherings', 'behavioral_outside_home',\n",
       "       'behavioral_touch_face', 'doctor_recc_h1n1', 'doctor_recc_seasonal',\n",
       "       'chronic_med_condition', 'child_under_6_months', 'health_worker',\n",
       "       'health_insurance', 'opinion_h1n1_vacc_effective', 'opinion_h1n1_risk',\n",
       "       'opinion_h1n1_sick_from_vacc', 'opinion_seas_vacc_effective',\n",
       "       'opinion_seas_risk', 'opinion_seas_sick_from_vacc', 'age_group',\n",
       "       'education', 'race', 'sex', 'income_poverty', 'marital_status',\n",
       "       'rent_or_own', 'employment_status', 'hhs_geo_region', 'census_msa',\n",
       "       'household_adults', 'household_children', 'employment_industry',\n",
       "       'employment_occupation', 'h1n1_vaccine', 'seasonal_vaccine'],\n",
       "      dtype='object')"
      ]
     },
     "execution_count": 83,
     "metadata": {},
     "output_type": "execute_result"
    }
   ],
   "source": [
    "data.columns"
   ]
  },
  {
   "cell_type": "code",
   "execution_count": 84,
   "id": "707beaac-ccfd-462a-b421-220577a2265d",
   "metadata": {},
   "outputs": [
    {
     "data": {
      "text/plain": [
       "0    0.787546\n",
       "1    0.212454\n",
       "Name: h1n1_vaccine, dtype: float64"
      ]
     },
     "execution_count": 84,
     "metadata": {},
     "output_type": "execute_result"
    }
   ],
   "source": [
    "data['h1n1_vaccine'].value_counts(normalize=True)"
   ]
  },
  {
   "cell_type": "code",
   "execution_count": 85,
   "id": "1dd3cef9-d3eb-4ac8-8a53-b14c3c8325b9",
   "metadata": {},
   "outputs": [
    {
     "data": {
      "text/plain": [
       "0    0.534392\n",
       "1    0.465608\n",
       "Name: seasonal_vaccine, dtype: float64"
      ]
     },
     "execution_count": 85,
     "metadata": {},
     "output_type": "execute_result"
    }
   ],
   "source": [
    "data['seasonal_vaccine'].value_counts(normalize=True)"
   ]
  },
  {
   "cell_type": "code",
   "execution_count": 86,
   "id": "4af63f56-539c-4792-b2bd-a7323a12d8fd",
   "metadata": {
    "tags": []
   },
   "outputs": [
    {
     "data": {
      "text/plain": [
       "1    14272\n",
       "0    12435\n",
       "Name: seasonal_vaccine, dtype: int64"
      ]
     },
     "execution_count": 86,
     "metadata": {},
     "output_type": "execute_result"
    }
   ],
   "source": [
    "# since we're interested in the people who did not get vaccinated: switch 0 and 1 labels\n",
    "data['h1n1_vaccine'].replace({1:0, 0:1}, inplace=True)\n",
    "data['h1n1_vaccine'].value_counts()\n",
    "\n",
    "data['seasonal_vaccine'].replace({1:0, 0:1}, inplace=True)\n",
    "data['seasonal_vaccine'].value_counts()"
   ]
  },
  {
   "cell_type": "markdown",
   "id": "9f80fd12-d50d-4609-b28f-4778bdf1ce0e",
   "metadata": {},
   "source": [
    "**Feature Engineering**"
   ]
  },
  {
   "cell_type": "markdown",
   "id": "4af0d987-164c-44af-9cf9-57da0d662337",
   "metadata": {},
   "source": [
    "Here, I perform the following feature engineering:\n",
    "\n",
    "Feature| Description|\n",
    "-------|------------|\n",
    "`doctor_recc_h1n1`| Values changed: *'no_response':0 , 0: 1, 1: 2*|\n",
    "`doctor_recc_seasonal`| Values changed: *'no_response':0 , 0: 1, 1: 2*|\n",
    "`chronic_med_condition`| Values changed: *'no_response':0 , 0: 1, 1: 2*|\n",
    "`age_group`| Values changed *'18 - 34 Years' : 0, '35 - 44 Years' : 1, '45 - 54 Years' : 2, '55 - 64 Years' : 3, '55 - 64 Years' : 4, '65+ Years' : 5*\n",
    "`health_worker`| Values changed: *'no_response':0 , 0: 1, 1: 2*|\n",
    "`h1n1_all`| Interaction term : `h1n1_concern` * `h1n1_knowledge`  \n",
    "`behavioral_all`| Interaction term : `behavioral_antiviral_meds` * `behavioral_avoidance` * `behavioral_face_mask` * `behavioral_wash_hands` * `behavioral_large_gatherings` * `behavioral_outside_home` * `behavioral_touch_face`\n",
    "`opinion_all`| Interaction term : `opinion_h1n1_vacc_effective` * `opinion_h1n1_risk` * `opinion_h1n1_sick_from_vacc` * `opinion_seas_vacc_effective` * `opinion_seas_risk` * `opinion_seas_sick_from_vacc`\n",
    "`health_worker_by_age`| Interaction term : `health_worker` * `age_group`\n",
    "`doctor_recc_all` | Interaction term : `doctor_recc_h1n1` * `doctor_recc_seasonal`"
   ]
  },
  {
   "cell_type": "code",
   "execution_count": 89,
   "id": "af13d1ce-fe0c-4e61-8b77-9dcd6fad6b51",
   "metadata": {},
   "outputs": [
    {
     "data": {
      "text/plain": [
       "0.0            19139\n",
       "1.0             5408\n",
       "no_response     2160\n",
       "Name: doctor_recc_h1n1, dtype: int64"
      ]
     },
     "execution_count": 89,
     "metadata": {},
     "output_type": "execute_result"
    }
   ],
   "source": [
    "#####\n",
    "data['doctor_recc_h1n1'].value_counts()"
   ]
  },
  {
   "cell_type": "code",
   "execution_count": 90,
   "id": "d5998a21-d460-4c02-8961-a43203517e9a",
   "metadata": {},
   "outputs": [
    {
     "data": {
      "text/plain": [
       "dtype('O')"
      ]
     },
     "execution_count": 90,
     "metadata": {},
     "output_type": "execute_result"
    }
   ],
   "source": [
    "data['doctor_recc_h1n1'].dtypes"
   ]
  },
  {
   "cell_type": "code",
   "execution_count": 91,
   "id": "04b60cc8-d95b-451f-900a-8109392370ee",
   "metadata": {},
   "outputs": [
    {
     "data": {
      "text/plain": [
       "1    19139\n",
       "2     5408\n",
       "0     2160\n",
       "Name: doctor_recc_h1n1, dtype: int64"
      ]
     },
     "execution_count": 91,
     "metadata": {},
     "output_type": "execute_result"
    }
   ],
   "source": [
    "data['doctor_recc_h1n1'] = data['doctor_recc_h1n1'].replace({'0.0': 1, '1.0': 2, 'no_response': 0})\n",
    "\n",
    "data['doctor_recc_h1n1'].value_counts()"
   ]
  },
  {
   "cell_type": "code",
   "execution_count": 92,
   "id": "6539014e-669a-48e3-b128-11d3464f63b3",
   "metadata": {},
   "outputs": [
    {
     "data": {
      "text/plain": [
       "0.0            16453\n",
       "1.0             8094\n",
       "no_response     2160\n",
       "Name: doctor_recc_seasonal, dtype: int64"
      ]
     },
     "execution_count": 92,
     "metadata": {},
     "output_type": "execute_result"
    }
   ],
   "source": [
    "#####\n",
    "data['doctor_recc_seasonal'].value_counts()"
   ]
  },
  {
   "cell_type": "code",
   "execution_count": 93,
   "id": "e2149180-9feb-4cfd-8197-a31c99fce511",
   "metadata": {},
   "outputs": [
    {
     "data": {
      "text/plain": [
       "1    16453\n",
       "2     8094\n",
       "0     2160\n",
       "Name: doctor_recc_seasonal, dtype: int64"
      ]
     },
     "execution_count": 93,
     "metadata": {},
     "output_type": "execute_result"
    }
   ],
   "source": [
    "data['doctor_recc_seasonal'] = data['doctor_recc_seasonal'].replace({'0.0': 1, '1.0': 2, 'no_response': 0})\n",
    "data['doctor_recc_seasonal'].value_counts()"
   ]
  },
  {
   "cell_type": "code",
   "execution_count": 94,
   "id": "bb1a0729-2937-4975-91b7-9e7b5abbea02",
   "metadata": {},
   "outputs": [
    {
     "data": {
      "text/plain": [
       "0.0            18446\n",
       "1.0             7290\n",
       "no_response      971\n",
       "Name: chronic_med_condition, dtype: int64"
      ]
     },
     "execution_count": 94,
     "metadata": {},
     "output_type": "execute_result"
    }
   ],
   "source": [
    "#####\n",
    "data['chronic_med_condition'].value_counts()"
   ]
  },
  {
   "cell_type": "code",
   "execution_count": 95,
   "id": "8a1956aa-bd6b-4650-ad3a-174e1a66816f",
   "metadata": {},
   "outputs": [
    {
     "data": {
      "text/plain": [
       "1    18446\n",
       "2     7290\n",
       "0      971\n",
       "Name: chronic_med_condition, dtype: int64"
      ]
     },
     "execution_count": 95,
     "metadata": {},
     "output_type": "execute_result"
    }
   ],
   "source": [
    "data['chronic_med_condition'] = data['chronic_med_condition'].replace({'no_response' : 0, '0.0' : 1, '1.0': 2})\n",
    "data['chronic_med_condition'].value_counts()"
   ]
  },
  {
   "cell_type": "code",
   "execution_count": 96,
   "id": "92916a14-02ba-4c65-9c9c-8201a463cbf7",
   "metadata": {},
   "outputs": [
    {
     "data": {
      "text/plain": [
       "65+ Years        6843\n",
       "55 - 64 Years    5563\n",
       "45 - 54 Years    5238\n",
       "18 - 34 Years    5215\n",
       "35 - 44 Years    3848\n",
       "Name: age_group, dtype: int64"
      ]
     },
     "execution_count": 96,
     "metadata": {},
     "output_type": "execute_result"
    }
   ],
   "source": [
    "#####\n",
    "data['age_group'].value_counts()"
   ]
  },
  {
   "cell_type": "code",
   "execution_count": 97,
   "id": "1953ee9f-63cc-4912-992f-4d68c74b3a86",
   "metadata": {},
   "outputs": [
    {
     "data": {
      "text/plain": [
       "5    6843\n",
       "4    5563\n",
       "2    5238\n",
       "0    5215\n",
       "1    3848\n",
       "Name: age_group, dtype: int64"
      ]
     },
     "execution_count": 97,
     "metadata": {},
     "output_type": "execute_result"
    }
   ],
   "source": [
    "data['age_group'].replace({\n",
    "    '18 - 34 Years' : 0,\n",
    "    '35 - 44 Years' : 1,\n",
    "    '45 - 54 Years' : 2,\n",
    "    '55 - 64 Years' : 3,\n",
    "    '55 - 64 Years' : 4,\n",
    "    '65+ Years' : 5\n",
    "    \n",
    "}, inplace=True)\n",
    "\n",
    "data['age_group'].value_counts()"
   ]
  },
  {
   "cell_type": "code",
   "execution_count": 98,
   "id": "840f1780-1c39-46be-8851-77fb1ffd6572",
   "metadata": {},
   "outputs": [
    {
     "data": {
      "text/plain": [
       "no             23004\n",
       "yes             2899\n",
       "no_response      804\n",
       "Name: health_worker, dtype: int64"
      ]
     },
     "execution_count": 98,
     "metadata": {},
     "output_type": "execute_result"
    }
   ],
   "source": [
    "#####\n",
    "\n",
    "data['health_worker'].value_counts()"
   ]
  },
  {
   "cell_type": "code",
   "execution_count": 99,
   "id": "436c0116-d1b9-4353-8ecf-98cf65b96a2c",
   "metadata": {},
   "outputs": [
    {
     "data": {
      "text/plain": [
       "1    23004\n",
       "2     2899\n",
       "0      804\n",
       "Name: health_worker, dtype: int64"
      ]
     },
     "execution_count": 99,
     "metadata": {},
     "output_type": "execute_result"
    }
   ],
   "source": [
    "data['health_worker'].replace({'no_response': 0,'no': 1, 'yes': 2}, inplace=True)\n",
    "data['health_worker'].value_counts()"
   ]
  },
  {
   "cell_type": "code",
   "execution_count": 100,
   "id": "d0aa956a-0dbf-4174-8d44-700797bc0f8a",
   "metadata": {},
   "outputs": [
    {
     "data": {
      "text/plain": [
       "h1n1_concern      float64\n",
       "h1n1_knowledge    float64\n",
       "dtype: object"
      ]
     },
     "execution_count": 100,
     "metadata": {},
     "output_type": "execute_result"
    }
   ],
   "source": [
    "# make a new feature h1n1_all for participants who had both h1n1_concern and h1n1_knowledge\n",
    "data[['h1n1_concern', 'h1n1_knowledge']].dtypes"
   ]
  },
  {
   "cell_type": "code",
   "execution_count": 101,
   "id": "8f45f6f4-fef3-4ed0-9cf3-e2e3b11afdda",
   "metadata": {},
   "outputs": [],
   "source": [
    "data['h1n1_all'] = data['h1n1_concern'] * data['h1n1_knowledge']"
   ]
  },
  {
   "cell_type": "code",
   "execution_count": 102,
   "id": "006b6fa9-56d6-48d8-8622-9e7641dc5fb1",
   "metadata": {},
   "outputs": [
    {
     "data": {
      "text/plain": [
       "behavioral_antiviral_meds      float64\n",
       "behavioral_avoidance           float64\n",
       "behavioral_face_mask           float64\n",
       "behavioral_wash_hands          float64\n",
       "behavioral_large_gatherings    float64\n",
       "behavioral_outside_home        float64\n",
       "behavioral_touch_face          float64\n",
       "dtype: object"
      ]
     },
     "execution_count": 102,
     "metadata": {},
     "output_type": "execute_result"
    }
   ],
   "source": [
    "# make a new feature h1n1_all for participants who responded yes to all the behavior questions\n",
    "behaviour_columns = [column for column in list(data.columns) if 'behavioral' in column]\n",
    "data[behaviour_columns].dtypes"
   ]
  },
  {
   "cell_type": "code",
   "execution_count": 106,
   "id": "2fe64add-52d2-4a2f-b051-f4aa81ad250c",
   "metadata": {},
   "outputs": [],
   "source": [
    "data['behavioral_all'] = 1\n",
    "\n",
    "for column in behaviour_columns:\n",
    "    data['behavioral_all'] = data['behavioral_all'] * data[column]"
   ]
  },
  {
   "cell_type": "code",
   "execution_count": 107,
   "id": "a87dc40e-bf42-47d0-9f5d-61e124f5e5e7",
   "metadata": {},
   "outputs": [
    {
     "data": {
      "text/plain": [
       "opinion_h1n1_vacc_effective    float64\n",
       "opinion_h1n1_risk              float64\n",
       "opinion_h1n1_sick_from_vacc    float64\n",
       "opinion_seas_vacc_effective    float64\n",
       "opinion_seas_risk              float64\n",
       "opinion_seas_sick_from_vacc    float64\n",
       "dtype: object"
      ]
     },
     "execution_count": 107,
     "metadata": {},
     "output_type": "execute_result"
    }
   ],
   "source": [
    "# make a new feature opinion_all for participants based on their opinion scores to the opinion questions\n",
    "opinion_columns = [column for column in list(data.columns) if 'opinion' in column]\n",
    "data[opinion_columns].dtypes"
   ]
  },
  {
   "cell_type": "code",
   "execution_count": 109,
   "id": "f4f22d21-8364-43ca-9554-ae3a99bd16bc",
   "metadata": {},
   "outputs": [],
   "source": [
    "data['opinion_all'] = 1\n",
    "\n",
    "for column in opinion_columns:\n",
    "    data['opinion_all'] = data['opinion_all'] * data[column]"
   ]
  },
  {
   "cell_type": "code",
   "execution_count": 110,
   "id": "04d4ea26-dac5-4d56-9b19-901843a1c8f7",
   "metadata": {},
   "outputs": [],
   "source": [
    "# doctor recommended columns\n",
    "doctor_columns = [column for column in list(data.columns) if 'doctor' in column]\n",
    "\n",
    "data['doctor_recc_all'] = 1\n",
    "\n",
    "for column in opinion_columns:\n",
    "    data['doctor_recc_all'] = data['doctor_recc_all'] * data[column]"
   ]
  },
  {
   "cell_type": "code",
   "execution_count": 113,
   "id": "d82c7ec3-2b31-426a-b0e2-305aa850a90a",
   "metadata": {},
   "outputs": [],
   "source": [
    "# health_worker and age group\n",
    "\n",
    "data['health_worker_by_age'] = data['health_worker'] * data['age_group']"
   ]
  },
  {
   "cell_type": "code",
   "execution_count": 114,
   "id": "11862b88-3931-4946-8c47-dfacff5c8256",
   "metadata": {},
   "outputs": [
    {
     "data": {
      "text/plain": [
       "Index(['respondent_id', 'h1n1_concern', 'h1n1_knowledge',\n",
       "       'behavioral_antiviral_meds', 'behavioral_avoidance',\n",
       "       'behavioral_face_mask', 'behavioral_wash_hands',\n",
       "       'behavioral_large_gatherings', 'behavioral_outside_home',\n",
       "       'behavioral_touch_face', 'doctor_recc_h1n1', 'doctor_recc_seasonal',\n",
       "       'chronic_med_condition', 'child_under_6_months', 'health_worker',\n",
       "       'health_insurance', 'opinion_h1n1_vacc_effective', 'opinion_h1n1_risk',\n",
       "       'opinion_h1n1_sick_from_vacc', 'opinion_seas_vacc_effective',\n",
       "       'opinion_seas_risk', 'opinion_seas_sick_from_vacc', 'age_group',\n",
       "       'education', 'race', 'sex', 'income_poverty', 'marital_status',\n",
       "       'rent_or_own', 'employment_status', 'hhs_geo_region', 'census_msa',\n",
       "       'household_adults', 'household_children', 'employment_industry',\n",
       "       'employment_occupation', 'h1n1_vaccine', 'seasonal_vaccine', 'h1n1_all',\n",
       "       'behavioral_all', 'opinion_all', 'doctor_recc_all',\n",
       "       'health_worker_by_age'],\n",
       "      dtype='object')"
      ]
     },
     "execution_count": 114,
     "metadata": {},
     "output_type": "execute_result"
    }
   ],
   "source": [
    "data.columns"
   ]
  },
  {
   "cell_type": "markdown",
   "id": "1427965b-4683-45e2-9386-6f3f9fbcee66",
   "metadata": {},
   "source": [
    "**Model without new features**  \n",
    "I want to try running the best model without new features"
   ]
  },
  {
   "cell_type": "code",
   "execution_count": 115,
   "id": "958bfa42-734e-41e3-b81a-1dfa4593dc20",
   "metadata": {},
   "outputs": [],
   "source": [
    "X = data.drop(columns=['h1n1_vaccine', 'seasonal_vaccine', 'h1n1_all',\n",
    "       'behavioral_all', 'opinion_all', 'doctor_recc_all',\n",
    "       'health_worker_by_age'])\n",
    "y = data['h1n1_vaccine']"
   ]
  },
  {
   "cell_type": "code",
   "execution_count": 116,
   "id": "d0c3749b-5e8a-423f-ba84-447e7506ada2",
   "metadata": {},
   "outputs": [
    {
     "data": {
      "text/plain": [
       "['health_insurance',\n",
       " 'education',\n",
       " 'race',\n",
       " 'sex',\n",
       " 'income_poverty',\n",
       " 'marital_status',\n",
       " 'rent_or_own',\n",
       " 'employment_status',\n",
       " 'hhs_geo_region',\n",
       " 'census_msa',\n",
       " 'employment_industry',\n",
       " 'employment_occupation']"
      ]
     },
     "execution_count": 116,
     "metadata": {},
     "output_type": "execute_result"
    }
   ],
   "source": [
    "categorical_columns = list(X.select_dtypes('object').columns)\n",
    "categorical_columns"
   ]
  },
  {
   "cell_type": "code",
   "execution_count": 117,
   "id": "175ae29c-3ed0-465e-afb1-8aae41d90009",
   "metadata": {},
   "outputs": [],
   "source": [
    "Xd = pd.get_dummies(data=X, columns=categorical_columns, drop_first=True)"
   ]
  },
  {
   "cell_type": "code",
   "execution_count": 118,
   "id": "a67a546e-d5c0-4d03-81b6-3aa3aad01cac",
   "metadata": {},
   "outputs": [],
   "source": [
    "X_train, X_test, y_train, y_test = train_test_split(Xd, y, random_state=42, stratify=y)"
   ]
  },
  {
   "cell_type": "code",
   "execution_count": 119,
   "id": "4eca50d8-0fc1-498c-b703-4ac784013732",
   "metadata": {},
   "outputs": [],
   "source": [
    "X_train = np.array(X_train)\n",
    "X_test = np.array(X_test)"
   ]
  },
  {
   "cell_type": "code",
   "execution_count": 120,
   "id": "6dadd636-9dfa-4e54-b914-b3eb78d766a4",
   "metadata": {},
   "outputs": [],
   "source": [
    "y_train = np.array(y_train)\n",
    "y_test = np.array(y_test)"
   ]
  },
  {
   "cell_type": "code",
   "execution_count": 121,
   "id": "930bfef2-f903-42df-879c-b3bf4b9111ef",
   "metadata": {},
   "outputs": [
    {
     "name": "stdout",
     "output_type": "stream",
     "text": [
      "[20:37:36] WARNING: D:\\bld\\xgboost-split_1645118015404\\work\\src\\learner.cc:1115: Starting in XGBoost 1.3.0, the default evaluation metric used with the objective 'binary:logistic' was changed from 'error' to 'logloss'. Explicitly set eval_metric if you'd like to restore the old behavior.\n"
     ]
    },
    {
     "data": {
      "text/plain": [
       "XGBClassifier(base_score=0.5, booster='gbtree', colsample_bylevel=1,\n",
       "              colsample_bynode=1, colsample_bytree=0.3,\n",
       "              enable_categorical=False, gamma=0, gpu_id=-1,\n",
       "              importance_type=None, interaction_constraints='',\n",
       "              learning_rate=0.01, max_delta_step=0, max_depth=8,\n",
       "              min_child_weight=1, missing=nan, monotone_constraints='()',\n",
       "              n_estimators=300, n_jobs=16, num_parallel_tree=1,\n",
       "              predictor='auto', random_state=42, reg_alpha=0, reg_lambda=1,\n",
       "              scale_pos_weight=1, subsample=1, tree_method='exact',\n",
       "              use_label_encoder=False, validate_parameters=1, verbosity=None)"
      ]
     },
     "execution_count": 121,
     "metadata": {},
     "output_type": "execute_result"
    }
   ],
   "source": [
    "model = xgb.XGBClassifier(random_state=42,\n",
    "                          use_label_encoder=False,\n",
    "                          colsample_bytree=0.3,\n",
    "                          learning_rate=0.01,\n",
    "                          max_depth=8,\n",
    "                          n_estimators=300,\n",
    "                          subsample=1\n",
    "                         )\n",
    "model.fit(X_train, y_train)\n"
   ]
  },
  {
   "cell_type": "code",
   "execution_count": 122,
   "id": "34639a0e-1d29-4cf6-b924-6d8fe2d25b4d",
   "metadata": {},
   "outputs": [],
   "source": [
    "test_pred = model.predict(X_test)\n",
    "train_pred = model.predict(X_train)"
   ]
  },
  {
   "cell_type": "code",
   "execution_count": 123,
   "id": "127e8e40-7f49-408e-920e-3c7279c95242",
   "metadata": {},
   "outputs": [
    {
     "data": {
      "text/plain": [
       "<sklearn.metrics._plot.confusion_matrix.ConfusionMatrixDisplay at 0x15faca87dc0>"
      ]
     },
     "execution_count": 123,
     "metadata": {},
     "output_type": "execute_result"
    },
    {
     "data": {
      "image/png": "[encoded data removed]",
      "text/plain": [
       "<Figure size 432x288 with 2 Axes>"
      ]
     },
     "metadata": {
      "needs_background": "light"
     },
     "output_type": "display_data"
    }
   ],
   "source": [
    "ConfusionMatrixDisplay.from_predictions(y_test, test_pred, display_labels=['Vaccinated', 'Unvaccinated'])"
   ]
  },
  {
   "cell_type": "code",
   "execution_count": 124,
   "id": "1409c436-1380-4e55-a0ea-6d78e1eb4525",
   "metadata": {},
   "outputs": [
    {
     "data": {
      "text/plain": [
       "(0.6791821100958009, 0.7274214543903788)"
      ]
     },
     "execution_count": 124,
     "metadata": {},
     "output_type": "execute_result"
    }
   ],
   "source": [
    "balanced_accuracy_score(y_test, test_pred), balanced_accuracy_score(y_train, train_pred)"
   ]
  },
  {
   "cell_type": "code",
   "execution_count": 125,
   "id": "c14f64a1-254b-4314-9b53-277c264ee3b4",
   "metadata": {},
   "outputs": [
    {
     "data": {
      "text/plain": [
       "0.8544663767146202"
      ]
     },
     "execution_count": 125,
     "metadata": {},
     "output_type": "execute_result"
    }
   ],
   "source": [
    "precision_score(y_test, test_pred)"
   ]
  },
  {
   "cell_type": "code",
   "execution_count": 126,
   "id": "29421263-1f3c-40c7-8f2d-566f18d6ee11",
   "metadata": {},
   "outputs": [
    {
     "data": {
      "text/plain": [
       "0.9714720426017497"
      ]
     },
     "execution_count": 126,
     "metadata": {},
     "output_type": "execute_result"
    }
   ],
   "source": [
    "recall_score(y_test, test_pred)"
   ]
  },
  {
   "cell_type": "code",
   "execution_count": 127,
   "id": "c9dfb46d-1936-4eda-b7bd-bdf15bcd3624",
   "metadata": {},
   "outputs": [
    {
     "data": {
      "text/plain": [
       "0.6791821100958009"
      ]
     },
     "execution_count": 127,
     "metadata": {},
     "output_type": "execute_result"
    }
   ],
   "source": [
    "roc_auc_score(y_test, test_pred)"
   ]
  },
  {
   "cell_type": "code",
   "execution_count": 128,
   "id": "061e26fa-95bd-47ba-beee-d212763dbd52",
   "metadata": {},
   "outputs": [
    {
     "data": {
      "text/plain": [
       "0.8472367829863712"
      ]
     },
     "execution_count": 128,
     "metadata": {},
     "output_type": "execute_result"
    }
   ],
   "source": [
    "accuracy_score(y_test, test_pred)"
   ]
  },
  {
   "cell_type": "markdown",
   "id": "e07467e5-66a4-44d2-8b3c-d0ea3b5bd03c",
   "metadata": {},
   "source": [
    "Optimized for | Features Used | Accuracy | Precision | Recall | Roc_Auc\n",
    "--------------------|---------------|----------|-----------|--------|--------\n",
    "roc_auc    |All features, target classes switched (unvacc = 1)| 0.855| 0.878 |0.948|0.730\n",
    "roc_auc| All features + seasonal flu, target classes switched| 0.871|0.894|0.949|0.766 \n",
    "Recall| All features, target classes switched|0.847|0.854|0.971|0.679"
   ]
  },
  {
   "cell_type": "markdown",
   "id": "bfaf11b7-53cc-44d5-8bb3-2cef68350568",
   "metadata": {},
   "source": [
    "**Model with engineered features** to see if it does better than the model without the new features"
   ]
  },
  {
   "cell_type": "code",
   "execution_count": 129,
   "id": "a317374c-b5e8-4ea5-9049-869e631179e0",
   "metadata": {},
   "outputs": [],
   "source": [
    "X = data.drop(columns=['h1n1_vaccine', 'seasonal_vaccine'])\n",
    "y = data['h1n1_vaccine']"
   ]
  },
  {
   "cell_type": "code",
   "execution_count": 130,
   "id": "493e3737-44c4-4eb5-88ba-bafd3bf7b21f",
   "metadata": {},
   "outputs": [
    {
     "data": {
      "text/plain": [
       "['health_insurance',\n",
       " 'education',\n",
       " 'race',\n",
       " 'sex',\n",
       " 'income_poverty',\n",
       " 'marital_status',\n",
       " 'rent_or_own',\n",
       " 'employment_status',\n",
       " 'hhs_geo_region',\n",
       " 'census_msa',\n",
       " 'employment_industry',\n",
       " 'employment_occupation']"
      ]
     },
     "execution_count": 130,
     "metadata": {},
     "output_type": "execute_result"
    }
   ],
   "source": [
    "categorical_columns = list(X.select_dtypes('object').columns)\n",
    "categorical_columns"
   ]
  },
  {
   "cell_type": "code",
   "execution_count": 131,
   "id": "81285be9-9fe4-4778-a6c5-6169bb870794",
   "metadata": {},
   "outputs": [],
   "source": [
    "Xd = pd.get_dummies(data=X, columns=categorical_columns, drop_first=True)"
   ]
  },
  {
   "cell_type": "code",
   "execution_count": 132,
   "id": "da7e6fbd-2900-423d-b1a8-f2c18acf47b7",
   "metadata": {},
   "outputs": [],
   "source": [
    "X_train, X_test, y_train, y_test = train_test_split(Xd, y, random_state=42, stratify=y)"
   ]
  },
  {
   "cell_type": "code",
   "execution_count": 133,
   "id": "5625308b-815e-4825-abde-a9ba3382303b",
   "metadata": {},
   "outputs": [],
   "source": [
    "X_train = np.array(X_train)\n",
    "X_test = np.array(X_test)"
   ]
  },
  {
   "cell_type": "code",
   "execution_count": 134,
   "id": "752353e4-267e-4b44-b721-5c80c9078b08",
   "metadata": {},
   "outputs": [],
   "source": [
    "y_train = np.array(y_train)\n",
    "y_test = np.array(y_test)"
   ]
  },
  {
   "cell_type": "code",
   "execution_count": 135,
   "id": "bc49fc7b-fb90-447a-904b-b6bee58ff9dc",
   "metadata": {},
   "outputs": [
    {
     "name": "stdout",
     "output_type": "stream",
     "text": [
      "[20:38:06] WARNING: D:\\bld\\xgboost-split_1645118015404\\work\\src\\learner.cc:1115: Starting in XGBoost 1.3.0, the default evaluation metric used with the objective 'binary:logistic' was changed from 'error' to 'logloss'. Explicitly set eval_metric if you'd like to restore the old behavior.\n"
     ]
    },
    {
     "data": {
      "text/plain": [
       "XGBClassifier(base_score=0.5, booster='gbtree', colsample_bylevel=1,\n",
       "              colsample_bynode=1, colsample_bytree=0.3,\n",
       "              enable_categorical=False, gamma=0, gpu_id=-1,\n",
       "              importance_type=None, interaction_constraints='',\n",
       "              learning_rate=0.01, max_delta_step=0, max_depth=8,\n",
       "              min_child_weight=1, missing=nan, monotone_constraints='()',\n",
       "              n_estimators=300, n_jobs=16, num_parallel_tree=1,\n",
       "              predictor='auto', random_state=42, reg_alpha=0, reg_lambda=1,\n",
       "              scale_pos_weight=1, subsample=1, tree_method='exact',\n",
       "              use_label_encoder=False, validate_parameters=1, verbosity=None)"
      ]
     },
     "execution_count": 135,
     "metadata": {},
     "output_type": "execute_result"
    }
   ],
   "source": [
    "model = xgb.XGBClassifier(random_state=42,\n",
    "                          use_label_encoder=False,\n",
    "                          colsample_bytree=0.3,\n",
    "                          learning_rate=0.01,\n",
    "                          max_depth=8,\n",
    "                          n_estimators=300,\n",
    "                          subsample=1\n",
    "                         )\n",
    "model.fit(X_train, y_train)\n"
   ]
  },
  {
   "cell_type": "code",
   "execution_count": 136,
   "id": "e1d2461e-3829-4870-82b0-7302f8180ab3",
   "metadata": {},
   "outputs": [],
   "source": [
    "test_pred = model.predict(X_test)\n",
    "train_pred = model.predict(X_train)"
   ]
  },
  {
   "cell_type": "code",
   "execution_count": 137,
   "id": "969bf31d-aa29-43bd-b1f3-e549fedeb8f9",
   "metadata": {},
   "outputs": [
    {
     "data": {
      "text/plain": [
       "<sklearn.metrics._plot.confusion_matrix.ConfusionMatrixDisplay at 0x15fad14baf0>"
      ]
     },
     "execution_count": 137,
     "metadata": {},
     "output_type": "execute_result"
    },
    {
     "data": {
      "image/png": "[encoded data removed]",
      "text/plain": [
       "<Figure size 432x288 with 2 Axes>"
      ]
     },
     "metadata": {
      "needs_background": "light"
     },
     "output_type": "display_data"
    }
   ],
   "source": [
    "ConfusionMatrixDisplay.from_predictions(y_test, test_pred, display_labels=['Vaccinated', 'Unvaccinated'])"
   ]
  },
  {
   "cell_type": "code",
   "execution_count": 138,
   "id": "468c9e69-14dd-4f65-8c1f-740695e2e2bc",
   "metadata": {},
   "outputs": [
    {
     "data": {
      "text/plain": [
       "(0.6881754196632079, 0.7400606352924963)"
      ]
     },
     "execution_count": 138,
     "metadata": {},
     "output_type": "execute_result"
    }
   ],
   "source": [
    "balanced_accuracy_score(y_test, test_pred), balanced_accuracy_score(y_train, train_pred)"
   ]
  },
  {
   "cell_type": "code",
   "execution_count": 139,
   "id": "a984518d-b430-49c8-9919-63a4d26166b8",
   "metadata": {},
   "outputs": [
    {
     "data": {
      "text/plain": [
       "0.8584937521107734"
      ]
     },
     "execution_count": 139,
     "metadata": {},
     "output_type": "execute_result"
    }
   ],
   "source": [
    "precision_score(y_test, test_pred)"
   ]
  },
  {
   "cell_type": "code",
   "execution_count": 140,
   "id": "dcef5518-b735-4088-bd1d-4894426f8bec",
   "metadata": {},
   "outputs": [
    {
     "data": {
      "text/plain": [
       "0.9669075694180297"
      ]
     },
     "execution_count": 140,
     "metadata": {},
     "output_type": "execute_result"
    }
   ],
   "source": [
    "recall_score(y_test, test_pred)"
   ]
  },
  {
   "cell_type": "code",
   "execution_count": 141,
   "id": "f9b0b31e-43ea-4452-b911-25f5173a8a35",
   "metadata": {},
   "outputs": [
    {
     "data": {
      "text/plain": [
       "0.6881754196632079"
      ]
     },
     "execution_count": 141,
     "metadata": {},
     "output_type": "execute_result"
    }
   ],
   "source": [
    "roc_auc_score(y_test, test_pred)"
   ]
  },
  {
   "cell_type": "markdown",
   "id": "8130b867-a94a-4edf-9d03-e719e0fd3f9a",
   "metadata": {},
   "source": [
    "Optimized for | Features Used | Accuracy | Precision | Recall | Roc_Auc\n",
    "--------------------|---------------|----------|-----------|--------|--------\n",
    "roc_auc    |All features, target classes switched (unvacc = 1)| 0.855| 0.878 |0.948|0.730\n",
    "roc_auc| All features + seasonal flu, target classes switched| 0.871|0.894|0.949|0.766 \n",
    "Recall| All features, target classes switched|0.847|0.854|0.971|0.679\n",
    "Recall|All features + engineered features, target classes switched|0.000|0.858|0.966|0.688|"
   ]
  },
  {
   "cell_type": "markdown",
   "id": "321da3bc-c0cb-44c8-9253-6e03f823e468",
   "metadata": {
    "tags": []
   },
   "source": [
    "### Balance classes for H1N1 vaccine "
   ]
  },
  {
   "cell_type": "markdown",
   "id": "72a1d220-11a0-44ad-8333-2e532afdbf05",
   "metadata": {
    "tags": []
   },
   "source": [
    "#### **Using random oversampler to oversample the minority class**\n",
    "Note: classes are switched here"
   ]
  },
  {
   "cell_type": "code",
   "execution_count": 176,
   "id": "8bcd22a7-379c-448e-806a-d85e6a709dfa",
   "metadata": {},
   "outputs": [],
   "source": [
    "X = data.drop(columns=['h1n1_vaccine', 'seasonal_vaccine'])\n",
    "y = data['h1n1_vaccine']"
   ]
  },
  {
   "cell_type": "code",
   "execution_count": 177,
   "id": "d810b093-4990-48ce-b78b-a242120aaeca",
   "metadata": {},
   "outputs": [
    {
     "data": {
      "text/plain": [
       "1    21033\n",
       "0     5674\n",
       "Name: h1n1_vaccine, dtype: int64"
      ]
     },
     "execution_count": 177,
     "metadata": {},
     "output_type": "execute_result"
    }
   ],
   "source": [
    "y.value_counts()"
   ]
  },
  {
   "cell_type": "code",
   "execution_count": 143,
   "id": "f04e50f0-d087-4b8c-acde-06dc54d3e38b",
   "metadata": {},
   "outputs": [],
   "source": [
    "Xd = pd.get_dummies(data=X, columns=categorical_columns, drop_first=True)"
   ]
  },
  {
   "cell_type": "code",
   "execution_count": 144,
   "id": "10bcad96-a3af-44e2-bea2-753b0f68637a",
   "metadata": {},
   "outputs": [],
   "source": [
    "X_train, X_test, y_train, y_test = train_test_split(Xd, y, random_state=42, stratify=y)"
   ]
  },
  {
   "cell_type": "code",
   "execution_count": 147,
   "id": "5c3d5b59-4b8f-4409-9002-da11248f63bb",
   "metadata": {},
   "outputs": [],
   "source": [
    "ros = RandomOverSampler()\n",
    "\n",
    "X_train_over, y_train_over = ros.fit_resample(X_train, y_train)\n"
   ]
  },
  {
   "cell_type": "code",
   "execution_count": 148,
   "id": "ed27c166-be90-459c-abf5-95db4722341a",
   "metadata": {},
   "outputs": [],
   "source": [
    "X_train_over = np.array(X_train_over)\n",
    "X_test = np.array(X_test)"
   ]
  },
  {
   "cell_type": "code",
   "execution_count": 149,
   "id": "2c936a8f-1ff2-4f65-bc9e-1e7e62ee2ee8",
   "metadata": {},
   "outputs": [],
   "source": [
    "y_train_over = np.array(y_train_over)\n",
    "y_test = np.array(y_test)"
   ]
  },
  {
   "cell_type": "code",
   "execution_count": 150,
   "id": "3b13576c-45dd-404d-90a5-57e9a68deb69",
   "metadata": {},
   "outputs": [
    {
     "name": "stdout",
     "output_type": "stream",
     "text": [
      "[20:42:18] WARNING: D:\\bld\\xgboost-split_1645118015404\\work\\src\\learner.cc:1115: Starting in XGBoost 1.3.0, the default evaluation metric used with the objective 'binary:logistic' was changed from 'error' to 'logloss'. Explicitly set eval_metric if you'd like to restore the old behavior.\n"
     ]
    },
    {
     "data": {
      "text/plain": [
       "XGBClassifier(base_score=0.5, booster='gbtree', colsample_bylevel=1,\n",
       "              colsample_bynode=1, colsample_bytree=0.5,\n",
       "              enable_categorical=False, gamma=0, gpu_id=-1,\n",
       "              importance_type=None, interaction_constraints='',\n",
       "              learning_rate=0.1, max_delta_step=0, max_depth=3,\n",
       "              min_child_weight=1, missing=nan, monotone_constraints='()',\n",
       "              n_estimators=200, n_jobs=16, num_parallel_tree=1,\n",
       "              predictor='auto', random_state=42, reg_alpha=0, reg_lambda=1,\n",
       "              scale_pos_weight=1, subsample=1, tree_method='exact',\n",
       "              use_label_encoder=False, validate_parameters=1, verbosity=None)"
      ]
     },
     "execution_count": 150,
     "metadata": {},
     "output_type": "execute_result"
    }
   ],
   "source": [
    "model = xgb.XGBClassifier(random_state=42,\n",
    "                          use_label_encoder=False,\n",
    "                          colsample_bytree=0.5,\n",
    "                          learning_rate=0.1,\n",
    "                          max_depth=3,\n",
    "                          n_estimators=200,\n",
    "                          subsample=1\n",
    "                         )\n",
    "model.fit(X_train_over, y_train_over)\n"
   ]
  },
  {
   "cell_type": "code",
   "execution_count": 151,
   "id": "d5b9506e-e339-43e1-a8ba-19da6e4c01d4",
   "metadata": {},
   "outputs": [
    {
     "name": "stderr",
     "output_type": "stream",
     "text": [
      "C:\\ProgramData\\Anaconda3\\envs\\xgboost\\lib\\site-packages\\xgboost\\data.py:262: FutureWarning: pandas.Int64Index is deprecated and will be removed from pandas in a future version. Use pandas.Index with the appropriate dtype instead.\n",
      "  elif isinstance(data.columns, (pd.Int64Index, pd.RangeIndex)):\n"
     ]
    }
   ],
   "source": [
    "test_pred = model.predict(X_test)\n",
    "train_pred = model.predict(X_train)"
   ]
  },
  {
   "cell_type": "code",
   "execution_count": 152,
   "id": "f0a32ce9-a9f1-498c-91a5-587f4d1d2e7e",
   "metadata": {},
   "outputs": [
    {
     "data": {
      "text/plain": [
       "(15775, 20030)"
      ]
     },
     "execution_count": 152,
     "metadata": {},
     "output_type": "execute_result"
    }
   ],
   "source": [
    "sum(y_train), len(y_train)"
   ]
  },
  {
   "cell_type": "code",
   "execution_count": 153,
   "id": "764fca74-6bca-4720-a59c-a944e2c19c7e",
   "metadata": {},
   "outputs": [
    {
     "data": {
      "text/plain": [
       "1    15775\n",
       "0     4255\n",
       "Name: h1n1_vaccine, dtype: int64"
      ]
     },
     "execution_count": 153,
     "metadata": {},
     "output_type": "execute_result"
    }
   ],
   "source": [
    "pd.Series(y_train).value_counts()"
   ]
  },
  {
   "cell_type": "code",
   "execution_count": 154,
   "id": "a7ca9af9-56b0-42c3-9a8b-831e28527d26",
   "metadata": {},
   "outputs": [
    {
     "data": {
      "text/plain": [
       "(5258, 6677, 4641, 6677)"
      ]
     },
     "execution_count": 154,
     "metadata": {},
     "output_type": "execute_result"
    }
   ],
   "source": [
    "sum(y_test),len(y_test), sum(test_pred),len(test_pred)"
   ]
  },
  {
   "cell_type": "code",
   "execution_count": 155,
   "id": "15d87453-7d6b-4d61-87ee-00fee45a546e",
   "metadata": {},
   "outputs": [],
   "source": [
    "from sklearn.metrics import ConfusionMatrixDisplay"
   ]
  },
  {
   "cell_type": "code",
   "execution_count": 156,
   "id": "60982062-4779-4b1d-b7c7-c146b2a4c9d6",
   "metadata": {},
   "outputs": [
    {
     "data": {
      "text/plain": [
       "<sklearn.metrics._plot.confusion_matrix.ConfusionMatrixDisplay at 0x15facd25120>"
      ]
     },
     "execution_count": 156,
     "metadata": {},
     "output_type": "execute_result"
    },
    {
     "data": {
      "image/png": "[encoded data removed]",
      "text/plain": [
       "<Figure size 432x288 with 2 Axes>"
      ]
     },
     "metadata": {
      "needs_background": "light"
     },
     "output_type": "display_data"
    }
   ],
   "source": [
    "ConfusionMatrixDisplay.from_predictions(y_test, test_pred, display_labels=['Vaccinated', 'Unvaccinated'])"
   ]
  },
  {
   "cell_type": "code",
   "execution_count": 157,
   "id": "aa599c71-325b-4c1b-b50b-5de78486d9f0",
   "metadata": {},
   "outputs": [
    {
     "data": {
      "text/plain": [
       "(0.8108431930507713, 0.8136295556665003)"
      ]
     },
     "execution_count": 157,
     "metadata": {},
     "output_type": "execute_result"
    }
   ],
   "source": [
    "accuracy_score(y_test, test_pred), accuracy_score(y_train, train_pred)"
   ]
  },
  {
   "cell_type": "code",
   "execution_count": 158,
   "id": "7cf9fccf-771b-4cc5-9b44-1a3f21158d23",
   "metadata": {},
   "outputs": [
    {
     "data": {
      "text/plain": [
       "0.9304029304029304"
      ]
     },
     "execution_count": 158,
     "metadata": {},
     "output_type": "execute_result"
    }
   ],
   "source": [
    "precision_score(y_test, test_pred)"
   ]
  },
  {
   "cell_type": "code",
   "execution_count": 159,
   "id": "aa2a7429-f435-4e61-a481-ac6911ef9d6f",
   "metadata": {},
   "outputs": [
    {
     "data": {
      "text/plain": [
       "0.8212248003042982"
      ]
     },
     "execution_count": 159,
     "metadata": {},
     "output_type": "execute_result"
    }
   ],
   "source": [
    "recall_score(y_test, test_pred)"
   ]
  },
  {
   "cell_type": "code",
   "execution_count": 160,
   "id": "13e60ce3-7aa9-42cc-aefa-e4c025da984c",
   "metadata": {},
   "outputs": [
    {
     "data": {
      "text/plain": [
       "0.796799856107047"
      ]
     },
     "execution_count": 160,
     "metadata": {},
     "output_type": "execute_result"
    }
   ],
   "source": [
    "roc_auc_score(y_test, test_pred)"
   ]
  },
  {
   "cell_type": "markdown",
   "id": "21b8b513-ec1a-48d5-ac20-da3b087f631e",
   "metadata": {},
   "source": [
    "Optimized for | Features Used | Accuracy | Precision | Recall | Roc_Auc\n",
    "--------------------|---------------|----------|-----------|--------|--------\n",
    "roc_auc    |All features, target classes switched (unvacc = 1)| 0.855| 0.878 |0.948|0.730\n",
    "roc_auc| All features + seasonal flu, target classes switched| 0.871|0.894|0.949|0.766 \n",
    "Recall| All features, target classes switched|0.847|0.854|0.971|0.679\n",
    "Recall|All features + engineered features, target classes switched|0.000|0.858|0.966|0.688|\n",
    "Recall|Same as above + RandomOverSampler|0.810|0.930|0.821|0.796"
   ]
  },
  {
   "cell_type": "markdown",
   "id": "0fd54463-ee17-4255-b78e-3db42c9ccaa2",
   "metadata": {
    "tags": []
   },
   "source": [
    "#### **Using SMOTE to oversample minority class**\n",
    "Note: classes are switched here"
   ]
  },
  {
   "cell_type": "code",
   "execution_count": 161,
   "id": "96b44b72-c709-4da0-afc3-4e4d36151817",
   "metadata": {},
   "outputs": [],
   "source": [
    "X = data.drop(columns=['h1n1_vaccine', 'seasonal_vaccine'])\n",
    "y = data['h1n1_vaccine']"
   ]
  },
  {
   "cell_type": "code",
   "execution_count": 162,
   "id": "50df2d19-7c5a-44e1-ac0b-6a9cfab72707",
   "metadata": {},
   "outputs": [
    {
     "data": {
      "text/plain": [
       "['health_insurance',\n",
       " 'education',\n",
       " 'race',\n",
       " 'sex',\n",
       " 'income_poverty',\n",
       " 'marital_status',\n",
       " 'rent_or_own',\n",
       " 'employment_status',\n",
       " 'hhs_geo_region',\n",
       " 'census_msa',\n",
       " 'employment_industry',\n",
       " 'employment_occupation']"
      ]
     },
     "execution_count": 162,
     "metadata": {},
     "output_type": "execute_result"
    }
   ],
   "source": [
    "categorical_columns = list(X.select_dtypes('object').columns)\n",
    "categorical_columns"
   ]
  },
  {
   "cell_type": "code",
   "execution_count": 163,
   "id": "51b8da6d-94b7-4994-94cd-fdfdf084b6f1",
   "metadata": {},
   "outputs": [],
   "source": [
    "Xd = pd.get_dummies(data=X, columns=categorical_columns, drop_first=True)"
   ]
  },
  {
   "cell_type": "code",
   "execution_count": 164,
   "id": "8f4dae01-909b-463a-b0c4-91a155fbd846",
   "metadata": {},
   "outputs": [],
   "source": [
    "X_train, X_test, y_train, y_test = train_test_split(Xd, y, random_state=42, stratify=y)"
   ]
  },
  {
   "cell_type": "code",
   "execution_count": 165,
   "id": "28cdcd17-a056-4c3c-855c-0ffa9b6ed3af",
   "metadata": {},
   "outputs": [],
   "source": [
    "from imblearn.over_sampling import SMOTE\n",
    "\n",
    "smo = SMOTE(k_neighbors=7, random_state=42)\n",
    "\n",
    "X_train_over, y_train_over = smo.fit_resample(X_train, y_train)\n"
   ]
  },
  {
   "cell_type": "code",
   "execution_count": 166,
   "id": "0d3e3c02-9b46-4bd6-8106-c12adb72a3d0",
   "metadata": {},
   "outputs": [],
   "source": [
    "X_train_over = np.array(X_train_over)\n",
    "X_test = np.array(X_test)"
   ]
  },
  {
   "cell_type": "code",
   "execution_count": 167,
   "id": "476b0136-8f28-482f-a264-e5d2ebd8fac2",
   "metadata": {},
   "outputs": [],
   "source": [
    "y_train_over = np.array(y_train_over)\n",
    "y_test = np.array(y_test)"
   ]
  },
  {
   "cell_type": "code",
   "execution_count": 168,
   "id": "d0f1abcd-b335-40ba-bf9f-40588e02ccb1",
   "metadata": {},
   "outputs": [
    {
     "name": "stdout",
     "output_type": "stream",
     "text": [
      "[20:42:33] WARNING: D:\\bld\\xgboost-split_1645118015404\\work\\src\\learner.cc:1115: Starting in XGBoost 1.3.0, the default evaluation metric used with the objective 'binary:logistic' was changed from 'error' to 'logloss'. Explicitly set eval_metric if you'd like to restore the old behavior.\n"
     ]
    },
    {
     "data": {
      "text/plain": [
       "XGBClassifier(base_score=0.5, booster='gbtree', colsample_bylevel=1,\n",
       "              colsample_bynode=1, colsample_bytree=0.3,\n",
       "              enable_categorical=False, gamma=0, gpu_id=-1,\n",
       "              importance_type=None, interaction_constraints='',\n",
       "              learning_rate=0.01, max_delta_step=0, max_depth=8,\n",
       "              min_child_weight=1, missing=nan, monotone_constraints='()',\n",
       "              n_estimators=300, n_jobs=16, num_parallel_tree=1,\n",
       "              predictor='auto', random_state=42, reg_alpha=0, reg_lambda=1,\n",
       "              scale_pos_weight=1, subsample=1, tree_method='exact',\n",
       "              use_label_encoder=False, validate_parameters=1, verbosity=None)"
      ]
     },
     "execution_count": 168,
     "metadata": {},
     "output_type": "execute_result"
    }
   ],
   "source": [
    "model = xgb.XGBClassifier(random_state=42,\n",
    "                          use_label_encoder=False,\n",
    "                          colsample_bytree=0.3,\n",
    "                          learning_rate=0.01,\n",
    "                          max_depth=8,\n",
    "                          n_estimators=300,\n",
    "                          subsample=1\n",
    "                         )\n",
    "model.fit(X_train_over, y_train_over)\n"
   ]
  },
  {
   "cell_type": "code",
   "execution_count": 169,
   "id": "f2c26dbd-a27b-4eee-bf48-d421d2bd3d7b",
   "metadata": {},
   "outputs": [
    {
     "name": "stderr",
     "output_type": "stream",
     "text": [
      "C:\\ProgramData\\Anaconda3\\envs\\xgboost\\lib\\site-packages\\xgboost\\data.py:262: FutureWarning: pandas.Int64Index is deprecated and will be removed from pandas in a future version. Use pandas.Index with the appropriate dtype instead.\n",
      "  elif isinstance(data.columns, (pd.Int64Index, pd.RangeIndex)):\n"
     ]
    }
   ],
   "source": [
    "test_pred = model.predict(X_test)\n",
    "train_pred = model.predict(X_train)"
   ]
  },
  {
   "cell_type": "code",
   "execution_count": 170,
   "id": "f96bbb83-645a-42fe-9e57-825eba1028ff",
   "metadata": {},
   "outputs": [
    {
     "data": {
      "text/plain": [
       "<sklearn.metrics._plot.confusion_matrix.ConfusionMatrixDisplay at 0x15fad1f44c0>"
      ]
     },
     "execution_count": 170,
     "metadata": {},
     "output_type": "execute_result"
    },
    {
     "data": {
      "image/png": "[encoded data removed]",
      "text/plain": [
       "<Figure size 432x288 with 2 Axes>"
      ]
     },
     "metadata": {
      "needs_background": "light"
     },
     "output_type": "display_data"
    }
   ],
   "source": [
    "ConfusionMatrixDisplay.from_predictions(y_test, test_pred, display_labels=['Vaccinated', 'Unvaccinated'])"
   ]
  },
  {
   "cell_type": "code",
   "execution_count": 171,
   "id": "a9871240-2cce-43d5-ba20-b8ece5c7b4e8",
   "metadata": {},
   "outputs": [
    {
     "data": {
      "text/plain": [
       "(0.7010498583185165, 0.7374895201133747)"
      ]
     },
     "execution_count": 171,
     "metadata": {},
     "output_type": "execute_result"
    }
   ],
   "source": [
    "balanced_accuracy_score(y_test, test_pred), balanced_accuracy_score(y_train, train_pred)"
   ]
  },
  {
   "cell_type": "code",
   "execution_count": 172,
   "id": "1d85a277-7557-45f8-89cd-6e02e13fac7d",
   "metadata": {},
   "outputs": [
    {
     "data": {
      "text/plain": [
       "0.8648415977961432"
      ]
     },
     "execution_count": 172,
     "metadata": {},
     "output_type": "execute_result"
    }
   ],
   "source": [
    "precision_score(y_test, test_pred)"
   ]
  },
  {
   "cell_type": "code",
   "execution_count": 173,
   "id": "e4f6eb0a-8f1f-4176-8767-9920ecf0815b",
   "metadata": {},
   "outputs": [
    {
     "data": {
      "text/plain": [
       "0.9553062000760746"
      ]
     },
     "execution_count": 173,
     "metadata": {},
     "output_type": "execute_result"
    }
   ],
   "source": [
    "recall_score(y_test, test_pred)"
   ]
  },
  {
   "cell_type": "code",
   "execution_count": 174,
   "id": "5bba0e8e-d595-45b3-895e-b1fbc3c700b2",
   "metadata": {},
   "outputs": [
    {
     "data": {
      "text/plain": [
       "0.7010498583185165"
      ]
     },
     "execution_count": 174,
     "metadata": {},
     "output_type": "execute_result"
    }
   ],
   "source": [
    "roc_auc_score(y_test, test_pred)"
   ]
  },
  {
   "cell_type": "markdown",
   "id": "e15bce3f-79be-48e2-a7c0-1935157009b7",
   "metadata": {},
   "source": [
    "Optimized for | Features Used | Accuracy | Precision | Recall | Roc_Auc\n",
    "--------------------|---------------|----------|-----------|--------|--------\n",
    "roc_auc    |All features, target classes switched (unvacc = 1)| 0.855| 0.878 |0.948|0.730\n",
    "roc_auc| All features + seasonal flu, target classes switched| 0.871|0.894|0.949|0.766 \n",
    "Recall| All features, target classes switched|0.847|0.854|0.971|0.679\n",
    "Recall|All features + engineered features, target classes switched|0.000|0.858|0.966|0.688|\n",
    "Recall|Same as above + RandomOverSampler|0.810|0.930|0.821|0.796\n",
    "Recall| Same as above + SMOTE | 0.000| 0.864| 0.955|0.701"
   ]
  },
  {
   "cell_type": "markdown",
   "id": "4e137461-8b04-456f-b20b-7e7ac7b1e715",
   "metadata": {},
   "source": [
    "**Grid Search for SMOTE** : I tried this, optimizing for both `roc_auc_score` and `recall` and while the grid search parameters were slightly different, the metrics were very similar as shown below, so I selected the best parameters fromm the gridsearch optimizing for roc_auc as the final model.\n",
    "\n",
    "|Parameter|Optimizing for roc_auc|Optimizing for recall|\n",
    "|---------|----------------------|---------------------|\n",
    "booster|gbtree|gbtree|\n",
    "colsample_bytree|0.9|0.9|\n",
    "learning_rate|0.05|0.05|\n",
    "max_depth|7|3|\n",
    "n_estimators|100|600|\n",
    "subsample|0.5|1|\n",
    "\n",
    "|Metric|Optimizing for roc_auc|Optimizing for recall|\n",
    "|------|----------------------|---------------------| \n",
    "|accuracy|0.852|0.852|\n",
    "|precision|0.879|0.879|\n",
    "|roc_auc|0.730|0.732\n",
    "|recall|0.942|0.939|\n",
    "|balanced_accuracy|0.730|0.732\n",
    "\n",
    "\n"
   ]
  },
  {
   "cell_type": "markdown",
   "id": "f01750c3-e187-4027-80be-6be8e07bae3c",
   "metadata": {
    "tags": []
   },
   "source": [
    "**Please convert the following cells from markdown to code if you want to run this gridsearch**"
   ]
  },
  {
   "cell_type": "markdown",
   "id": "7e86b87c-4788-47f0-94fe-6a627a425fc7",
   "metadata": {
    "tags": []
   },
   "source": [
    "```\n",
    "xg_cls = xgb.XGBClassifier(random_state=42, use_label_encoder=False, eval_metric='error')\n",
    "\n",
    "params = {\n",
    "    'tree_method' :['auto', 'hist'],\n",
    "    'booster' : ['gbtree'],\n",
    "    'n_estimators' : [100, 600],\n",
    "    'max_depth' : [3, 7],\n",
    "    'learning_rate' : [0.001,0.05],\n",
    "    'colsample_bytree' : [0.7, 0.9],\n",
    "    'subsample' : [0.5, 1] \n",
    "}\n",
    "\n",
    "gs = GridSearchCV(estimator=xg_cls, param_grid=params, scoring='recall')\n",
    "\n",
    "gs.fit(X_train_over, y_train_over)\n",
    "\n",
    "y_pred = gs.predict(X_test)\n",
    "\n",
    "```"
   ]
  },
  {
   "cell_type": "markdown",
   "id": "ebf3be94-ef28-473e-ac6d-0fe8429b868e",
   "metadata": {},
   "source": [
    "--------------------\n",
    "```\n",
    "gs.best_score_ \n",
    "\n",
    "# result 0.9463708399366085\n",
    "\n",
    "```\n",
    "------------------------"
   ]
  },
  {
   "cell_type": "markdown",
   "id": "274d25ae-d340-4c66-b759-713178bd1898",
   "metadata": {},
   "source": [
    "```\n",
    "gs.best_estimator_\n",
    "\n",
    "#result\n",
    "\n",
    "XGBClassifier(base_score=0.5, booster='gbtree', colsample_bylevel=1,\n",
    "              colsample_bynode=1, colsample_bytree=0.9,\n",
    "              enable_categorical=False, eval_metric='error', gamma=0, gpu_id=-1,\n",
    "              importance_type=None, interaction_constraints='',\n",
    "              learning_rate=0.05, max_delta_step=0, max_depth=3,\n",
    "              min_child_weight=1, missing=nan, monotone_constraints='()',\n",
    "              n_estimators=600, n_jobs=16, num_parallel_tree=1,\n",
    "              predictor='auto', random_state=42, reg_alpha=0, reg_lambda=1,\n",
    "              scale_pos_weight=1, subsample=1, tree_method='auto',\n",
    "              use_label_encoder=False, validate_parameters=1, verbosity=None)\n",
    "\n",
    "```"
   ]
  },
  {
   "cell_type": "markdown",
   "id": "c1539eac-b866-429f-8651-9d40a3803ee3",
   "metadata": {},
   "source": [
    "----------------------------------\n",
    "```\n",
    "gs.best_params_\n",
    "\n",
    "# result\n",
    "\n",
    "{'booster': 'gbtree',\n",
    " 'colsample_bytree': 0.9,\n",
    " 'learning_rate': 0.05,\n",
    " 'max_depth': 3,\n",
    " 'n_estimators': 600,\n",
    " 'subsample': 1,\n",
    " 'tree_method': 'auto'}\n",
    "```\n",
    "--------------------------------------"
   ]
  },
  {
   "cell_type": "markdown",
   "id": "e4c56c8a-9c58-4a04-a4c5-488cb7356109",
   "metadata": {},
   "source": [
    "```\n",
    "test_pred = gs.predict(X_test)\n",
    "train_pred = gs.predict(X_train)\n",
    "\n",
    "ConfusionMatrixDisplay.from_predictions(y_test, test_pred, display_labels=['Vaccinated', 'Unvaccinated'])\n",
    "\n",
    "accuracy_score(y_test, test_pred), accuracy_score(y_train, train_pred)\n",
    "\n",
    "precision_score(y_test, test_pred)\n",
    "\n",
    "recall_score(y_test, test_pred)\n",
    "\n",
    "roc_auc_score(y_test, test_pred)\n",
    "\n",
    "balanced_accuracy_score(y_test, test_pred)\n",
    "\n",
    "X.columns\n",
    "\n",
    "```"
   ]
  },
  {
   "cell_type": "markdown",
   "id": "34f53a56-a92f-403c-9193-8263b685de32",
   "metadata": {},
   "source": [
    "### Final Model for feature importance selection\n",
    "This model has classes switched so that vaccinated = 0, unvaccinated = 1, \n",
    "and, uses SMOTE class balanced data, as well as the new engineered features"
   ]
  },
  {
   "cell_type": "markdown",
   "id": "e2ba4b1e-07b1-4dae-bae2-15e6f1bb5ff2",
   "metadata": {},
   "source": [
    "I used the `feature_importances_` property to determine which features were most important for predicting the target label. The results are tabulated below: \n",
    "\n",
    "|feature|importance\n",
    "|-------|----------\n",
    "|doctor_recc_h1n1|0.2413746\n",
    "|health_insurance_yes|0.11566545\n",
    "|opinion_h1n1_vacc_effective|0.05127814\n",
    "|opinion_h1n1_risk|0.026844215\n",
    "|health_insurance_no_response|0.025501551\n",
    "|health_worker|0.017758252\n",
    "|education_College Graduate|0.016372165\n",
    "|opinion_seas_risk|0.015200119\n",
    "|doctor_recc_seasonal|0.014214159\n",
    "|h1n1_knowledge|0.013103445\n",
    "|education_no_response|0.013036097\n",
    "|opinion_seas_vacc_effective|0.0128032435\n",
    "|employment_industry_fcxhlnwr|0.012155328\n",
    "|sex_Male|0.011713602\n",
    "|employment_occupation_dcjcmpih|0.011503535"
   ]
  },
  {
   "cell_type": "code",
   "execution_count": 178,
   "id": "aabb00dd-726f-49c0-8463-d603c6c4c452",
   "metadata": {},
   "outputs": [
    {
     "data": {
      "text/plain": [
       "XGBClassifier(base_score=0.5, booster='gbtree', colsample_bylevel=1,\n",
       "              colsample_bynode=1, colsample_bytree=0.9,\n",
       "              enable_categorical=False, eval_metric='error', gamma=0, gpu_id=-1,\n",
       "              importance_type=None, interaction_constraints='',\n",
       "              learning_rate=0.05, max_delta_step=0, max_depth=3,\n",
       "              min_child_weight=1, missing=nan, monotone_constraints='()',\n",
       "              n_estimators=600, n_jobs=16, num_parallel_tree=1,\n",
       "              predictor='auto', random_state=42, reg_alpha=0, reg_lambda=1,\n",
       "              scale_pos_weight=1, subsample=1, tree_method='exact',\n",
       "              use_label_encoder=False, validate_parameters=1, verbosity=None)"
      ]
     },
     "execution_count": 178,
     "metadata": {},
     "output_type": "execute_result"
    }
   ],
   "source": [
    "xgb_best = xgb.XGBClassifier(random_state=42,\n",
    "                             use_label_encoder=False,\n",
    "                             eval_metric='error',\n",
    "                            booster='gbtree',\n",
    "                            colsample_bytree=0.9,\n",
    "                            learning_rate=0.05,\n",
    "                            max_depth=3,\n",
    "                            n_estimators=600,\n",
    "                            subsample=1)\n",
    "xgb_best.fit(X_train_over, y_train_over)"
   ]
  },
  {
   "cell_type": "code",
   "execution_count": 179,
   "id": "20ad9f5a-43b4-490b-b58d-afe643bda886",
   "metadata": {},
   "outputs": [
    {
     "name": "stderr",
     "output_type": "stream",
     "text": [
      "C:\\ProgramData\\Anaconda3\\envs\\xgboost\\lib\\site-packages\\xgboost\\data.py:262: FutureWarning: pandas.Int64Index is deprecated and will be removed from pandas in a future version. Use pandas.Index with the appropriate dtype instead.\n",
      "  elif isinstance(data.columns, (pd.Int64Index, pd.RangeIndex)):\n"
     ]
    }
   ],
   "source": [
    "test_pred = xgb_best.predict(X_test)\n",
    "train_pred = xgb_best.predict(X_train)"
   ]
  },
  {
   "cell_type": "code",
   "execution_count": 180,
   "id": "f67c5952-3096-459b-834f-49bc13be626b",
   "metadata": {},
   "outputs": [
    {
     "data": {
      "text/plain": [
       "<sklearn.metrics._plot.confusion_matrix.ConfusionMatrixDisplay at 0x15faf496ce0>"
      ]
     },
     "execution_count": 180,
     "metadata": {},
     "output_type": "execute_result"
    },
    {
     "data": {
      "image/png": "[encoded data removed]",
      "text/plain": [
       "<Figure size 432x288 with 2 Axes>"
      ]
     },
     "metadata": {
      "needs_background": "light"
     },
     "output_type": "display_data"
    }
   ],
   "source": [
    "ConfusionMatrixDisplay.from_predictions(y_test, test_pred, display_labels=['Vaccinated', 'Unvaccinated'])"
   ]
  },
  {
   "cell_type": "code",
   "execution_count": 181,
   "id": "59fb412c-2697-45e4-b618-2fc6b9bfee81",
   "metadata": {},
   "outputs": [
    {
     "data": {
      "text/plain": [
       "(0.8517298187808896, 0.8667998002995507)"
      ]
     },
     "execution_count": 181,
     "metadata": {},
     "output_type": "execute_result"
    }
   ],
   "source": [
    "accuracy_score(y_test, test_pred), accuracy_score(y_train, train_pred)"
   ]
  },
  {
   "cell_type": "code",
   "execution_count": 182,
   "id": "d31a6812-9f65-4ded-94d2-207f9cd669a5",
   "metadata": {},
   "outputs": [
    {
     "data": {
      "text/plain": [
       "0.8799857549857549"
      ]
     },
     "execution_count": 182,
     "metadata": {},
     "output_type": "execute_result"
    }
   ],
   "source": [
    "precision_score(y_test, test_pred)"
   ]
  },
  {
   "cell_type": "code",
   "execution_count": 183,
   "id": "f6fa53ad-ae62-4013-860d-b4e1d0f31303",
   "metadata": {},
   "outputs": [
    {
     "data": {
      "text/plain": [
       "0.9399011030810194"
      ]
     },
     "execution_count": 183,
     "metadata": {},
     "output_type": "execute_result"
    }
   ],
   "source": [
    "recall_score(y_test, test_pred)"
   ]
  },
  {
   "cell_type": "code",
   "execution_count": 184,
   "id": "df90d8f2-39fc-4304-b535-5d45097b3523",
   "metadata": {},
   "outputs": [
    {
     "data": {
      "text/plain": [
       "0.7324593605609466"
      ]
     },
     "execution_count": 184,
     "metadata": {},
     "output_type": "execute_result"
    }
   ],
   "source": [
    "roc_auc_score(y_test, test_pred)"
   ]
  },
  {
   "cell_type": "code",
   "execution_count": 185,
   "id": "4a752f10-b7c4-44e6-889b-b7ffe961a09d",
   "metadata": {},
   "outputs": [
    {
     "data": {
      "text/plain": [
       "0.7324593605609466"
      ]
     },
     "execution_count": 185,
     "metadata": {},
     "output_type": "execute_result"
    }
   ],
   "source": [
    "balanced_accuracy_score(y_test, test_pred)"
   ]
  },
  {
   "cell_type": "markdown",
   "id": "cc18d883-7450-47c0-92a3-046b6cc0d512",
   "metadata": {},
   "source": [
    "This code will save the best features in the data folder\n",
    "```\n",
    "pd.DataFrame({'feature': Xd.columns, 'importance':xgb_best.feature_importances_}).sort_values('importance', ascending=False).head(15).to_csv('../data/XGB_H1N1_feature_imp.csv', index=False)\n",
    "```"
   ]
  },
  {
   "cell_type": "code",
   "execution_count": 187,
   "id": "a66cc190-55eb-418f-8c91-6c36a8266086",
   "metadata": {},
   "outputs": [],
   "source": [
    "top_features = pd.DataFrame({'feature': Xd.columns, 'importance':xgb_best.feature_importances_}).sort_values('importance', ascending=False).head(20)"
   ]
  },
  {
   "cell_type": "code",
   "execution_count": 188,
   "id": "6236197f-ac32-42fc-815f-90f6e5a3551c",
   "metadata": {},
   "outputs": [
    {
     "data": {
      "text/html": [
       "<div>\n",
       "<style scoped>\n",
       "    .dataframe tbody tr th:only-of-type {\n",
       "        vertical-align: middle;\n",
       "    }\n",
       "\n",
       "    .dataframe tbody tr th {\n",
       "        vertical-align: top;\n",
       "    }\n",
       "\n",
       "    .dataframe thead th {\n",
       "        text-align: right;\n",
       "    }\n",
       "</style>\n",
       "<table border=\"1\" class=\"dataframe\">\n",
       "  <thead>\n",
       "    <tr style=\"text-align: right;\">\n",
       "      <th></th>\n",
       "      <th>feature</th>\n",
       "      <th>importance</th>\n",
       "    </tr>\n",
       "  </thead>\n",
       "  <tbody>\n",
       "    <tr>\n",
       "      <th>15</th>\n",
       "      <td>opinion_h1n1_vacc_effective</td>\n",
       "      <td>0.114573</td>\n",
       "    </tr>\n",
       "    <tr>\n",
       "      <th>29</th>\n",
       "      <td>health_insurance_no_response</td>\n",
       "      <td>0.107744</td>\n",
       "    </tr>\n",
       "    <tr>\n",
       "      <th>16</th>\n",
       "      <td>opinion_h1n1_risk</td>\n",
       "      <td>0.083394</td>\n",
       "    </tr>\n",
       "    <tr>\n",
       "      <th>2</th>\n",
       "      <td>h1n1_knowledge</td>\n",
       "      <td>0.069584</td>\n",
       "    </tr>\n",
       "    <tr>\n",
       "      <th>7</th>\n",
       "      <td>behavioral_large_gatherings</td>\n",
       "      <td>0.052834</td>\n",
       "    </tr>\n",
       "    <tr>\n",
       "      <th>42</th>\n",
       "      <td>marital_status_Not Married</td>\n",
       "      <td>0.051751</td>\n",
       "    </tr>\n",
       "    <tr>\n",
       "      <th>44</th>\n",
       "      <td>rent_or_own_Rent</td>\n",
       "      <td>0.039768</td>\n",
       "    </tr>\n",
       "    <tr>\n",
       "      <th>9</th>\n",
       "      <td>behavioral_touch_face</td>\n",
       "      <td>0.035462</td>\n",
       "    </tr>\n",
       "    <tr>\n",
       "      <th>19</th>\n",
       "      <td>opinion_seas_risk</td>\n",
       "      <td>0.032780</td>\n",
       "    </tr>\n",
       "    <tr>\n",
       "      <th>18</th>\n",
       "      <td>opinion_seas_vacc_effective</td>\n",
       "      <td>0.027051</td>\n",
       "    </tr>\n",
       "    <tr>\n",
       "      <th>31</th>\n",
       "      <td>education_&lt; 12 Years</td>\n",
       "      <td>0.019743</td>\n",
       "    </tr>\n",
       "    <tr>\n",
       "      <th>4</th>\n",
       "      <td>behavioral_avoidance</td>\n",
       "      <td>0.019139</td>\n",
       "    </tr>\n",
       "    <tr>\n",
       "      <th>10</th>\n",
       "      <td>doctor_recc_h1n1</td>\n",
       "      <td>0.019077</td>\n",
       "    </tr>\n",
       "    <tr>\n",
       "      <th>8</th>\n",
       "      <td>behavioral_outside_home</td>\n",
       "      <td>0.017481</td>\n",
       "    </tr>\n",
       "    <tr>\n",
       "      <th>22</th>\n",
       "      <td>household_adults</td>\n",
       "      <td>0.017237</td>\n",
       "    </tr>\n",
       "    <tr>\n",
       "      <th>30</th>\n",
       "      <td>health_insurance_yes</td>\n",
       "      <td>0.013723</td>\n",
       "    </tr>\n",
       "    <tr>\n",
       "      <th>54</th>\n",
       "      <td>hhs_geo_region_lzgpxyit</td>\n",
       "      <td>0.013609</td>\n",
       "    </tr>\n",
       "    <tr>\n",
       "      <th>20</th>\n",
       "      <td>opinion_seas_sick_from_vacc</td>\n",
       "      <td>0.012432</td>\n",
       "    </tr>\n",
       "    <tr>\n",
       "      <th>13</th>\n",
       "      <td>child_under_6_months</td>\n",
       "      <td>0.010604</td>\n",
       "    </tr>\n",
       "    <tr>\n",
       "      <th>5</th>\n",
       "      <td>behavioral_face_mask</td>\n",
       "      <td>0.009460</td>\n",
       "    </tr>\n",
       "  </tbody>\n",
       "</table>\n",
       "</div>"
      ],
      "text/plain": [
       "                         feature  importance\n",
       "15   opinion_h1n1_vacc_effective    0.114573\n",
       "29  health_insurance_no_response    0.107744\n",
       "16             opinion_h1n1_risk    0.083394\n",
       "2                 h1n1_knowledge    0.069584\n",
       "7    behavioral_large_gatherings    0.052834\n",
       "42    marital_status_Not Married    0.051751\n",
       "44              rent_or_own_Rent    0.039768\n",
       "9          behavioral_touch_face    0.035462\n",
       "19             opinion_seas_risk    0.032780\n",
       "18   opinion_seas_vacc_effective    0.027051\n",
       "31          education_< 12 Years    0.019743\n",
       "4           behavioral_avoidance    0.019139\n",
       "10              doctor_recc_h1n1    0.019077\n",
       "8        behavioral_outside_home    0.017481\n",
       "22              household_adults    0.017237\n",
       "30          health_insurance_yes    0.013723\n",
       "54       hhs_geo_region_lzgpxyit    0.013609\n",
       "20   opinion_seas_sick_from_vacc    0.012432\n",
       "13          child_under_6_months    0.010604\n",
       "5           behavioral_face_mask    0.009460"
      ]
     },
     "execution_count": 188,
     "metadata": {},
     "output_type": "execute_result"
    }
   ],
   "source": [
    "top_features"
   ]
  },
  {
   "cell_type": "code",
   "execution_count": 189,
   "id": "6b5aa69a-6a1e-4066-9688-37bc7494e304",
   "metadata": {},
   "outputs": [],
   "source": [
    "import matplotlib.pyplot as plt"
   ]
  },
  {
   "cell_type": "code",
   "execution_count": 195,
   "id": "1043efc6-7de3-4cdc-b4ff-73d7396fbd45",
   "metadata": {},
   "outputs": [
    {
     "data": {
      "image/png": "[encoded data removed]",
      "text/plain": [
       "<Figure size 576x720 with 1 Axes>"
      ]
     },
     "metadata": {
      "needs_background": "light"
     },
     "output_type": "display_data"
    }
   ],
   "source": [
    "plt.figure(figsize=(8,10))\n",
    "sns.barplot(data=top_features, y='feature', x='importance')\n",
    "plt.title(\"Top 15 most important features\", size=20)\n",
    "plt.xlabel('feature imprtance', size=18)\n",
    "plt.ylabel('feature', size=18)\n",
    "plt.xticks(size=15)\n",
    "plt.yticks(size=15);"
   ]
  },
  {
   "cell_type": "markdown",
   "id": "3dfd19ce-e8c3-4af1-9f5d-1737934b9a2c",
   "metadata": {},
   "source": [
    "### Summary"
   ]
  },
  {
   "cell_type": "markdown",
   "id": "43a58e9b-158f-4a02-921d-eb13994f161d",
   "metadata": {},
   "source": [
    "Optimized for | Features Used | Accuracy | Precision | Recall | Roc_Auc\n",
    "--------------------|---------------|----------|-----------|--------|--------\n",
    "roc_auc    |All features, target classes switched (unvacc = 1)| 0.855| 0.878 |0.948|0.730\n",
    "roc_auc| All features + seasonal flu, target classes switched| 0.871|0.894|0.949|0.766 \n",
    "Recall| All features, target classes switched|0.847|0.854|0.971|0.679\n",
    "Recall|All features + engineered features, target classes switched|0.000|0.858|0.966|0.688|\n",
    "Recall|Same as above + RandomOverSampler|0.810|0.930|0.821|0.796\n",
    "Recall| Same as above but SMOTE | 0.000| 0.864| 0.955|0.701\n",
    "Recall| Same as above, but gridsearched specifically with SMOTE balanced data|0.951|0.899|0.939|0.732"
   ]
  }
 ],
 "metadata": {
  "kernelspec": {
   "display_name": "Python [conda env:root] *",
   "language": "python",
   "name": "conda-root-py"
  },
  "language_info": {
   "codemirror_mode": {
    "name": "ipython",
    "version": 3
   },
   "file_extension": ".py",
   "mimetype": "text/x-python",
   "name": "python",
   "nbconvert_exporter": "python",
   "pygments_lexer": "ipython3",
   "version": "3.9.7"
  }
 },
 "nbformat": 4,
 "nbformat_minor": 5
}
