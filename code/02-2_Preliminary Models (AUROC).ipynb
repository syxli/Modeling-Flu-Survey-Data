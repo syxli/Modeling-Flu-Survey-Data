{
 "cells": [
  {
   "cell_type": "markdown",
   "id": "7be95c91-e4f6-469b-8062-29d69acdb849",
   "metadata": {},
   "source": [
    "# Preliminary Modeling (AUROC)\n",
    "Using GridsearchCV for Logistic Regression, multinomial Naive Bayes, <em>k</em>-NN, and Random Forest classifiers to build a model maximizing AUROC. AUROC is preferred for H1N1 which has imbalanced classes."
   ]
  },
  {
   "cell_type": "markdown",
   "id": "939baeb3-8a1f-4458-bdcd-aef05569642a",
   "metadata": {},
   "source": [
    "### Imports"
   ]
  },
  {
   "cell_type": "code",
   "execution_count": 1,
   "id": "c6881f2c-2a3e-4587-a472-8f5093a45b95",
   "metadata": {},
   "outputs": [],
   "source": [
    "import pandas as pd\n",
    "import numpy as np\n",
    "import matplotlib.pyplot as plt\n",
    "from sklearn.model_selection import train_test_split, GridSearchCV\n",
    "from sklearn.preprocessing import OneHotEncoder, StandardScaler\n",
    "from sklearn.pipeline import Pipeline\n",
    "from sklearn.naive_bayes import MultinomialNB\n",
    "from sklearn.linear_model import LogisticRegression\n",
    "from sklearn.neighbors import KNeighborsClassifier\n",
    "from sklearn.ensemble import RandomForestClassifier\n",
    "from sklearn.metrics import confusion_matrix, plot_confusion_matrix"
   ]
  },
  {
   "cell_type": "markdown",
   "id": "2e0d637a-bdb6-45e5-ae5b-9056f5ffff26",
   "metadata": {},
   "source": [
    "### Setting up data"
   ]
  },
  {
   "cell_type": "code",
   "execution_count": 2,
   "id": "bd73ebf1-3d00-428b-992a-34dc79d5b7c6",
   "metadata": {},
   "outputs": [],
   "source": [
    "#read in data\n",
    "data = pd.read_csv('../data/train_clean.csv', index_col='respondent_id')"
   ]
  },
  {
   "cell_type": "code",
   "execution_count": 8,
   "id": "0612ea50-af11-4a43-9b89-3912500b5b2c",
   "metadata": {},
   "outputs": [],
   "source": [
    "cols = list(data.select_dtypes('object').columns)"
   ]
  },
  {
   "cell_type": "code",
   "execution_count": 10,
   "id": "168f7969-ebac-4618-94cc-3170638d5932",
   "metadata": {},
   "outputs": [],
   "source": [
    "data = pd.get_dummies(data=data, columns=cols, drop_first=True)"
   ]
  },
  {
   "cell_type": "code",
   "execution_count": 12,
   "id": "3ebdc639-2f19-47a4-ad38-d4647e294776",
   "metadata": {},
   "outputs": [],
   "source": [
    "#Set up variables\n",
    "X = data.drop(columns=['h1n1_vaccine', 'seasonal_vaccine'])\n",
    "y_h1n1 = data['h1n1_vaccine']\n",
    "y_szn = data['seasonal_vaccine']"
   ]
  },
  {
   "cell_type": "code",
   "execution_count": 13,
   "id": "60cfea57-d50e-4539-8aff-d3403024fea1",
   "metadata": {},
   "outputs": [],
   "source": [
    "#Setting up pipelines and parameters\n",
    "pipe_log = Pipeline([\n",
    "    ('log', LogisticRegression(max_iter=5000))\n",
    "])\n",
    "\n",
    "pipe_mnb = Pipeline([\n",
    "    ('mnb', MultinomialNB())\n",
    "])\n",
    "\n",
    "pipe_knn = Pipeline([\n",
    "    ('knn', KNeighborsClassifier())\n",
    "])\n",
    "\n",
    "pipe_rfc = Pipeline([\n",
    "    ('rfc', RandomForestClassifier())\n",
    "])\n",
    "\n",
    "log_par = {\n",
    "    'log__C': [1, 0.1, 0.01, 0.001],\n",
    "    'log__solver': ['liblinear', 'lbfgs']\n",
    "}\n",
    "\n",
    "mnb_par = {\n",
    "}\n",
    "\n",
    "knn_par = {\n",
    "    'knn__n_neighbors': [3, 5, 7, 9],\n",
    "    'knn__weights': ['uniform', 'distance'],\n",
    "    'knn__p': [1, 2],\n",
    "}\n",
    "    \n",
    "rfc_par = {\n",
    "    'rfc__n_estimators': [50, 100, 150, 200],\n",
    "    'rfc__max_depth': [None, 1, 2, 3, 4, 5],\n",
    "    'rfc__max_features': [6, 8, 10]\n",
    "}"
   ]
  },
  {
   "cell_type": "markdown",
   "id": "f461e101-a37b-4d34-94ca-14fb25bd3dd8",
   "metadata": {},
   "source": [
    "### Models for Seasonal Flu"
   ]
  },
  {
   "cell_type": "code",
   "execution_count": 18,
   "id": "d1d4d717-b4e4-46e4-8904-079e228f3695",
   "metadata": {},
   "outputs": [],
   "source": [
    "X_train, X_test, y_train, y_test = train_test_split(X, y_szn, random_state=42, stratify = y_szn)"
   ]
  },
  {
   "cell_type": "code",
   "execution_count": 21,
   "id": "c04681ce-5167-47c9-85f6-659e253c8184",
   "metadata": {},
   "outputs": [],
   "source": [
    "gsl = GridSearchCV(pipe_log, param_grid = log_par, scoring = 'roc_auc', n_jobs = -1, cv = 5)"
   ]
  },
  {
   "cell_type": "code",
   "execution_count": 22,
   "id": "06ded3da-772d-447d-a2d1-92f1f75dce84",
   "metadata": {},
   "outputs": [
    {
     "data": {
      "text/plain": [
       "GridSearchCV(cv=5,\n",
       "             estimator=Pipeline(steps=[('log',\n",
       "                                        LogisticRegression(max_iter=5000))]),\n",
       "             n_jobs=-1,\n",
       "             param_grid={'log__C': [1, 0.1, 0.01, 0.001],\n",
       "                         'log__solver': ['liblinear', 'lbfgs']},\n",
       "             scoring='roc_auc')"
      ]
     },
     "execution_count": 22,
     "metadata": {},
     "output_type": "execute_result"
    }
   ],
   "source": [
    "gsl.fit(X_train, y_train)"
   ]
  },
  {
   "cell_type": "code",
   "execution_count": 23,
   "id": "03d93618-66a7-46d2-9466-2956bc8a5a39",
   "metadata": {},
   "outputs": [],
   "source": [
    "gsm = GridSearchCV(pipe_mnb, param_grid = mnb_par, scoring = 'roc_auc', n_jobs = -1, cv = 5)"
   ]
  },
  {
   "cell_type": "code",
   "execution_count": 24,
   "id": "6999b855-1b6f-4b29-9797-2f05d9ed9c35",
   "metadata": {},
   "outputs": [
    {
     "data": {
      "text/plain": [
       "GridSearchCV(cv=5, estimator=Pipeline(steps=[('mnb', MultinomialNB())]),\n",
       "             n_jobs=-1, param_grid={}, scoring='roc_auc')"
      ]
     },
     "execution_count": 24,
     "metadata": {},
     "output_type": "execute_result"
    }
   ],
   "source": [
    "gsm.fit(X_train, y_train)"
   ]
  },
  {
   "cell_type": "code",
   "execution_count": 25,
   "id": "90546547-92cf-4962-b9a0-1ead2d499c4e",
   "metadata": {},
   "outputs": [],
   "source": [
    "gsk = GridSearchCV(pipe_knn, param_grid = knn_par, scoring = 'roc_auc', n_jobs = -1, cv = 5)"
   ]
  },
  {
   "cell_type": "code",
   "execution_count": 26,
   "id": "4cba23ca-e3a7-42ff-bc99-dda1050ef8f6",
   "metadata": {},
   "outputs": [
    {
     "data": {
      "text/plain": [
       "GridSearchCV(cv=5, estimator=Pipeline(steps=[('knn', KNeighborsClassifier())]),\n",
       "             n_jobs=-1,\n",
       "             param_grid={'knn__n_neighbors': [3, 5, 7, 9], 'knn__p': [1, 2],\n",
       "                         'knn__weights': ['uniform', 'distance']},\n",
       "             scoring='roc_auc')"
      ]
     },
     "execution_count": 26,
     "metadata": {},
     "output_type": "execute_result"
    }
   ],
   "source": [
    "gsk.fit(X_train, y_train)"
   ]
  },
  {
   "cell_type": "code",
   "execution_count": 27,
   "id": "27f047a1-233c-499e-b170-ef8c28c9b848",
   "metadata": {},
   "outputs": [],
   "source": [
    "gsr = GridSearchCV(pipe_rfc, param_grid = rfc_par, scoring = 'roc_auc', n_jobs = -1, cv = 5)"
   ]
  },
  {
   "cell_type": "code",
   "execution_count": 28,
   "id": "1926ecb2-9841-4beb-b5f4-a4b954e67621",
   "metadata": {},
   "outputs": [
    {
     "data": {
      "text/plain": [
       "GridSearchCV(cv=5,\n",
       "             estimator=Pipeline(steps=[('rfc', RandomForestClassifier())]),\n",
       "             n_jobs=-1,\n",
       "             param_grid={'rfc__max_depth': [None, 1, 2, 3, 4, 5],\n",
       "                         'rfc__max_features': [6, 8, 10],\n",
       "                         'rfc__n_estimators': [50, 100, 150, 200]},\n",
       "             scoring='roc_auc')"
      ]
     },
     "execution_count": 28,
     "metadata": {},
     "output_type": "execute_result"
    }
   ],
   "source": [
    "gsr.fit(X_train, y_train)"
   ]
  },
  {
   "cell_type": "markdown",
   "id": "ec38bfb3-dd30-4306-85e8-11cc14e1f86a",
   "metadata": {},
   "source": [
    "### Logistic Regression"
   ]
  },
  {
   "cell_type": "code",
   "execution_count": 29,
   "id": "4867947c-5fc7-491d-94be-b20ab42c4e0b",
   "metadata": {},
   "outputs": [
    {
     "data": {
      "text/plain": [
       "(0.8578840032703468, 0.8535572985704745)"
      ]
     },
     "execution_count": 29,
     "metadata": {},
     "output_type": "execute_result"
    }
   ],
   "source": [
    "gsl.score(X_train, y_train), gsl.score(X_test, y_test)"
   ]
  },
  {
   "cell_type": "code",
   "execution_count": 30,
   "id": "da51f1cc-917b-4db8-9aee-ff776c81a1a3",
   "metadata": {},
   "outputs": [
    {
     "data": {
      "image/png": "[encoded data removed]",
      "text/plain": [
       "<Figure size 432x288 with 2 Axes>"
      ]
     },
     "metadata": {
      "needs_background": "light"
     },
     "output_type": "display_data"
    }
   ],
   "source": [
    "plot_confusion_matrix(gsl, X_test, y_test, display_labels=['Received Vaccine', 'Did not Receive Vaccine'], cmap = 'plasma');"
   ]
  },
  {
   "cell_type": "markdown",
   "id": "7de0ddd3-9d56-4240-92cf-9cfa7345b0de",
   "metadata": {},
   "source": [
    "### Multinomial Naive Bayes"
   ]
  },
  {
   "cell_type": "code",
   "execution_count": 31,
   "id": "e2b8d4fe-6354-4a5a-930e-e48f91d0a448",
   "metadata": {},
   "outputs": [
    {
     "data": {
      "text/plain": [
       "(0.7853977777061862, 0.7830688641539751)"
      ]
     },
     "execution_count": 31,
     "metadata": {},
     "output_type": "execute_result"
    }
   ],
   "source": [
    "gsm.score(X_train, y_train), gsm.score(X_test, y_test)"
   ]
  },
  {
   "cell_type": "code",
   "execution_count": 32,
   "id": "621cea14-c45f-4525-822a-d97a0f807395",
   "metadata": {},
   "outputs": [
    {
     "data": {
      "image/png": "[encoded data removed]",
      "text/plain": [
       "<Figure size 432x288 with 2 Axes>"
      ]
     },
     "metadata": {
      "needs_background": "light"
     },
     "output_type": "display_data"
    }
   ],
   "source": [
    "plot_confusion_matrix(gsm, X_test, y_test, display_labels=['Received Vaccine', 'Did not Receive Vaccine'], cmap = 'plasma');"
   ]
  },
  {
   "cell_type": "markdown",
   "id": "399d342a-7fba-44e5-a7dc-76fd42e4b3da",
   "metadata": {},
   "source": [
    "### <em>k</em>-NN"
   ]
  },
  {
   "cell_type": "code",
   "execution_count": 33,
   "id": "b8f267b4-d845-4921-a523-3a44ada9788c",
   "metadata": {},
   "outputs": [
    {
     "data": {
      "text/plain": [
       "(1.0, 0.8104159665198822)"
      ]
     },
     "execution_count": 33,
     "metadata": {},
     "output_type": "execute_result"
    }
   ],
   "source": [
    "gsk.score(X_train, y_train), gsk.score(X_test, y_test)"
   ]
  },
  {
   "cell_type": "code",
   "execution_count": 34,
   "id": "478e54fa-b9a3-4257-bb6a-4cccb2582531",
   "metadata": {},
   "outputs": [
    {
     "data": {
      "image/png": "[encoded data removed]",
      "text/plain": [
       "<Figure size 432x288 with 2 Axes>"
      ]
     },
     "metadata": {
      "needs_background": "light"
     },
     "output_type": "display_data"
    }
   ],
   "source": [
    "plot_confusion_matrix(gsk, X_test, y_test, display_labels=['Received Vaccine', 'Did not Receive Vaccine'], cmap = 'plasma');"
   ]
  },
  {
   "cell_type": "markdown",
   "id": "88b8b5c7-e864-4c90-bf13-3cba6547b5c2",
   "metadata": {},
   "source": [
    "### Random Forest Classifier"
   ]
  },
  {
   "cell_type": "code",
   "execution_count": 35,
   "id": "654cbc34-4524-4acc-b0bd-57d1c567dedd",
   "metadata": {},
   "outputs": [
    {
     "data": {
      "text/plain": [
       "(1.0, 0.8514618163382167)"
      ]
     },
     "execution_count": 35,
     "metadata": {},
     "output_type": "execute_result"
    }
   ],
   "source": [
    "gsr.score(X_train, y_train), gsr.score(X_test, y_test)"
   ]
  },
  {
   "cell_type": "code",
   "execution_count": 36,
   "id": "932d3495-897d-4771-bd62-ae5ddfb4817d",
   "metadata": {},
   "outputs": [
    {
     "data": {
      "image/png": "[encoded data removed]",
      "text/plain": [
       "<Figure size 432x288 with 2 Axes>"
      ]
     },
     "metadata": {
      "needs_background": "light"
     },
     "output_type": "display_data"
    }
   ],
   "source": [
    "plot_confusion_matrix(gsr, X_test, y_test, display_labels=['Received Vaccine', 'Did not Receive Vaccine'], cmap = 'plasma');"
   ]
  },
  {
   "cell_type": "markdown",
   "id": "ff9893fa-c87a-465b-8846-a9ce2346dfc2",
   "metadata": {},
   "source": [
    "### Same models but for H1N1"
   ]
  },
  {
   "cell_type": "code",
   "execution_count": 37,
   "id": "895b80f3-1932-45bc-8da5-4f479440188b",
   "metadata": {},
   "outputs": [],
   "source": [
    "X_train2, X_test2, y_train2, y_test2 = train_test_split(X, y_h1n1, random_state=42, stratify = y_h1n1)"
   ]
  },
  {
   "cell_type": "code",
   "execution_count": 38,
   "id": "fe5b3bf0-2236-45c8-9501-ece6522213ca",
   "metadata": {},
   "outputs": [],
   "source": [
    "gsl2 = GridSearchCV(pipe_log, param_grid = log_par, scoring = 'roc_auc', n_jobs = -1, cv = 5)"
   ]
  },
  {
   "cell_type": "code",
   "execution_count": 39,
   "id": "d2a3f5e4-5b2f-4fba-872c-376020dc63ec",
   "metadata": {},
   "outputs": [
    {
     "data": {
      "text/plain": [
       "GridSearchCV(cv=5,\n",
       "             estimator=Pipeline(steps=[('log',\n",
       "                                        LogisticRegression(max_iter=5000))]),\n",
       "             n_jobs=-1,\n",
       "             param_grid={'log__C': [1, 0.1, 0.01, 0.001],\n",
       "                         'log__solver': ['liblinear', 'lbfgs']},\n",
       "             scoring='roc_auc')"
      ]
     },
     "execution_count": 39,
     "metadata": {},
     "output_type": "execute_result"
    }
   ],
   "source": [
    "gsl2.fit(X_train2, y_train2)"
   ]
  },
  {
   "cell_type": "code",
   "execution_count": 40,
   "id": "ef9cd4f5-4711-4b02-8c04-ba33ce1e6086",
   "metadata": {},
   "outputs": [],
   "source": [
    "gsm2 = GridSearchCV(pipe_mnb, param_grid = mnb_par, scoring = 'roc_auc', n_jobs = -1, cv = 5)"
   ]
  },
  {
   "cell_type": "code",
   "execution_count": 41,
   "id": "80eba258-f70f-40ef-918f-8dd7089b1d9a",
   "metadata": {},
   "outputs": [
    {
     "data": {
      "text/plain": [
       "GridSearchCV(cv=5, estimator=Pipeline(steps=[('mnb', MultinomialNB())]),\n",
       "             n_jobs=-1, param_grid={}, scoring='roc_auc')"
      ]
     },
     "execution_count": 41,
     "metadata": {},
     "output_type": "execute_result"
    }
   ],
   "source": [
    "gsm2.fit(X_train2, y_train2)"
   ]
  },
  {
   "cell_type": "code",
   "execution_count": 42,
   "id": "360e0657-2cb8-4a10-bb87-321e4b3c659f",
   "metadata": {},
   "outputs": [],
   "source": [
    "gsk2 = GridSearchCV(pipe_knn, param_grid = knn_par, scoring = 'roc_auc', n_jobs = -1, cv = 5)"
   ]
  },
  {
   "cell_type": "code",
   "execution_count": 43,
   "id": "9960d53f-d0f8-4189-84f6-dc0c02fb2d4c",
   "metadata": {},
   "outputs": [
    {
     "data": {
      "text/plain": [
       "GridSearchCV(cv=5, estimator=Pipeline(steps=[('knn', KNeighborsClassifier())]),\n",
       "             n_jobs=-1,\n",
       "             param_grid={'knn__n_neighbors': [3, 5, 7, 9], 'knn__p': [1, 2],\n",
       "                         'knn__weights': ['uniform', 'distance']},\n",
       "             scoring='roc_auc')"
      ]
     },
     "execution_count": 43,
     "metadata": {},
     "output_type": "execute_result"
    }
   ],
   "source": [
    "gsk2.fit(X_train2, y_train2)"
   ]
  },
  {
   "cell_type": "code",
   "execution_count": 44,
   "id": "d2bb9338-a404-4fcb-8052-aae9a463121f",
   "metadata": {},
   "outputs": [],
   "source": [
    "gsr2 = GridSearchCV(pipe_rfc, param_grid = rfc_par, scoring = 'roc_auc', n_jobs = -1, cv = 5)"
   ]
  },
  {
   "cell_type": "code",
   "execution_count": 45,
   "id": "7f4988e7-6467-47bc-820b-6a57a2f6ff32",
   "metadata": {},
   "outputs": [
    {
     "data": {
      "text/plain": [
       "GridSearchCV(cv=5,\n",
       "             estimator=Pipeline(steps=[('rfc', RandomForestClassifier())]),\n",
       "             n_jobs=-1,\n",
       "             param_grid={'rfc__max_depth': [None, 1, 2, 3, 4, 5],\n",
       "                         'rfc__max_features': [6, 8, 10],\n",
       "                         'rfc__n_estimators': [50, 100, 150, 200]},\n",
       "             scoring='roc_auc')"
      ]
     },
     "execution_count": 45,
     "metadata": {},
     "output_type": "execute_result"
    }
   ],
   "source": [
    "gsr2.fit(X_train2, y_train2)"
   ]
  },
  {
   "cell_type": "markdown",
   "id": "95e133e6-a4c8-4fbb-b1f5-a2d2cf72a5d0",
   "metadata": {},
   "source": [
    "### Logistic Regression"
   ]
  },
  {
   "cell_type": "code",
   "execution_count": 67,
   "id": "3c5dffb4-9065-4ff5-8607-569ed9aa2a42",
   "metadata": {},
   "outputs": [
    {
     "data": {
      "text/plain": [
       "{'log__C': 0.1, 'log__solver': 'lbfgs'}"
      ]
     },
     "execution_count": 67,
     "metadata": {},
     "output_type": "execute_result"
    }
   ],
   "source": [
    "gsl2.best_params_"
   ]
  },
  {
   "cell_type": "code",
   "execution_count": 46,
   "id": "79ae2401-dc14-430f-a0c2-f9e8a00bc007",
   "metadata": {},
   "outputs": [
    {
     "data": {
      "text/plain": [
       "(0.8666110421039106, 0.8550088177322869)"
      ]
     },
     "execution_count": 46,
     "metadata": {},
     "output_type": "execute_result"
    }
   ],
   "source": [
    "gsl2.score(X_train2, y_train2), gsl2.score(X_test2, y_test2)"
   ]
  },
  {
   "cell_type": "code",
   "execution_count": 68,
   "id": "ed004d57-5744-4bb3-81a3-419e171f9522",
   "metadata": {},
   "outputs": [
    {
     "data": {
      "image/png": "[encoded data removed]",
      "text/plain": [
       "<Figure size 432x288 with 2 Axes>"
      ]
     },
     "metadata": {
      "needs_background": "light"
     },
     "output_type": "display_data"
    }
   ],
   "source": [
    "plot_confusion_matrix(gsl2, X_test2, y_test2, display_labels=['Received Vaccine', 'Did not Receive Vaccine'], cmap = 'plasma', normalize='true');"
   ]
  },
  {
   "cell_type": "markdown",
   "id": "f085961b-be2d-4fae-8680-59130bb13bdc",
   "metadata": {},
   "source": [
    "### Multinomial Naive Bayes"
   ]
  },
  {
   "cell_type": "code",
   "execution_count": 48,
   "id": "9a915d13-60ef-46f0-9b35-2fa5878bc116",
   "metadata": {},
   "outputs": [
    {
     "data": {
      "text/plain": [
       "(0.8018562593462338, 0.7889522218031598)"
      ]
     },
     "execution_count": 48,
     "metadata": {},
     "output_type": "execute_result"
    }
   ],
   "source": [
    "gsm2.score(X_train2, y_train2), gsm2.score(X_test2, y_test2)"
   ]
  },
  {
   "cell_type": "code",
   "execution_count": 49,
   "id": "5580ee40-3894-4537-9c03-ea6ba39307af",
   "metadata": {},
   "outputs": [
    {
     "data": {
      "image/png": "[encoded data removed]",
      "text/plain": [
       "<Figure size 432x288 with 2 Axes>"
      ]
     },
     "metadata": {
      "needs_background": "light"
     },
     "output_type": "display_data"
    }
   ],
   "source": [
    "plot_confusion_matrix(gsm2, X_test2, y_test2, display_labels=['Received Vaccine', 'Did not Receive Vaccine'], cmap = 'plasma');"
   ]
  },
  {
   "cell_type": "markdown",
   "id": "06d1ee29-5b53-479d-9e8b-5b4c6e32bdb3",
   "metadata": {},
   "source": [
    "### <em>k</em>-NN"
   ]
  },
  {
   "cell_type": "code",
   "execution_count": 50,
   "id": "5a9b13da-e4e4-4501-8f4d-60bb8687a74c",
   "metadata": {},
   "outputs": [
    {
     "data": {
      "text/plain": [
       "(1.0, 0.7980549656069572)"
      ]
     },
     "execution_count": 50,
     "metadata": {},
     "output_type": "execute_result"
    }
   ],
   "source": [
    "gsk2.score(X_train2, y_train2), gsk2.score(X_test2, y_test2)"
   ]
  },
  {
   "cell_type": "code",
   "execution_count": 51,
   "id": "2768e9c7-d6a4-411d-9c5f-f2fde3d8b938",
   "metadata": {},
   "outputs": [
    {
     "data": {
      "image/png": "[encoded data removed]",
      "text/plain": [
       "<Figure size 432x288 with 2 Axes>"
      ]
     },
     "metadata": {
      "needs_background": "light"
     },
     "output_type": "display_data"
    }
   ],
   "source": [
    "plot_confusion_matrix(gsk2, X_test2, y_test2, display_labels=['Received Vaccine', 'Did not Receive Vaccine'], cmap = 'plasma');"
   ]
  },
  {
   "cell_type": "markdown",
   "id": "c5747a91-8787-4565-8b08-06dde88c632e",
   "metadata": {
    "tags": []
   },
   "source": [
    "### Random Forest Classifier"
   ]
  },
  {
   "cell_type": "code",
   "execution_count": 52,
   "id": "6c7fb2e0-cb5c-4f35-8274-693539e994a8",
   "metadata": {},
   "outputs": [
    {
     "data": {
      "text/plain": [
       "(1.0, 0.8537700597043172)"
      ]
     },
     "execution_count": 52,
     "metadata": {},
     "output_type": "execute_result"
    }
   ],
   "source": [
    "gsr2.score(X_train2, y_train2), gsr2.score(X_test2, y_test2)"
   ]
  },
  {
   "cell_type": "code",
   "execution_count": 53,
   "id": "4c1a3db7-a563-402e-98a2-859cff7b3af1",
   "metadata": {},
   "outputs": [
    {
     "data": {
      "image/png": "[encoded data removed]",
      "text/plain": [
       "<Figure size 432x288 with 2 Axes>"
      ]
     },
     "metadata": {
      "needs_background": "light"
     },
     "output_type": "display_data"
    }
   ],
   "source": [
    "plot_confusion_matrix(gsr2, X_test2, y_test2, display_labels=['Received Vaccine', 'Did not Receive Vaccine'], cmap = 'plasma');"
   ]
  }
 ],
 "metadata": {
  "kernelspec": {
   "display_name": "Python 3 (ipykernel)",
   "language": "python",
   "name": "python3"
  },
  "language_info": {
   "codemirror_mode": {
    "name": "ipython",
    "version": 3
   },
   "file_extension": ".py",
   "mimetype": "text/x-python",
   "name": "python",
   "nbconvert_exporter": "python",
   "pygments_lexer": "ipython3",
   "version": "3.9.7"
  }
 },
 "nbformat": 4,
 "nbformat_minor": 5
}
