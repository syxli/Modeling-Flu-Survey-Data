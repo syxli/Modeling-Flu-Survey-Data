{
 "cells": [
  {
   "cell_type": "markdown",
   "id": "64a9df61-e524-48a7-a1e9-83c6b75858fe",
   "metadata": {},
   "source": [
    "# Using Predicted Seasonal Flu in H1N1 model\n",
    "Using a true seasonal flu value offers a small but significant performance boost to H1N1 models. Since our test data will not have that, we are testing to see if our predicted seasonal flue values will have a similar effect."
   ]
  },
  {
   "cell_type": "markdown",
   "id": "8cec4092-767e-48cb-b0fa-da9826c18fa1",
   "metadata": {},
   "source": [
    "### Imports"
   ]
  },
  {
   "cell_type": "code",
   "execution_count": 3,
   "id": "d80a1025-7301-4af1-be98-8668b355ec3f",
   "metadata": {},
   "outputs": [],
   "source": [
    "import pandas as pd\n",
    "import numpy as np\n",
    "import matplotlib.pyplot as plt\n",
    "from sklearn.model_selection import train_test_split, GridSearchCV\n",
    "from sklearn.preprocessing import OneHotEncoder, StandardScaler\n",
    "from sklearn.pipeline import Pipeline\n",
    "from sklearn.naive_bayes import MultinomialNB\n",
    "from sklearn.linear_model import LogisticRegression\n",
    "from sklearn.neighbors import KNeighborsClassifier\n",
    "from sklearn.ensemble import RandomForestClassifier\n",
    "from sklearn.metrics import confusion_matrix, plot_confusion_matrix"
   ]
  },
  {
   "cell_type": "markdown",
   "id": "170b7840-c999-4e7b-b7a8-85216ba64bbb",
   "metadata": {},
   "source": [
    "### Setting up data"
   ]
  },
  {
   "cell_type": "code",
   "execution_count": 4,
   "id": "e8b27b74-6b1f-4e74-9b9d-ce19bfe86ed7",
   "metadata": {},
   "outputs": [],
   "source": [
    "#read in data\n",
    "data = pd.read_csv('../data/train_clean.csv', index_col='respondent_id')"
   ]
  },
  {
   "cell_type": "code",
   "execution_count": 5,
   "id": "7479ff4d-df01-413f-ad2d-5b1fa2d67084",
   "metadata": {},
   "outputs": [],
   "source": [
    "cols = list(data.select_dtypes('object').columns)"
   ]
  },
  {
   "cell_type": "code",
   "execution_count": 6,
   "id": "e6c58d82-17f2-4837-b2b3-94d5a99fc423",
   "metadata": {},
   "outputs": [],
   "source": [
    "data = pd.get_dummies(data=data, columns=cols, drop_first=True)"
   ]
  },
  {
   "cell_type": "code",
   "execution_count": 7,
   "id": "89ce7a1f-7d0c-44ed-a8ba-c7ca61f163db",
   "metadata": {},
   "outputs": [],
   "source": [
    "#Set up variables\n",
    "X = data.drop(columns=['h1n1_vaccine', 'seasonal_vaccine'])\n",
    "y_szn = data['seasonal_vaccine']\n",
    "y_h1n1 = data['h1n1_vaccine']"
   ]
  },
  {
   "cell_type": "code",
   "execution_count": 8,
   "id": "6ed2b079-a0eb-4165-8b9f-6493d8fa27f2",
   "metadata": {},
   "outputs": [],
   "source": [
    "#Setting up pipelines and parameters\n",
    "pipe_log = Pipeline([\n",
    "    ('log', LogisticRegression(max_iter=5000))\n",
    "])\n",
    "\n",
    "pipe_mnb = Pipeline([\n",
    "    ('mnb', MultinomialNB())\n",
    "])\n",
    "\n",
    "pipe_knn = Pipeline([\n",
    "    ('knn', KNeighborsClassifier())\n",
    "])\n",
    "\n",
    "log_par = {\n",
    "    'log__C': [100, 10, 1, 0.1, 0.01, 0.001],\n",
    "    'log__solver': ['liblinear', 'lbfgs'],\n",
    "    'log__penalty': ['l1', 'l2'],\n",
    "    'log__class_weight': ['balanced']\n",
    "}\n",
    "\n",
    "mnb_par = {\n",
    "}\n",
    "\n",
    "knn_par = {\n",
    "    'knn__n_neighbors': [3, 5, 7, 9],\n",
    "    'knn__weights': ['uniform', 'distance'],\n",
    "    'knn__p': [1, 2, 3],\n",
    "}"
   ]
  },
  {
   "cell_type": "markdown",
   "id": "0055c21b-8c6e-4aaa-aee5-ec43d1509b85",
   "metadata": {
    "tags": []
   },
   "source": [
    "### Models for Seasonal Flu"
   ]
  },
  {
   "cell_type": "code",
   "execution_count": 9,
   "id": "41286c60-15e9-4ac2-ba9a-2138c6f5309a",
   "metadata": {},
   "outputs": [],
   "source": [
    "X_train, X_test, y_train, y_test = train_test_split(X, y_szn, random_state=42, stratify = y_szn)"
   ]
  },
  {
   "cell_type": "code",
   "execution_count": 10,
   "id": "a4eebb76-d860-4f81-89d5-4a2d329b6f7d",
   "metadata": {},
   "outputs": [],
   "source": [
    "gsl = GridSearchCV(pipe_log, param_grid = log_par, scoring = 'roc_auc', n_jobs = -1, cv = 5)"
   ]
  },
  {
   "cell_type": "code",
   "execution_count": 11,
   "id": "76adc55d-a792-422d-9b3e-c0da4fa39781",
   "metadata": {},
   "outputs": [
    {
     "name": "stderr",
     "output_type": "stream",
     "text": [
      "C:\\Users\\fusio\\anaconda3\\lib\\site-packages\\sklearn\\model_selection\\_search.py:922: UserWarning: One or more of the test scores are non-finite: [0.85421237        nan 0.85421092 0.85420852 0.85423256        nan\n",
      " 0.85422004 0.85422069 0.85444703        nan 0.85426481 0.85430298\n",
      " 0.85371495        nan 0.85321742 0.85426186 0.84119655        nan\n",
      " 0.84275709 0.85086724 0.73144729        nan 0.82236292 0.83700643]\n",
      "  warnings.warn(\n"
     ]
    },
    {
     "data": {
      "text/plain": [
       "GridSearchCV(cv=5,\n",
       "             estimator=Pipeline(steps=[('log',\n",
       "                                        LogisticRegression(max_iter=5000))]),\n",
       "             n_jobs=-1,\n",
       "             param_grid={'log__C': [100, 10, 1, 0.1, 0.01, 0.001],\n",
       "                         'log__class_weight': ['balanced'],\n",
       "                         'log__penalty': ['l1', 'l2'],\n",
       "                         'log__solver': ['liblinear', 'lbfgs']},\n",
       "             scoring='roc_auc')"
      ]
     },
     "execution_count": 11,
     "metadata": {},
     "output_type": "execute_result"
    }
   ],
   "source": [
    "gsl.fit(X_train, y_train)"
   ]
  },
  {
   "cell_type": "markdown",
   "id": "ef3d2421-c13d-46a4-be73-ecc0106b5c3f",
   "metadata": {
    "tags": []
   },
   "source": [
    "### Adding Predicted Seasonal Flu into Data"
   ]
  },
  {
   "cell_type": "code",
   "execution_count": 12,
   "id": "a104d5f0-e43f-4de3-b4c2-1bde4213feca",
   "metadata": {},
   "outputs": [],
   "source": [
    "preds = gsl.predict(data.drop(columns=['h1n1_vaccine', 'seasonal_vaccine']))"
   ]
  },
  {
   "cell_type": "code",
   "execution_count": 13,
   "id": "786b96b7-f85a-4d0e-befd-06a1f78aba6a",
   "metadata": {},
   "outputs": [],
   "source": [
    "X2 = data.drop(columns=['h1n1_vaccine', 'seasonal_vaccine'])"
   ]
  },
  {
   "cell_type": "code",
   "execution_count": 14,
   "id": "5b2f70e2-f13e-4556-b126-523cfaf571ad",
   "metadata": {},
   "outputs": [],
   "source": [
    "X2['seasonal_vaccine'] = preds"
   ]
  },
  {
   "cell_type": "markdown",
   "id": "629929dc-91c6-4b08-bdb7-4a632bdf0db8",
   "metadata": {
    "tags": []
   },
   "source": [
    "### Models for H1N1\n",
    "Logistic regression provides the best performance, so we will use it to generate our seasonal flu predictions."
   ]
  },
  {
   "cell_type": "code",
   "execution_count": 15,
   "id": "a2d4d218-bfa4-445f-842a-61cfd6db2742",
   "metadata": {},
   "outputs": [],
   "source": [
    "X_train2, X_test2, y_train2, y_test2 = train_test_split(X2, y_h1n1, random_state=42, stratify = y_h1n1)"
   ]
  },
  {
   "cell_type": "code",
   "execution_count": 16,
   "id": "8bc822a9-a0ee-43de-a096-c913cc46231b",
   "metadata": {},
   "outputs": [],
   "source": [
    "gsl2 = GridSearchCV(pipe_log, param_grid = log_par, scoring = 'roc_auc', n_jobs = -1, cv = 5)"
   ]
  },
  {
   "cell_type": "code",
   "execution_count": 17,
   "id": "97582f25-79af-4217-83bf-8eb166878be4",
   "metadata": {},
   "outputs": [
    {
     "name": "stderr",
     "output_type": "stream",
     "text": [
      "C:\\Users\\fusio\\anaconda3\\lib\\site-packages\\sklearn\\model_selection\\_search.py:922: UserWarning: One or more of the test scores are non-finite: [0.86252594        nan 0.86252542 0.86252825 0.86256959        nan\n",
      " 0.86254493 0.86255022 0.8628607         nan 0.8626551  0.86271194\n",
      " 0.8629477         nan 0.86206342 0.86304812 0.85097901        nan\n",
      " 0.85501468 0.86116805 0.79744497        nan 0.83224948 0.84483756]\n",
      "  warnings.warn(\n"
     ]
    },
    {
     "data": {
      "text/plain": [
       "GridSearchCV(cv=5,\n",
       "             estimator=Pipeline(steps=[('log',\n",
       "                                        LogisticRegression(max_iter=5000))]),\n",
       "             n_jobs=-1,\n",
       "             param_grid={'log__C': [100, 10, 1, 0.1, 0.01, 0.001],\n",
       "                         'log__class_weight': ['balanced'],\n",
       "                         'log__penalty': ['l1', 'l2'],\n",
       "                         'log__solver': ['liblinear', 'lbfgs']},\n",
       "             scoring='roc_auc')"
      ]
     },
     "execution_count": 17,
     "metadata": {},
     "output_type": "execute_result"
    }
   ],
   "source": [
    "gsl2.fit(X_train2, y_train2)"
   ]
  },
  {
   "cell_type": "code",
   "execution_count": 40,
   "id": "9bc4b9f8-0344-4e8e-9a87-b1586e7a7d88",
   "metadata": {},
   "outputs": [],
   "source": [
    "gsm2 = GridSearchCV(pipe_mnb, param_grid = mnb_par, scoring = 'roc_auc', n_jobs = -1, cv = 5)"
   ]
  },
  {
   "cell_type": "code",
   "execution_count": 41,
   "id": "a2c28e7f-0fa0-4b2d-b7fe-8f78b590e8a2",
   "metadata": {},
   "outputs": [
    {
     "data": {
      "text/plain": [
       "GridSearchCV(cv=5, estimator=Pipeline(steps=[('mnb', MultinomialNB())]),\n",
       "             n_jobs=-1, param_grid={}, scoring='roc_auc')"
      ]
     },
     "execution_count": 41,
     "metadata": {},
     "output_type": "execute_result"
    }
   ],
   "source": [
    "gsm2.fit(X_train2, y_train2)"
   ]
  },
  {
   "cell_type": "code",
   "execution_count": 42,
   "id": "a6dcc561-1f05-4bf8-ae31-dbf2d45e76b3",
   "metadata": {},
   "outputs": [],
   "source": [
    "gsk2 = GridSearchCV(pipe_knn, param_grid = knn_par, scoring = 'roc_auc', n_jobs = -1, cv = 5)"
   ]
  },
  {
   "cell_type": "code",
   "execution_count": 43,
   "id": "8a53434d-fbc1-4b39-8d64-3f2bb31759a9",
   "metadata": {},
   "outputs": [
    {
     "data": {
      "text/plain": [
       "GridSearchCV(cv=5, estimator=Pipeline(steps=[('knn', KNeighborsClassifier())]),\n",
       "             n_jobs=-1,\n",
       "             param_grid={'knn__n_neighbors': [3, 5, 7, 9], 'knn__p': [1, 2, 3],\n",
       "                         'knn__weights': ['uniform', 'distance']},\n",
       "             scoring='roc_auc')"
      ]
     },
     "execution_count": 43,
     "metadata": {},
     "output_type": "execute_result"
    }
   ],
   "source": [
    "gsk2.fit(X_train2, y_train2)"
   ]
  },
  {
   "cell_type": "code",
   "execution_count": 18,
   "id": "d51f0a31-e4e0-431f-85d4-19095cc2f730",
   "metadata": {},
   "outputs": [
    {
     "data": {
      "text/plain": [
       "(0.8677667924935892, 0.8567044117611581)"
      ]
     },
     "execution_count": 18,
     "metadata": {},
     "output_type": "execute_result"
    }
   ],
   "source": [
    "gsl2.score(X_train2, y_train2), gsl2.score(X_test2, y_test2)"
   ]
  },
  {
   "cell_type": "code",
   "execution_count": 19,
   "id": "6e07ced5-6918-4a27-8f1c-ae352b257ff8",
   "metadata": {},
   "outputs": [
    {
     "data": {
      "image/png": "[encoded data removed]",
      "text/plain": [
       "<Figure size 432x288 with 2 Axes>"
      ]
     },
     "metadata": {
      "needs_background": "light"
     },
     "output_type": "display_data"
    }
   ],
   "source": [
    "plot_confusion_matrix(gsl2, X_test2, y_test2, display_labels=['Received Vaccine', 'Did not Receive Vaccine'], cmap = 'plasma', normalize='true');"
   ]
  },
  {
   "cell_type": "code",
   "execution_count": 46,
   "id": "74e2a609-d14c-4e97-9193-9e39460df4df",
   "metadata": {},
   "outputs": [
    {
     "data": {
      "text/plain": [
       "(0.8016322812166539, 0.7910539220613791)"
      ]
     },
     "execution_count": 46,
     "metadata": {},
     "output_type": "execute_result"
    }
   ],
   "source": [
    "gsm2.score(X_train2, y_train2), gsm2.score(X_test2, y_test2)"
   ]
  },
  {
   "cell_type": "code",
   "execution_count": 47,
   "id": "8b6313b5-6298-4dce-9e33-b9e61bad68aa",
   "metadata": {},
   "outputs": [
    {
     "data": {
      "image/png": "[encoded data removed]",
      "text/plain": [
       "<Figure size 432x288 with 2 Axes>"
      ]
     },
     "metadata": {
      "needs_background": "light"
     },
     "output_type": "display_data"
    }
   ],
   "source": [
    "plot_confusion_matrix(gsm2, X_test2, y_test2, display_labels=['Received Vaccine', 'Did not Receive Vaccine'], cmap = 'plasma');"
   ]
  },
  {
   "cell_type": "code",
   "execution_count": 48,
   "id": "bbfd685d-6ab2-4e00-af1d-0c66b16abcb4",
   "metadata": {},
   "outputs": [
    {
     "data": {
      "text/plain": [
       "(1.0, 0.7967686274762094)"
      ]
     },
     "execution_count": 48,
     "metadata": {},
     "output_type": "execute_result"
    }
   ],
   "source": [
    "gsk2.score(X_train2, y_train2), gsk2.score(X_test2, y_test2)"
   ]
  },
  {
   "cell_type": "code",
   "execution_count": 49,
   "id": "d1372d56-515a-4f27-8bc8-09967a8950ea",
   "metadata": {},
   "outputs": [
    {
     "data": {
      "image/png": "[encoded data removed]",
      "text/plain": [
       "<Figure size 432x288 with 2 Axes>"
      ]
     },
     "metadata": {
      "needs_background": "light"
     },
     "output_type": "display_data"
    }
   ],
   "source": [
    "plot_confusion_matrix(gsk2, X_test2, y_test2, display_labels=['Received Vaccine', 'Did not Receive Vaccine'], cmap = 'plasma');"
   ]
  },
  {
   "cell_type": "markdown",
   "id": "8e14ef9c-8304-471b-896f-08d3893db645",
   "metadata": {
    "tags": []
   },
   "source": [
    "### Results\n",
    "\n",
    "In general models didn't perform much better and came at the price of decreased accuracy. We need to rethink our metrics and problem statement."
   ]
  },
  {
   "cell_type": "code",
   "execution_count": null,
   "id": "26927432-2086-4bee-96fb-b221e1ab4d2a",
   "metadata": {},
   "outputs": [],
   "source": []
  }
 ],
 "metadata": {
  "kernelspec": {
   "display_name": "Python 3 (ipykernel)",
   "language": "python",
   "name": "python3"
  },
  "language_info": {
   "codemirror_mode": {
    "name": "ipython",
    "version": 3
   },
   "file_extension": ".py",
   "mimetype": "text/x-python",
   "name": "python",
   "nbconvert_exporter": "python",
   "pygments_lexer": "ipython3",
   "version": "3.9.7"
  }
 },
 "nbformat": 4,
 "nbformat_minor": 5
}
