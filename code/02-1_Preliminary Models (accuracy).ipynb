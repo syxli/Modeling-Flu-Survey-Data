{
 "cells": [
  {
   "cell_type": "markdown",
   "id": "2dea0e18-1ea8-4566-9924-170b49356c5d",
   "metadata": {},
   "source": [
    "# Preliminary Modeling (Accuracy)\n",
    "Using GridsearchCV for Logistic Regression, multinomial Naive Bayes, <em>k</em>-NN, and Random Forest classifiers to build a model maximizing Accuracy. Accuracy is preferred for seasonal flu which has relatively balanced classes."
   ]
  },
  {
   "cell_type": "markdown",
   "id": "939baeb3-8a1f-4458-bdcd-aef05569642a",
   "metadata": {
    "tags": []
   },
   "source": [
    "### Imports"
   ]
  },
  {
   "cell_type": "code",
   "execution_count": 2,
   "id": "c6881f2c-2a3e-4587-a472-8f5093a45b95",
   "metadata": {},
   "outputs": [],
   "source": [
    "import pandas as pd\n",
    "import numpy as np\n",
    "import matplotlib.pyplot as plt\n",
    "from sklearn.model_selection import train_test_split, GridSearchCV\n",
    "from sklearn.preprocessing import OneHotEncoder, StandardScaler\n",
    "from sklearn.pipeline import Pipeline\n",
    "from sklearn.naive_bayes import MultinomialNB\n",
    "from sklearn.linear_model import LogisticRegression\n",
    "from sklearn.neighbors import KNeighborsClassifier\n",
    "from sklearn.ensemble import RandomForestClassifier\n",
    "from sklearn.metrics import confusion_matrix, plot_confusion_matrix"
   ]
  },
  {
   "cell_type": "markdown",
   "id": "2e0d637a-bdb6-45e5-ae5b-9056f5ffff26",
   "metadata": {},
   "source": [
    "### Setting up data"
   ]
  },
  {
   "cell_type": "code",
   "execution_count": 5,
   "id": "bd73ebf1-3d00-428b-992a-34dc79d5b7c6",
   "metadata": {},
   "outputs": [],
   "source": [
    "#read in data\n",
    "data = pd.read_csv('../data/train_clean.csv', index_col='respondent_id')"
   ]
  },
  {
   "cell_type": "code",
   "execution_count": 20,
   "id": "0612ea50-af11-4a43-9b89-3912500b5b2c",
   "metadata": {},
   "outputs": [],
   "source": [
    "cols = list(data.select_dtypes('object').columns)"
   ]
  },
  {
   "cell_type": "code",
   "execution_count": 27,
   "id": "168f7969-ebac-4618-94cc-3170638d5932",
   "metadata": {},
   "outputs": [],
   "source": [
    "data = pd.get_dummies(data=data, columns=cols, drop_first=True)"
   ]
  },
  {
   "cell_type": "code",
   "execution_count": 49,
   "id": "3ebdc639-2f19-47a4-ad38-d4647e294776",
   "metadata": {},
   "outputs": [],
   "source": [
    "#Set up variables\n",
    "X = data.drop(columns=['h1n1_vaccine', 'seasonal_vaccine'])\n",
    "y_h1n1 = data['h1n1_vaccine']\n",
    "y_szn = data['seasonal_vaccine']"
   ]
  },
  {
   "cell_type": "code",
   "execution_count": 50,
   "id": "60cfea57-d50e-4539-8aff-d3403024fea1",
   "metadata": {},
   "outputs": [],
   "source": [
    "#Setting up pipelines and parameters\n",
    "pipe_log = Pipeline([\n",
    "    ('log', LogisticRegression(max_iter=5000))\n",
    "])\n",
    "\n",
    "pipe_mnb = Pipeline([\n",
    "    ('mnb', MultinomialNB())\n",
    "])\n",
    "\n",
    "pipe_knn = Pipeline([\n",
    "    ('knn', KNeighborsClassifier())\n",
    "])\n",
    "\n",
    "pipe_rfc = Pipeline([\n",
    "    ('rfc', RandomForestClassifier())\n",
    "])\n",
    "\n",
    "log_par = {\n",
    "    'log__C': [1, 0.1, 0.01, 0.001],\n",
    "    'log__solver': ['liblinear', 'lbfgs']\n",
    "}\n",
    "\n",
    "mnb_par = {\n",
    "}\n",
    "\n",
    "knn_par = {\n",
    "    'knn__n_neighbors': [3, 5, 7, 9],\n",
    "    'knn__weights': ['uniform', 'distance'],\n",
    "    'knn__p': [1, 2],\n",
    "}\n",
    "    \n",
    "rfc_par = {\n",
    "    'rfc__n_estimators': [50, 100, 150, 200],\n",
    "    'rfc__max_depth': [None, 1, 2, 3, 4, 5],\n",
    "    'rfc__max_features': [6, 8, 10]\n",
    "}"
   ]
  },
  {
   "cell_type": "markdown",
   "id": "f461e101-a37b-4d34-94ca-14fb25bd3dd8",
   "metadata": {},
   "source": [
    "### Models for Seasonal Flu"
   ]
  },
  {
   "cell_type": "code",
   "execution_count": 110,
   "id": "d1d4d717-b4e4-46e4-8904-079e228f3695",
   "metadata": {},
   "outputs": [],
   "source": [
    "X_train, X_test, y_train, y_test = train_test_split(X, y_szn, random_state=42, stratify = y_szn)"
   ]
  },
  {
   "cell_type": "code",
   "execution_count": 111,
   "id": "c04681ce-5167-47c9-85f6-659e253c8184",
   "metadata": {},
   "outputs": [],
   "source": [
    "gsl = GridSearchCV(pipe_log, param_grid = log_par, n_jobs = -1, cv = 5)"
   ]
  },
  {
   "cell_type": "code",
   "execution_count": 112,
   "id": "06ded3da-772d-447d-a2d1-92f1f75dce84",
   "metadata": {},
   "outputs": [
    {
     "data": {
      "text/plain": [
       "GridSearchCV(cv=5,\n",
       "             estimator=Pipeline(steps=[('log',\n",
       "                                        LogisticRegression(max_iter=5000))]),\n",
       "             n_jobs=-1,\n",
       "             param_grid={'log__C': [1, 0.1, 0.01, 0.001],\n",
       "                         'log__solver': ['liblinear', 'lbfgs']})"
      ]
     },
     "execution_count": 112,
     "metadata": {},
     "output_type": "execute_result"
    }
   ],
   "source": [
    "gsl.fit(X_train, y_train)"
   ]
  },
  {
   "cell_type": "code",
   "execution_count": 113,
   "id": "03d93618-66a7-46d2-9466-2956bc8a5a39",
   "metadata": {},
   "outputs": [],
   "source": [
    "gsm = GridSearchCV(pipe_mnb, param_grid = mnb_par, n_jobs = -1, cv = 5)"
   ]
  },
  {
   "cell_type": "code",
   "execution_count": 114,
   "id": "6999b855-1b6f-4b29-9797-2f05d9ed9c35",
   "metadata": {},
   "outputs": [
    {
     "data": {
      "text/plain": [
       "GridSearchCV(cv=5, estimator=Pipeline(steps=[('mnb', MultinomialNB())]),\n",
       "             n_jobs=-1, param_grid={})"
      ]
     },
     "execution_count": 114,
     "metadata": {},
     "output_type": "execute_result"
    }
   ],
   "source": [
    "gsm.fit(X_train, y_train)"
   ]
  },
  {
   "cell_type": "code",
   "execution_count": 115,
   "id": "90546547-92cf-4962-b9a0-1ead2d499c4e",
   "metadata": {},
   "outputs": [],
   "source": [
    "gsk = GridSearchCV(pipe_knn, param_grid = knn_par, n_jobs = -1, cv = 5)"
   ]
  },
  {
   "cell_type": "code",
   "execution_count": 116,
   "id": "4cba23ca-e3a7-42ff-bc99-dda1050ef8f6",
   "metadata": {},
   "outputs": [
    {
     "data": {
      "text/plain": [
       "GridSearchCV(cv=5, estimator=Pipeline(steps=[('knn', KNeighborsClassifier())]),\n",
       "             n_jobs=-1,\n",
       "             param_grid={'knn__n_neighbors': [3, 5, 7, 9], 'knn__p': [1, 2],\n",
       "                         'knn__weights': ['uniform', 'distance']})"
      ]
     },
     "execution_count": 116,
     "metadata": {},
     "output_type": "execute_result"
    }
   ],
   "source": [
    "gsk.fit(X_train, y_train)"
   ]
  },
  {
   "cell_type": "code",
   "execution_count": 117,
   "id": "27f047a1-233c-499e-b170-ef8c28c9b848",
   "metadata": {},
   "outputs": [],
   "source": [
    "gsr = GridSearchCV(pipe_rfc, param_grid = rfc_par, n_jobs = -1, cv = 5)"
   ]
  },
  {
   "cell_type": "code",
   "execution_count": 118,
   "id": "1926ecb2-9841-4beb-b5f4-a4b954e67621",
   "metadata": {
    "tags": []
   },
   "outputs": [
    {
     "data": {
      "text/plain": [
       "GridSearchCV(cv=5,\n",
       "             estimator=Pipeline(steps=[('rfc', RandomForestClassifier())]),\n",
       "             n_jobs=-1,\n",
       "             param_grid={'rfc__max_depth': [None, 1, 2, 3, 4, 5],\n",
       "                         'rfc__max_features': [6, 8, 10],\n",
       "                         'rfc__n_estimators': [50, 100, 150, 200]})"
      ]
     },
     "execution_count": 118,
     "metadata": {},
     "output_type": "execute_result"
    }
   ],
   "source": [
    "gsr.fit(X_train, y_train)"
   ]
  },
  {
   "cell_type": "markdown",
   "id": "6324d669-8332-4151-b229-d24d0330d7d1",
   "metadata": {},
   "source": [
    "### Logistic Regression"
   ]
  },
  {
   "cell_type": "code",
   "execution_count": 120,
   "id": "4867947c-5fc7-491d-94be-b20ab42c4e0b",
   "metadata": {},
   "outputs": [
    {
     "data": {
      "text/plain": [
       "(0.7831253120319521, 0.7787928710498727)"
      ]
     },
     "execution_count": 120,
     "metadata": {},
     "output_type": "execute_result"
    }
   ],
   "source": [
    "gsl.score(X_train, y_train), gsl.score(X_test, y_test)"
   ]
  },
  {
   "cell_type": "code",
   "execution_count": 121,
   "id": "da51f1cc-917b-4db8-9aee-ff776c81a1a3",
   "metadata": {},
   "outputs": [
    {
     "data": {
      "image/png": "[encoded data removed]",
      "text/plain": [
       "<Figure size 432x288 with 2 Axes>"
      ]
     },
     "metadata": {
      "needs_background": "light"
     },
     "output_type": "display_data"
    }
   ],
   "source": [
    "plot_confusion_matrix(gsl, X_test, y_test, display_labels=['Received Vaccine', 'Did not Receive Vaccine'], cmap = 'plasma');"
   ]
  },
  {
   "cell_type": "markdown",
   "id": "138849b4-937e-4ada-afe3-ca458a2a7fea",
   "metadata": {},
   "source": [
    "### Multinomial Naive Bayes"
   ]
  },
  {
   "cell_type": "code",
   "execution_count": 122,
   "id": "e2b8d4fe-6354-4a5a-930e-e48f91d0a448",
   "metadata": {},
   "outputs": [
    {
     "data": {
      "text/plain": [
       "(0.7169246130803795, 0.7158903699266137)"
      ]
     },
     "execution_count": 122,
     "metadata": {},
     "output_type": "execute_result"
    }
   ],
   "source": [
    "gsm.score(X_train, y_train), gsm.score(X_test, y_test)"
   ]
  },
  {
   "cell_type": "code",
   "execution_count": 123,
   "id": "621cea14-c45f-4525-822a-d97a0f807395",
   "metadata": {},
   "outputs": [
    {
     "data": {
      "image/png": "[encoded data removed]",
      "text/plain": [
       "<Figure size 432x288 with 2 Axes>"
      ]
     },
     "metadata": {
      "needs_background": "light"
     },
     "output_type": "display_data"
    }
   ],
   "source": [
    "plot_confusion_matrix(gsm, X_test, y_test, display_labels=['Received Vaccine', 'Did not Receive Vaccine'], cmap = 'plasma');"
   ]
  },
  {
   "cell_type": "markdown",
   "id": "ed08f390-1ca3-4e5d-aec4-39d9904f5cb9",
   "metadata": {},
   "source": [
    "### <em>k</em>-NN"
   ]
  },
  {
   "cell_type": "code",
   "execution_count": 124,
   "id": "b8f267b4-d845-4921-a523-3a44ada9788c",
   "metadata": {},
   "outputs": [
    {
     "data": {
      "text/plain": [
       "(0.7897653519720419, 0.742998352553542)"
      ]
     },
     "execution_count": 124,
     "metadata": {},
     "output_type": "execute_result"
    }
   ],
   "source": [
    "gsk.score(X_train, y_train), gsk.score(X_test, y_test)"
   ]
  },
  {
   "cell_type": "code",
   "execution_count": 125,
   "id": "478e54fa-b9a3-4257-bb6a-4cccb2582531",
   "metadata": {},
   "outputs": [
    {
     "data": {
      "image/png": "[encoded data removed]",
      "text/plain": [
       "<Figure size 432x288 with 2 Axes>"
      ]
     },
     "metadata": {
      "needs_background": "light"
     },
     "output_type": "display_data"
    }
   ],
   "source": [
    "plot_confusion_matrix(gsk, X_test, y_test, display_labels=['Received Vaccine', 'Did not Receive Vaccine'], cmap = 'plasma');"
   ]
  },
  {
   "cell_type": "markdown",
   "id": "50df8687-eec1-4844-bca5-98768e04f20f",
   "metadata": {},
   "source": [
    "### Random Forest Classifier"
   ]
  },
  {
   "cell_type": "code",
   "execution_count": 126,
   "id": "654cbc34-4524-4acc-b0bd-57d1c567dedd",
   "metadata": {},
   "outputs": [
    {
     "data": {
      "text/plain": [
       "(1.0, 0.7753482102740752)"
      ]
     },
     "execution_count": 126,
     "metadata": {},
     "output_type": "execute_result"
    }
   ],
   "source": [
    "gsr.score(X_train, y_train), gsr.score(X_test, y_test)"
   ]
  },
  {
   "cell_type": "code",
   "execution_count": 127,
   "id": "932d3495-897d-4771-bd62-ae5ddfb4817d",
   "metadata": {},
   "outputs": [
    {
     "data": {
      "image/png": "[encoded data removed]",
      "text/plain": [
       "<Figure size 432x288 with 2 Axes>"
      ]
     },
     "metadata": {
      "needs_background": "light"
     },
     "output_type": "display_data"
    }
   ],
   "source": [
    "plot_confusion_matrix(gsr, X_test, y_test, display_labels=['Received Vaccine', 'Did not Receive Vaccine'], cmap = 'plasma');"
   ]
  },
  {
   "cell_type": "markdown",
   "id": "ff9893fa-c87a-465b-8846-a9ce2346dfc2",
   "metadata": {},
   "source": [
    "### Same models but for H1N1"
   ]
  },
  {
   "cell_type": "code",
   "execution_count": 128,
   "id": "895b80f3-1932-45bc-8da5-4f479440188b",
   "metadata": {},
   "outputs": [],
   "source": [
    "X_train2, X_test2, y_train2, y_test2 = train_test_split(X, y_h1n1, random_state=42, stratify = y_h1n1)"
   ]
  },
  {
   "cell_type": "code",
   "execution_count": 129,
   "id": "fe5b3bf0-2236-45c8-9501-ece6522213ca",
   "metadata": {},
   "outputs": [],
   "source": [
    "gsl2 = GridSearchCV(pipe_log, param_grid = log_par, n_jobs = -1, cv = 5)"
   ]
  },
  {
   "cell_type": "code",
   "execution_count": 130,
   "id": "d2a3f5e4-5b2f-4fba-872c-376020dc63ec",
   "metadata": {},
   "outputs": [
    {
     "data": {
      "text/plain": [
       "GridSearchCV(cv=5,\n",
       "             estimator=Pipeline(steps=[('log',\n",
       "                                        LogisticRegression(max_iter=5000))]),\n",
       "             n_jobs=-1,\n",
       "             param_grid={'log__C': [1, 0.1, 0.01, 0.001],\n",
       "                         'log__solver': ['liblinear', 'lbfgs']})"
      ]
     },
     "execution_count": 130,
     "metadata": {},
     "output_type": "execute_result"
    }
   ],
   "source": [
    "gsl2.fit(X_train2, y_train2)"
   ]
  },
  {
   "cell_type": "code",
   "execution_count": 131,
   "id": "ef9cd4f5-4711-4b02-8c04-ba33ce1e6086",
   "metadata": {},
   "outputs": [],
   "source": [
    "gsm2 = GridSearchCV(pipe_mnb, param_grid = mnb_par, n_jobs = -1, cv = 5)"
   ]
  },
  {
   "cell_type": "code",
   "execution_count": 132,
   "id": "80eba258-f70f-40ef-918f-8dd7089b1d9a",
   "metadata": {},
   "outputs": [
    {
     "data": {
      "text/plain": [
       "GridSearchCV(cv=5, estimator=Pipeline(steps=[('mnb', MultinomialNB())]),\n",
       "             n_jobs=-1, param_grid={})"
      ]
     },
     "execution_count": 132,
     "metadata": {},
     "output_type": "execute_result"
    }
   ],
   "source": [
    "gsm2.fit(X_train2, y_train2)"
   ]
  },
  {
   "cell_type": "code",
   "execution_count": 133,
   "id": "360e0657-2cb8-4a10-bb87-321e4b3c659f",
   "metadata": {},
   "outputs": [],
   "source": [
    "gsk2 = GridSearchCV(pipe_knn, param_grid = knn_par, n_jobs = -1, cv = 5)"
   ]
  },
  {
   "cell_type": "code",
   "execution_count": 134,
   "id": "9960d53f-d0f8-4189-84f6-dc0c02fb2d4c",
   "metadata": {},
   "outputs": [
    {
     "data": {
      "text/plain": [
       "GridSearchCV(cv=5, estimator=Pipeline(steps=[('knn', KNeighborsClassifier())]),\n",
       "             n_jobs=-1,\n",
       "             param_grid={'knn__n_neighbors': [3, 5, 7, 9], 'knn__p': [1, 2],\n",
       "                         'knn__weights': ['uniform', 'distance']})"
      ]
     },
     "execution_count": 134,
     "metadata": {},
     "output_type": "execute_result"
    }
   ],
   "source": [
    "gsk2.fit(X_train2, y_train2)"
   ]
  },
  {
   "cell_type": "code",
   "execution_count": 135,
   "id": "d2bb9338-a404-4fcb-8052-aae9a463121f",
   "metadata": {},
   "outputs": [],
   "source": [
    "gsr2 = GridSearchCV(pipe_rfc, param_grid = rfc_par, n_jobs = -1, cv = 5)"
   ]
  },
  {
   "cell_type": "code",
   "execution_count": 136,
   "id": "7f4988e7-6467-47bc-820b-6a57a2f6ff32",
   "metadata": {},
   "outputs": [
    {
     "data": {
      "text/plain": [
       "GridSearchCV(cv=5,\n",
       "             estimator=Pipeline(steps=[('rfc', RandomForestClassifier())]),\n",
       "             n_jobs=-1,\n",
       "             param_grid={'rfc__max_depth': [None, 1, 2, 3, 4, 5],\n",
       "                         'rfc__max_features': [6, 8, 10],\n",
       "                         'rfc__n_estimators': [50, 100, 150, 200]})"
      ]
     },
     "execution_count": 136,
     "metadata": {},
     "output_type": "execute_result"
    }
   ],
   "source": [
    "gsr2.fit(X_train2, y_train2)"
   ]
  },
  {
   "cell_type": "markdown",
   "id": "f7013881-d07a-4d7b-91ae-75cec5555260",
   "metadata": {},
   "source": [
    "### Logistic Regression"
   ]
  },
  {
   "cell_type": "code",
   "execution_count": 137,
   "id": "79ae2401-dc14-430f-a0c2-f9e8a00bc007",
   "metadata": {},
   "outputs": [
    {
     "data": {
      "text/plain": [
       "(0.854618072890664, 0.8475363187060057)"
      ]
     },
     "execution_count": 137,
     "metadata": {},
     "output_type": "execute_result"
    }
   ],
   "source": [
    "gsl2.score(X_train2, y_train2), gsl2.score(X_test2, y_test2)"
   ]
  },
  {
   "cell_type": "code",
   "execution_count": 138,
   "id": "ed004d57-5744-4bb3-81a3-419e171f9522",
   "metadata": {},
   "outputs": [
    {
     "data": {
      "image/png": "[encoded data removed]",
      "text/plain": [
       "<Figure size 432x288 with 2 Axes>"
      ]
     },
     "metadata": {
      "needs_background": "light"
     },
     "output_type": "display_data"
    }
   ],
   "source": [
    "plot_confusion_matrix(gsl2, X_test2, y_test2, display_labels=['Received Vaccine', 'Did not Receive Vaccine'], cmap = 'plasma');"
   ]
  },
  {
   "cell_type": "markdown",
   "id": "c98733ba-2676-4a59-a304-ac80deefc6db",
   "metadata": {},
   "source": [
    "### Multinomial Naive Bayes"
   ]
  },
  {
   "cell_type": "code",
   "execution_count": 139,
   "id": "9a915d13-60ef-46f0-9b35-2fa5878bc116",
   "metadata": {},
   "outputs": [
    {
     "data": {
      "text/plain": [
       "(0.8207189216175736, 0.8184813539014527)"
      ]
     },
     "execution_count": 139,
     "metadata": {},
     "output_type": "execute_result"
    }
   ],
   "source": [
    "gsm2.score(X_train2, y_train2), gsm2.score(X_test2, y_test2)"
   ]
  },
  {
   "cell_type": "code",
   "execution_count": 140,
   "id": "5580ee40-3894-4537-9c03-ea6ba39307af",
   "metadata": {},
   "outputs": [
    {
     "data": {
      "image/png": "[encoded data removed]",
      "text/plain": [
       "<Figure size 432x288 with 2 Axes>"
      ]
     },
     "metadata": {
      "needs_background": "light"
     },
     "output_type": "display_data"
    }
   ],
   "source": [
    "plot_confusion_matrix(gsm2, X_test2, y_test2, display_labels=['Received Vaccine', 'Did not Receive Vaccine'], cmap = 'plasma');"
   ]
  },
  {
   "cell_type": "markdown",
   "id": "a7eabac6-5770-4289-8611-c6dc62567201",
   "metadata": {},
   "source": [
    "### <em>k</em>-NN"
   ]
  },
  {
   "cell_type": "code",
   "execution_count": 141,
   "id": "5a9b13da-e4e4-4501-8f4d-60bb8687a74c",
   "metadata": {},
   "outputs": [
    {
     "data": {
      "text/plain": [
       "(1.0, 0.8330088363037292)"
      ]
     },
     "execution_count": 141,
     "metadata": {},
     "output_type": "execute_result"
    }
   ],
   "source": [
    "gsk2.score(X_train2, y_train2), gsk2.score(X_test2, y_test2)"
   ]
  },
  {
   "cell_type": "code",
   "execution_count": 142,
   "id": "2768e9c7-d6a4-411d-9c5f-f2fde3d8b938",
   "metadata": {},
   "outputs": [
    {
     "data": {
      "image/png": "[encoded data removed]",
      "text/plain": [
       "<Figure size 432x288 with 2 Axes>"
      ]
     },
     "metadata": {
      "needs_background": "light"
     },
     "output_type": "display_data"
    }
   ],
   "source": [
    "plot_confusion_matrix(gsk2, X_test2, y_test2, display_labels=['Received Vaccine', 'Did not Receive Vaccine'], cmap = 'plasma');"
   ]
  },
  {
   "cell_type": "markdown",
   "id": "01d7b2c3-91a4-4661-ba97-c6f9f290aab0",
   "metadata": {},
   "source": [
    "### Random Forest Classifier"
   ]
  },
  {
   "cell_type": "code",
   "execution_count": 143,
   "id": "6c7fb2e0-cb5c-4f35-8274-693539e994a8",
   "metadata": {},
   "outputs": [
    {
     "data": {
      "text/plain": [
       "(0.9999500748876685, 0.851430283061255)"
      ]
     },
     "execution_count": 143,
     "metadata": {},
     "output_type": "execute_result"
    }
   ],
   "source": [
    "gsr2.score(X_train2, y_train2), gsr2.score(X_test2, y_test2)"
   ]
  },
  {
   "cell_type": "code",
   "execution_count": 144,
   "id": "4c1a3db7-a563-402e-98a2-859cff7b3af1",
   "metadata": {},
   "outputs": [
    {
     "data": {
      "image/png": "[encoded data removed]",
      "text/plain": [
       "<Figure size 432x288 with 2 Axes>"
      ]
     },
     "metadata": {
      "needs_background": "light"
     },
     "output_type": "display_data"
    }
   ],
   "source": [
    "plot_confusion_matrix(gsr2, X_test2, y_test2, display_labels=['Received Vaccine', 'Did not Receive Vaccine'], cmap = 'plasma');"
   ]
  }
 ],
 "metadata": {
  "kernelspec": {
   "display_name": "Python 3 (ipykernel)",
   "language": "python",
   "name": "python3"
  },
  "language_info": {
   "codemirror_mode": {
    "name": "ipython",
    "version": 3
   },
   "file_extension": ".py",
   "mimetype": "text/x-python",
   "name": "python",
   "nbconvert_exporter": "python",
   "pygments_lexer": "ipython3",
   "version": "3.9.7"
  }
 },
 "nbformat": 4,
 "nbformat_minor": 5
}
